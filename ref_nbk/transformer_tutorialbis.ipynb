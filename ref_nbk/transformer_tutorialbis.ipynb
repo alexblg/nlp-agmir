{
 "cells": [
  {
   "cell_type": "code",
   "execution_count": 1,
   "metadata": {},
   "outputs": [],
   "source": [
    "%matplotlib inline"
   ]
  },
  {
   "cell_type": "code",
   "execution_count": 2,
   "metadata": {},
   "outputs": [],
   "source": [
    "import torchtext"
   ]
  },
  {
   "cell_type": "markdown",
   "metadata": {},
   "source": [
    "\n",
    "Sequence-to-Sequence Modeling with nn.Transformer and TorchText\n",
    "===============================================================\n",
    "\n",
    "This is a tutorial on how to train a sequence-to-sequence model\n",
    "that uses the\n",
    "`nn.Transformer <https://pytorch.org/docs/master/nn.html?highlight=nn%20transformer#torch.nn.Transformer>`__ module.\n",
    "\n",
    "PyTorch 1.2 release includes a standard transformer module based on the\n",
    "paper `Attention is All You\n",
    "Need <https://arxiv.org/pdf/1706.03762.pdf>`__. The transformer model\n",
    "has been proved to be superior in quality for many sequence-to-sequence\n",
    "problems while being more parallelizable. The ``nn.Transformer`` module\n",
    "relies entirely on an attention mechanism (another module recently\n",
    "implemented as `nn.MultiheadAttention <https://pytorch.org/docs/master/nn.html?highlight=multiheadattention#torch.nn.MultiheadAttention>`__) to draw global dependencies\n",
    "between input and output. The ``nn.Transformer`` module is now highly\n",
    "modularized such that a single component (like `nn.TransformerEncoder <https://pytorch.org/docs/master/nn.html?highlight=nn%20transformerencoder#torch.nn.TransformerEncoder>`__\n",
    "in this tutorial) can be easily adapted/composed.\n",
    "\n",
    "![](../_static/img/transformer_architecture.jpg)\n",
    "\n",
    "\n",
    "\n"
   ]
  },
  {
   "cell_type": "markdown",
   "metadata": {},
   "source": [
    "Define the model\n",
    "----------------\n",
    "\n",
    "\n"
   ]
  },
  {
   "cell_type": "markdown",
   "metadata": {},
   "source": [
    "In this tutorial, we train ``nn.TransformerEncoder`` model on a\n",
    "language modeling task. The language modeling task is to assign a\n",
    "probability for the likelihood of a given word (or a sequence of words)\n",
    "to follow a sequence of words. A sequence of tokens are passed to the embedding\n",
    "layer first, followed by a positional encoding layer to account for the order\n",
    "of the word (see the next paragraph for more details). The\n",
    "``nn.TransformerEncoder`` consists of multiple layers of\n",
    "`nn.TransformerEncoderLayer <https://pytorch.org/docs/master/nn.html?highlight=transformerencoderlayer#torch.nn.TransformerEncoderLayer>`__. Along with the input sequence, a square\n",
    "attention mask is required because the self-attention layers in\n",
    "``nn.TransformerEncoder`` are only allowed to attend the earlier positions in\n",
    "the sequence. For the language modeling task, any tokens on the future\n",
    "positions should be masked. To have the actual words, the output\n",
    "of ``nn.TransformerEncoder`` model is sent to the final Linear\n",
    "layer, which is followed by a log-Softmax function.\n",
    "\n",
    "\n"
   ]
  },
  {
   "cell_type": "code",
   "execution_count": 3,
   "metadata": {},
   "outputs": [],
   "source": [
    "import math\n",
    "import torch\n",
    "import torch.nn as nn\n",
    "import torch.nn.functional as F\n",
    "\n",
    "class TransformerModel(nn.Module):\n",
    "\n",
    "    def __init__(self, ntoken, ninp, nhead, nhid, nlayers, dropout=0.5):\n",
    "        super(TransformerModel, self).__init__()\n",
    "        from torch.nn import TransformerEncoder, TransformerEncoderLayer\n",
    "        self.model_type = 'Transformer'\n",
    "        self.src_mask = None\n",
    "        self.pos_encoder = PositionalEncoding(ninp, dropout)\n",
    "        encoder_layers = TransformerEncoderLayer(ninp, nhead, nhid, dropout)\n",
    "        self.transformer_encoder = TransformerEncoder(encoder_layers, nlayers)\n",
    "        self.encoder = nn.Embedding(ntoken, ninp)\n",
    "        self.ninp = ninp\n",
    "        self.decoder = nn.Linear(ninp, ntoken)\n",
    "\n",
    "        self.init_weights()\n",
    "\n",
    "    def _generate_square_subsequent_mask(self, sz):\n",
    "        mask = (torch.triu(torch.ones(sz, sz)) == 1).transpose(0, 1)\n",
    "        mask = mask.float().masked_fill(mask == 0, float('-inf')).masked_fill(mask == 1, float(0.0))\n",
    "        return mask\n",
    "\n",
    "    def init_weights(self):\n",
    "        initrange = 0.1\n",
    "        self.encoder.weight.data.uniform_(-initrange, initrange)\n",
    "        self.decoder.bias.data.zero_()\n",
    "        self.decoder.weight.data.uniform_(-initrange, initrange)\n",
    "\n",
    "    def forward(self, src):\n",
    "        if self.src_mask is None or self.src_mask.size(0) != len(src):\n",
    "            device = src.device\n",
    "            mask = self._generate_square_subsequent_mask(len(src)).to(device)\n",
    "            self.src_mask = mask\n",
    "\n",
    "        src = self.encoder(src) * math.sqrt(self.ninp)\n",
    "        src = self.pos_encoder(src)\n",
    "        output = self.transformer_encoder(src, self.src_mask)\n",
    "        output = self.decoder(output)\n",
    "        return output"
   ]
  },
  {
   "cell_type": "markdown",
   "metadata": {},
   "source": [
    "``PositionalEncoding`` module injects some information about the\n",
    "relative or absolute position of the tokens in the sequence. The\n",
    "positional encodings have the same dimension as the embeddings so that\n",
    "the two can be summed. Here, we use ``sine`` and ``cosine`` functions of\n",
    "different frequencies.\n",
    "\n",
    "\n"
   ]
  },
  {
   "cell_type": "code",
   "execution_count": 4,
   "metadata": {},
   "outputs": [],
   "source": [
    "class PositionalEncoding(nn.Module):\n",
    "\n",
    "    def __init__(self, d_model, dropout=0.1, max_len=5000):\n",
    "        super(PositionalEncoding, self).__init__()\n",
    "        self.dropout = nn.Dropout(p=dropout)\n",
    "\n",
    "        pe = torch.zeros(max_len, d_model)\n",
    "        position = torch.arange(0, max_len, dtype=torch.float).unsqueeze(1)\n",
    "        div_term = torch.exp(torch.arange(0, d_model, 2).float() * (-math.log(10000.0) / d_model))\n",
    "        pe[:, 0::2] = torch.sin(position * div_term)\n",
    "        pe[:, 1::2] = torch.cos(position * div_term)\n",
    "        pe = pe.unsqueeze(0).transpose(0, 1)\n",
    "        self.register_buffer('pe', pe)\n",
    "\n",
    "    def forward(self, x):\n",
    "        x = x + self.pe[:x.size(0), :]\n",
    "        return self.dropout(x)"
   ]
  },
  {
   "cell_type": "markdown",
   "metadata": {},
   "source": [
    "Load and batch data\n",
    "-------------------\n",
    "\n",
    "\n"
   ]
  },
  {
   "cell_type": "markdown",
   "metadata": {},
   "source": [
    "The training process uses Wikitext-2 dataset from ``torchtext``. The\n",
    "vocab object is built based on the train dataset and is used to numericalize\n",
    "tokens into tensors. Starting from sequential data, the ``batchify()``\n",
    "function arranges the dataset into columns, trimming off any tokens remaining\n",
    "after the data has been divided into batches of size ``batch_size``.\n",
    "For instance, with the alphabet as the sequence (total length of 26)\n",
    "and a batch size of 4, we would divide the alphabet into 4 sequences of\n",
    "length 6:\n",
    "\n",
    "\\begin{align}\\begin{bmatrix}\n",
    "  \\text{A} & \\text{B} & \\text{C} & \\ldots & \\text{X} & \\text{Y} & \\text{Z}\n",
    "  \\end{bmatrix}\n",
    "  \\Rightarrow\n",
    "  \\begin{bmatrix}\n",
    "  \\begin{bmatrix}\\text{A} \\\\ \\text{B} \\\\ \\text{C} \\\\ \\text{D} \\\\ \\text{E} \\\\ \\text{F}\\end{bmatrix} &\n",
    "  \\begin{bmatrix}\\text{G} \\\\ \\text{H} \\\\ \\text{I} \\\\ \\text{J} \\\\ \\text{K} \\\\ \\text{L}\\end{bmatrix} &\n",
    "  \\begin{bmatrix}\\text{M} \\\\ \\text{N} \\\\ \\text{O} \\\\ \\text{P} \\\\ \\text{Q} \\\\ \\text{R}\\end{bmatrix} &\n",
    "  \\begin{bmatrix}\\text{S} \\\\ \\text{T} \\\\ \\text{U} \\\\ \\text{V} \\\\ \\text{W} \\\\ \\text{X}\\end{bmatrix}\n",
    "  \\end{bmatrix}\\end{align}\n",
    "\n",
    "These columns are treated as independent by the model, which means that\n",
    "the dependence of ``G`` and ``F`` can not be learned, but allows more\n",
    "efficient batch processing.\n",
    "\n",
    "\n"
   ]
  },
  {
   "cell_type": "code",
   "execution_count": 5,
   "metadata": {},
   "outputs": [],
   "source": [
    "import torchtext\n",
    "from torchtext.data.utils import get_tokenizer\n",
    "TEXT = torchtext.data.Field(tokenize=get_tokenizer(\"basic_english\"),\n",
    "                            init_token='<sos>',\n",
    "                            eos_token='<eos>',\n",
    "                            lower=True)\n",
    "train_txt, val_txt, test_txt = torchtext.datasets.WikiText2.splits(TEXT)\n",
    "TEXT.build_vocab(train_txt)\n",
    "device = torch.device(\"cuda\" if torch.cuda.is_available() else \"cpu\")"
   ]
  },
  {
   "cell_type": "code",
   "execution_count": 6,
   "metadata": {},
   "outputs": [],
   "source": [
    "def batchify(data, bsz):\n",
    "    data = TEXT.numericalize([data.examples[0].text])\n",
    "    # Divide the dataset into bsz parts.\n",
    "    nbatch = data.size(0) // bsz\n",
    "    # Trim off any extra elements that wouldn't cleanly fit (remainders).\n",
    "    data = data.narrow(0, 0, nbatch * bsz)\n",
    "    # Evenly divide the data across the bsz batches.\n",
    "    data = data.view(bsz, -1).t().contiguous()\n",
    "    return data.to(device)\n",
    "\n",
    "batch_size = 20\n",
    "eval_batch_size = 10\n",
    "train_data = batchify(train_txt, batch_size)\n",
    "val_data = batchify(val_txt, eval_batch_size)\n",
    "test_data = batchify(test_txt, eval_batch_size)"
   ]
  },
  {
   "cell_type": "markdown",
   "metadata": {},
   "source": [
    "Functions to generate input and target sequence\n",
    "~~~~~~~~~~~~~~~~~~~~~~~~~~~~~~~~~~~~~~~~~~~~~~~~~\n",
    "\n",
    "\n"
   ]
  },
  {
   "cell_type": "markdown",
   "metadata": {},
   "source": [
    "``get_batch()`` function generates the input and target sequence for\n",
    "the transformer model. It subdivides the source data into chunks of\n",
    "length ``bptt``. For the language modeling task, the model needs the\n",
    "following words as ``Target``. For example, with a ``bptt`` value of 2,\n",
    "we’d get the following two Variables for ``i`` = 0:\n",
    "\n",
    "![](../_static/img/transformer_input_target.png)\n",
    "\n",
    "\n",
    "It should be noted that the chunks are along dimension 0, consistent\n",
    "with the ``S`` dimension in the Transformer model. The batch dimension\n",
    "``N`` is along dimension 1.\n",
    "\n",
    "\n"
   ]
  },
  {
   "cell_type": "code",
   "execution_count": 7,
   "metadata": {},
   "outputs": [],
   "source": [
    "bptt = 35\n",
    "def get_batch(source, i):\n",
    "    seq_len = min(bptt, len(source) - 1 - i)\n",
    "    data = source[i:i+seq_len]\n",
    "    target = source[i+1:i+1+seq_len].view(-1)\n",
    "    return data, target"
   ]
  },
  {
   "cell_type": "markdown",
   "metadata": {},
   "source": [
    "Initiate an instance\n",
    "--------------------\n",
    "\n",
    "\n"
   ]
  },
  {
   "cell_type": "markdown",
   "metadata": {},
   "source": [
    "The model is set up with the hyperparameter below. The vocab size is\n",
    "equal to the length of the vocab object.\n",
    "\n",
    "\n"
   ]
  },
  {
   "cell_type": "code",
   "execution_count": 8,
   "metadata": {},
   "outputs": [],
   "source": [
    "ntokens = len(TEXT.vocab.stoi) # the size of vocabulary\n",
    "emsize = 200 # embedding dimension\n",
    "nhid = 200 # the dimension of the feedforward network model in nn.TransformerEncoder\n",
    "nlayers = 2 # the number of nn.TransformerEncoderLayer in nn.TransformerEncoder\n",
    "nhead = 2 # the number of heads in the multiheadattention models\n",
    "dropout = 0.2 # the dropout value\n",
    "model = TransformerModel(ntokens, emsize, nhead, nhid, nlayers, dropout).to(device)"
   ]
  },
  {
   "cell_type": "markdown",
   "metadata": {},
   "source": [
    "Run the model\n",
    "-------------\n",
    "\n",
    "\n"
   ]
  },
  {
   "cell_type": "markdown",
   "metadata": {},
   "source": [
    "`CrossEntropyLoss <https://pytorch.org/docs/master/nn.html?highlight=crossentropyloss#torch.nn.CrossEntropyLoss>`__\n",
    "is applied to track the loss and\n",
    "`SGD <https://pytorch.org/docs/master/optim.html?highlight=sgd#torch.optim.SGD>`__\n",
    "implements stochastic gradient descent method as the optimizer. The initial\n",
    "learning rate is set to 5.0. `StepLR <https://pytorch.org/docs/master/optim.html?highlight=steplr#torch.optim.lr_scheduler.StepLR>`__ is\n",
    "applied to adjust the learn rate through epochs. During the\n",
    "training, we use\n",
    "`nn.utils.clip_grad_norm\\_ <https://pytorch.org/docs/master/nn.html?highlight=nn%20utils%20clip_grad_norm#torch.nn.utils.clip_grad_norm_>`__\n",
    "function to scale all the gradient together to prevent exploding.\n",
    "\n",
    "\n"
   ]
  },
  {
   "cell_type": "code",
   "execution_count": 9,
   "metadata": {},
   "outputs": [],
   "source": [
    "for batch, i in enumerate(range(0, train_data.size(0) - 1, bptt)):\n",
    "    data, targets = get_batch(train_data, i)\n",
    "    break"
   ]
  },
  {
   "cell_type": "code",
   "execution_count": 10,
   "metadata": {
    "collapsed": true
   },
   "outputs": [
    {
     "data": {
      "text/plain": [
       "tensor([[    3,    25,  1849,   570,     7,     5,     5,  9258,     4,    56,\n",
       "             0,     7,     6,  6634,     4,  6603,     6,     5,    65,    30],\n",
       "        [   12,    66,    13,  4889,   458,     8,  1045,    21, 19094,    34,\n",
       "           147,     4,     0,    10,  2280,  2294,    58,    35,  2438,  4064],\n",
       "        [ 3852, 13667,  2962,    68,     6, 28374,    39,   417,     0,  2034,\n",
       "            29,    88, 27804,   350,     7,    17,  4811,   902,    33,    20],\n",
       "        [ 3872,     5,     9,     4,   155,     8,  1669,    32,  2634,   257,\n",
       "             4,     5,     5,    11,  4568,  8205,    78,  5258,  7723, 12009],\n",
       "        [  884,    91,   963,   294,     4,   548,    29,   279,    37,     4,\n",
       "           391,    31,     4,  2614,   948, 13583,   405,   545,    15,    16],\n",
       "        [   12,    25,     5,     5,  1688,     0,    39,    59,  8785,     0,\n",
       "             6,    13,  3026,    43,    11,     6,     0,   349,  3134,  4538],\n",
       "        [    3,     6,    82,  1780,    21,     6,  2158,     4,     8,     8,\n",
       "            27,  1485,     0,   194,    96,   195,  3545,   101,  1150,  3486],\n",
       "        [    3,    25,    13,   885,     4,  6360,    15,   670,     0,    13,\n",
       "            26,    17,     5,   417,   894,    10,     5,     5,  2998,    27],\n",
       "        [20003,   190,    33,  1516,  1085,    34,   680,  3597,  2475,   664,\n",
       "            47,    11,   127,    63,     6,    46, 24995,    72, 10190,    26],\n",
       "        [   86,  9076, 10540,     6,     9,    74,   198,     7,     6,    17,\n",
       "          3134,  5312,     4,     4,     3, 25509,     5,  2034,     5,    86],\n",
       "        [ 3852,     5,     7,    48,  4870,   362,     6,   840,    45,    33,\n",
       "            21,     9,  4379,   183,    11,     5,     0,     9,   775,     0],\n",
       "        [   91,     8,   293,  1857,     5,    28,    16,     5,  2705,  1130,\n",
       "             0,    11,   615,   317,  4648,   543,     5,   361,    22,    10],\n",
       "        [    0,    66,  1933,    22,   104,    49,     4,   133,   171,     8,\n",
       "            50, 12127,    10,     6,  3683, 16138, 13801,     8, 14548,    11],\n",
       "        [ 3872,    25,    28,  5775,    64,    40,    98,     4,    25,  6583,\n",
       "         28555, 14110, 17910,     9,    22,     8,     7,   300,    29,   757],\n",
       "        [   24,     6,  5662,  6708,  2849,  1146,   234,  1092,     6,  4909,\n",
       "             5,     8,    11,     4,    49,  8545,     4,     6,   163,    10],\n",
       "        [  783,    25,     6,    11,    52,     5,     7,   454,    25,     7,\n",
       "          1183,  2459,  1684,   561,  2033,     7,  7582,     4,   276,  1556],\n",
       "        [28783,   112,     4,    98,    54,    35,     4,    26,   194,     4,\n",
       "           511,    11,   705,     5,     7, 11072,     8,    72,   180,    19],\n",
       "        [    5,  8088,   334,    61,   792,    13,  1669,    28,    43,   186,\n",
       "             7,   386,   923,     0, 15443,    60, 18920,  1311,     6,    30],\n",
       "        [ 6185,   471,     7,     5,     5, 12612,     5,     4,    66, 23025,\n",
       "             0,  1321,     5,  1232,     8,  2609,     5,  1992,  1193,  4064],\n",
       "        [    6,    70,  4014,  4135,   669, 16856,  7946,  1650,    25,     9,\n",
       "             5,   562,     8,   555, 27230,     5,     0,     7,   148,    26],\n",
       "        [ 3852,     6,    13,   385, 16882,     5, 10562,   134,     6,  1325,\n",
       "            11,     4,    13,    16,     5,     4,     8,  2525,   450,    20],\n",
       "        [    7,    31,  1623,  5072,    28, 16585,   552,     6,    25,     6,\n",
       "           663,   596,     4,    11,    56,  1408, 28426,    13,  3297,     4],\n",
       "        [    4,    47,     0,   570,  2420,     5,    33,  3629,    91,     9,\n",
       "           295,   198, 26410,  1509,   516,    13,     6,     9,    26,   261],\n",
       "        [ 5026,   794,    22,  4889,     8,     8,   359,  4393,  1016,    78,\n",
       "            10,     6,  6797,    15,  1069,  3488,     0,  2585,    19,  1111],\n",
       "        [   91,  1058,  6409,     5,   425,     0,    15,    13,    24,  2474,\n",
       "          6404,    59,    29,   680,    11,  2767,     5,     5,    67,   628],\n",
       "        [   23,   180,     9,    35,   595,     6,   680,    11,   171,     5,\n",
       "             6,    30,     4,  1862,  5475,    20, 18475,     8,  1017,    84],\n",
       "        [    5,    28,  6097,   513,     6,  4775,  1072,  3042,    25,    10,\n",
       "             0,   402,   704,   339,    21,     4,     8,     4,    11,    20],\n",
       "        [ 1840,     4,    50,   885,     3, 10567,    10,   161,     6,  1783,\n",
       "             5,     9,   155,    10,  6318,  7274,     0,   295,   878,     4],\n",
       "        [ 1021,   373,  9433,   535,     3,  1597, 26809,   279,    25,  6841,\n",
       "           238,     0,     4,   297,  7606,     8,    78,   200,  1060,   187],\n",
       "        [   10,     5,     6,  1516,    12,    97, 23594,    16,    73, 18558,\n",
       "            10,     5,  1526,     4,    24,    39,    36,    36,    84,     6],\n",
       "        [   17,     8,     9,     6,    12,     9,     5,   644,    43,     0,\n",
       "             0,     9,   705,   183,  2219,  7429,  1966,     9,  3524,     6],\n",
       "        [ 3852,  4312,  9049,     3,   942,   197,  3077,  9191,   171,    24,\n",
       "          1687,   382,     6,   945,     0,     6,     6,     0,  3163,     6],\n",
       "        [ 3872,   180,     5,    16,    12,   588,   121,     5,    25,   971,\n",
       "             5,  2089,     3,  3857,    23,    46,    82,     4,   150,   182],\n",
       "        [  884,    28,    27,   435,    12,     6,    63,   133,     6,     0,\n",
       "            13,    31,     3,    43,     8,  2997,    78,  5977,    52,   181],\n",
       "        [  632,     4,   127,     6,     3,  4775,     4,     4,    25,    23,\n",
       "           124,  5223,    12,   194,     4,     8,    36,  2142,   139,    37]],\n",
       "       device='cuda:0')"
      ]
     },
     "execution_count": 10,
     "metadata": {},
     "output_type": "execute_result"
    }
   ],
   "source": [
    "data"
   ]
  },
  {
   "cell_type": "code",
   "execution_count": 11,
   "metadata": {},
   "outputs": [
    {
     "data": {
      "text/plain": [
       "tensor([   12,    66,    13,  4889,   458,     8,  1045,    21, 19094,    34,\n",
       "          147,     4,     0,    10,  2280,  2294,    58,    35,  2438,  4064,\n",
       "         3852, 13667,  2962,    68,     6, 28374,    39,   417,     0,  2034,\n",
       "           29,    88, 27804,   350,     7,    17,  4811,   902,    33,    20,\n",
       "         3872,     5,     9,     4,   155,     8,  1669,    32,  2634,   257,\n",
       "            4,     5,     5,    11,  4568,  8205,    78,  5258,  7723, 12009,\n",
       "          884,    91,   963,   294,     4,   548,    29,   279,    37,     4,\n",
       "          391,    31,     4,  2614,   948, 13583,   405,   545,    15,    16,\n",
       "           12,    25,     5,     5,  1688,     0,    39,    59,  8785,     0,\n",
       "            6,    13,  3026,    43,    11,     6,     0,   349,  3134,  4538,\n",
       "            3,     6,    82,  1780,    21,     6,  2158,     4,     8,     8,\n",
       "           27,  1485,     0,   194,    96,   195,  3545,   101,  1150,  3486,\n",
       "            3,    25,    13,   885,     4,  6360,    15,   670,     0,    13,\n",
       "           26,    17,     5,   417,   894,    10,     5,     5,  2998,    27,\n",
       "        20003,   190,    33,  1516,  1085,    34,   680,  3597,  2475,   664,\n",
       "           47,    11,   127,    63,     6,    46, 24995,    72, 10190,    26,\n",
       "           86,  9076, 10540,     6,     9,    74,   198,     7,     6,    17,\n",
       "         3134,  5312,     4,     4,     3, 25509,     5,  2034,     5,    86,\n",
       "         3852,     5,     7,    48,  4870,   362,     6,   840,    45,    33,\n",
       "           21,     9,  4379,   183,    11,     5,     0,     9,   775,     0,\n",
       "           91,     8,   293,  1857,     5,    28,    16,     5,  2705,  1130,\n",
       "            0,    11,   615,   317,  4648,   543,     5,   361,    22,    10,\n",
       "            0,    66,  1933,    22,   104,    49,     4,   133,   171,     8,\n",
       "           50, 12127,    10,     6,  3683, 16138, 13801,     8, 14548,    11,\n",
       "         3872,    25,    28,  5775,    64,    40,    98,     4,    25,  6583,\n",
       "        28555, 14110, 17910,     9,    22,     8,     7,   300,    29,   757,\n",
       "           24,     6,  5662,  6708,  2849,  1146,   234,  1092,     6,  4909,\n",
       "            5,     8,    11,     4,    49,  8545,     4,     6,   163,    10,\n",
       "          783,    25,     6,    11,    52,     5,     7,   454,    25,     7,\n",
       "         1183,  2459,  1684,   561,  2033,     7,  7582,     4,   276,  1556,\n",
       "        28783,   112,     4,    98,    54,    35,     4,    26,   194,     4,\n",
       "          511,    11,   705,     5,     7, 11072,     8,    72,   180,    19,\n",
       "            5,  8088,   334,    61,   792,    13,  1669,    28,    43,   186,\n",
       "            7,   386,   923,     0, 15443,    60, 18920,  1311,     6,    30,\n",
       "         6185,   471,     7,     5,     5, 12612,     5,     4,    66, 23025,\n",
       "            0,  1321,     5,  1232,     8,  2609,     5,  1992,  1193,  4064,\n",
       "            6,    70,  4014,  4135,   669, 16856,  7946,  1650,    25,     9,\n",
       "            5,   562,     8,   555, 27230,     5,     0,     7,   148,    26,\n",
       "         3852,     6,    13,   385, 16882,     5, 10562,   134,     6,  1325,\n",
       "           11,     4,    13,    16,     5,     4,     8,  2525,   450,    20,\n",
       "            7,    31,  1623,  5072,    28, 16585,   552,     6,    25,     6,\n",
       "          663,   596,     4,    11,    56,  1408, 28426,    13,  3297,     4,\n",
       "            4,    47,     0,   570,  2420,     5,    33,  3629,    91,     9,\n",
       "          295,   198, 26410,  1509,   516,    13,     6,     9,    26,   261,\n",
       "         5026,   794,    22,  4889,     8,     8,   359,  4393,  1016,    78,\n",
       "           10,     6,  6797,    15,  1069,  3488,     0,  2585,    19,  1111,\n",
       "           91,  1058,  6409,     5,   425,     0,    15,    13,    24,  2474,\n",
       "         6404,    59,    29,   680,    11,  2767,     5,     5,    67,   628,\n",
       "           23,   180,     9,    35,   595,     6,   680,    11,   171,     5,\n",
       "            6,    30,     4,  1862,  5475,    20, 18475,     8,  1017,    84,\n",
       "            5,    28,  6097,   513,     6,  4775,  1072,  3042,    25,    10,\n",
       "            0,   402,   704,   339,    21,     4,     8,     4,    11,    20,\n",
       "         1840,     4,    50,   885,     3, 10567,    10,   161,     6,  1783,\n",
       "            5,     9,   155,    10,  6318,  7274,     0,   295,   878,     4,\n",
       "         1021,   373,  9433,   535,     3,  1597, 26809,   279,    25,  6841,\n",
       "          238,     0,     4,   297,  7606,     8,    78,   200,  1060,   187,\n",
       "           10,     5,     6,  1516,    12,    97, 23594,    16,    73, 18558,\n",
       "           10,     5,  1526,     4,    24,    39,    36,    36,    84,     6,\n",
       "           17,     8,     9,     6,    12,     9,     5,   644,    43,     0,\n",
       "            0,     9,   705,   183,  2219,  7429,  1966,     9,  3524,     6,\n",
       "         3852,  4312,  9049,     3,   942,   197,  3077,  9191,   171,    24,\n",
       "         1687,   382,     6,   945,     0,     6,     6,     0,  3163,     6,\n",
       "         3872,   180,     5,    16,    12,   588,   121,     5,    25,   971,\n",
       "            5,  2089,     3,  3857,    23,    46,    82,     4,   150,   182,\n",
       "          884,    28,    27,   435,    12,     6,    63,   133,     6,     0,\n",
       "           13,    31,     3,    43,     8,  2997,    78,  5977,    52,   181,\n",
       "          632,     4,   127,     6,     3,  4775,     4,     4,    25,    23,\n",
       "          124,  5223,    12,   194,     4,     8,    36,  2142,   139,    37,\n",
       "          979,   725,     4, 10997,     3,     8,   677,   542,   112,    55,\n",
       "          126,    11,    12,     6,  6962,  4113,  5196,    37,    27,  9177],\n",
       "       device='cuda:0')"
      ]
     },
     "execution_count": 11,
     "metadata": {},
     "output_type": "execute_result"
    }
   ],
   "source": [
    "targets"
   ]
  },
  {
   "cell_type": "code",
   "execution_count": null,
   "metadata": {},
   "outputs": [],
   "source": []
  },
  {
   "cell_type": "code",
   "execution_count": 11,
   "metadata": {},
   "outputs": [],
   "source": [
    "criterion = nn.CrossEntropyLoss()\n",
    "lr = 5.0 # learning rate\n",
    "optimizer = torch.optim.SGD(model.parameters(), lr=lr)\n",
    "scheduler = torch.optim.lr_scheduler.StepLR(optimizer, 1.0, gamma=0.95)\n",
    "\n",
    "import time\n",
    "def train():\n",
    "    model.train() # Turn on the train mode\n",
    "    total_loss = 0.\n",
    "    start_time = time.time()\n",
    "    ntokens = len(TEXT.vocab.stoi)\n",
    "    for batch, i in enumerate(range(0, train_data.size(0) - 1, bptt)):\n",
    "        data, targets = get_batch(train_data, i)\n",
    "        optimizer.zero_grad()\n",
    "        output = model(data)\n",
    "        loss = criterion(output.view(-1, ntokens), targets)\n",
    "        loss.backward()\n",
    "        torch.nn.utils.clip_grad_norm_(model.parameters(), 0.5)\n",
    "        optimizer.step()\n",
    "\n",
    "        total_loss += loss.item()\n",
    "        log_interval = 200\n",
    "        if batch % log_interval == 0 and batch > 0:\n",
    "            cur_loss = total_loss / log_interval\n",
    "            elapsed = time.time() - start_time\n",
    "            print('| epoch {:3d} | {:5d}/{:5d} batches | '\n",
    "                  'lr {:02.2f} | ms/batch {:5.2f} | '\n",
    "                  'loss {:5.2f} | ppl {:8.2f}'.format(\n",
    "                    epoch, batch, len(train_data) // bptt, scheduler.get_lr()[0],\n",
    "                    elapsed * 1000 / log_interval,\n",
    "                    cur_loss, math.exp(cur_loss)))\n",
    "            total_loss = 0\n",
    "            start_time = time.time()\n",
    "\n",
    "def evaluate(eval_model, data_source):\n",
    "    eval_model.eval() # Turn on the evaluation mode\n",
    "    total_loss = 0.\n",
    "    ntokens = len(TEXT.vocab.stoi)\n",
    "    with torch.no_grad():\n",
    "        for i in range(0, data_source.size(0) - 1, bptt):\n",
    "            data, targets = get_batch(data_source, i)\n",
    "            output = eval_model(data)\n",
    "            output_flat = output.view(-1, ntokens)\n",
    "            total_loss += len(data) * criterion(output_flat, targets).item()\n",
    "    return total_loss / (len(data_source) - 1)"
   ]
  },
  {
   "cell_type": "markdown",
   "metadata": {},
   "source": [
    "Loop over epochs. Save the model if the validation loss is the best\n",
    "we've seen so far. Adjust the learning rate after each epoch.\n",
    "\n"
   ]
  },
  {
   "cell_type": "code",
   "execution_count": null,
   "metadata": {},
   "outputs": [
    {
     "name": "stdout",
     "output_type": "stream",
     "text": [
      "| epoch   1 |   200/ 2981 batches | lr 5.00 | ms/batch 100.09 | loss  8.01 | ppl  3008.88\n",
      "| epoch   1 |   400/ 2981 batches | lr 5.00 | ms/batch 117.95 | loss  6.78 | ppl   883.82\n",
      "| epoch   1 |   600/ 2981 batches | lr 5.00 | ms/batch 90.79 | loss  6.36 | ppl   579.49\n"
     ]
    }
   ],
   "source": [
    "best_val_loss = float(\"inf\")\n",
    "epochs = 3 # The number of epochs\n",
    "best_model = None\n",
    "\n",
    "for epoch in range(1, epochs + 1):\n",
    "    epoch_start_time = time.time()\n",
    "    train()\n",
    "    val_loss = evaluate(model, val_data)\n",
    "    print('-' * 89)\n",
    "    print('| end of epoch {:3d} | time: {:5.2f}s | valid loss {:5.2f} | '\n",
    "          'valid ppl {:8.2f}'.format(epoch, (time.time() - epoch_start_time),\n",
    "                                     val_loss, math.exp(val_loss)))\n",
    "    print('-' * 89)\n",
    "\n",
    "    if val_loss < best_val_loss:\n",
    "        best_val_loss = val_loss\n",
    "        best_model = model\n",
    "\n",
    "    scheduler.step()"
   ]
  },
  {
   "cell_type": "markdown",
   "metadata": {},
   "source": [
    "Evaluate the model with the test dataset\n",
    "-------------------------------------\n",
    "\n",
    "Apply the best model to check the result with the test dataset.\n",
    "\n"
   ]
  },
  {
   "cell_type": "code",
   "execution_count": null,
   "metadata": {},
   "outputs": [],
   "source": [
    "test_loss = evaluate(best_model, test_data)\n",
    "print('=' * 89)\n",
    "print('| End of training | test loss {:5.2f} | test ppl {:8.2f}'.format(\n",
    "    test_loss, math.exp(test_loss)))\n",
    "print('=' * 89)"
   ]
  }
 ],
 "metadata": {
  "kernelspec": {
   "display_name": "bcic",
   "language": "python",
   "name": "bcic"
  },
  "language_info": {
   "codemirror_mode": {
    "name": "ipython",
    "version": 3
   },
   "file_extension": ".py",
   "mimetype": "text/x-python",
   "name": "python",
   "nbconvert_exporter": "python",
   "pygments_lexer": "ipython3",
   "version": "3.6.10"
  }
 },
 "nbformat": 4,
 "nbformat_minor": 1
}
