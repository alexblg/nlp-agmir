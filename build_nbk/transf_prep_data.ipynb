{
 "cells": [
  {
   "cell_type": "code",
   "execution_count": 10,
   "metadata": {},
   "outputs": [],
   "source": [
    "import os\n",
    "import pickle"
   ]
  },
  {
   "cell_type": "code",
   "execution_count": 11,
   "metadata": {},
   "outputs": [
    {
     "name": "stdout",
     "output_type": "stream",
     "text": [
      "The autoreload extension is already loaded. To reload it, use:\n",
      "  %reload_ext autoreload\n"
     ]
    }
   ],
   "source": [
    "%load_ext autoreload\n",
    "%autoreload 2"
   ]
  },
  {
   "cell_type": "markdown",
   "metadata": {},
   "source": [
    "# load data"
   ]
  },
  {
   "cell_type": "code",
   "execution_count": 24,
   "metadata": {},
   "outputs": [],
   "source": [
    "from loaders import prepareReportData, normalizeString, indexesFromSentence"
   ]
  },
  {
   "cell_type": "code",
   "execution_count": 25,
   "metadata": {},
   "outputs": [],
   "source": [
    "data_path = r\"/home/alex/data/nlp/agmir/transf_processed_data\""
   ]
  },
  {
   "cell_type": "code",
   "execution_count": 26,
   "metadata": {},
   "outputs": [
    {
     "name": "stdout",
     "output_type": "stream",
     "text": [
      "\n",
      "reading data..\n",
      "read 3580 reports\n",
      "counting words..\n",
      "counted words:\n",
      "\t tags 591\n",
      "\t report 1954\n"
     ]
    }
   ],
   "source": [
    "input_lang, output_lang, ds = prepareReportData()"
   ]
  },
  {
   "cell_type": "code",
   "execution_count": 27,
   "metadata": {},
   "outputs": [],
   "source": [
    "def listFromSentence(lang, sentence):\n",
    "    indexes = indexesFromSentence(lang, sentence)\n",
    "    return indexes"
   ]
  },
  {
   "cell_type": "code",
   "execution_count": 28,
   "metadata": {},
   "outputs": [],
   "source": [
    "tags = []\n",
    "reports = []\n",
    "tags_raw = []\n",
    "reports_raw = []\n",
    "for report in ds:\n",
    "    tags_raw.append(report[0])\n",
    "    tags.append(\n",
    "        listFromSentence(input_lang, report[0]))\n",
    "    reports_raw.append(normalizeString(report[1]))\n",
    "    reports.append(\n",
    "        listFromSentence(output_lang, normalizeString(report[1])))"
   ]
  },
  {
   "cell_type": "code",
   "execution_count": 30,
   "metadata": {},
   "outputs": [],
   "source": [
    "with open(os.path.join(data_path, 'tags', 'set_raw.pkl'), 'wb') as f:\n",
    "    pickle.dump(tags_raw, f)"
   ]
  },
  {
   "cell_type": "code",
   "execution_count": 31,
   "metadata": {},
   "outputs": [],
   "source": [
    "with open(os.path.join(data_path, 'tags', 'set.pkl'), 'wb') as f:\n",
    "    pickle.dump(tags, f)\n",
    "    \n",
    "with open(os.path.join(data_path, 'tags', 'voc.pkl'), 'wb') as f:\n",
    "    pickle.dump(input_lang.word2index, f)\n",
    "    \n",
    "with open(os.path.join(data_path, 'reports', 'set.pkl'), 'wb') as f:\n",
    "    pickle.dump(reports, f)\n",
    "    \n",
    "with open(os.path.join(data_path, 'reports', 'voc.pkl'), 'wb') as f:\n",
    "    pickle.dump(output_lang.word2index, f)"
   ]
  },
  {
   "cell_type": "markdown",
   "metadata": {},
   "source": [
    "# compare with existing transf data"
   ]
  },
  {
   "cell_type": "code",
   "execution_count": 41,
   "metadata": {},
   "outputs": [],
   "source": [
    "data_path = 'transformer_translation/data/processed/en/freq_list.pkl'\n",
    "with open(data_path, 'rb') as f:\n",
    "    freq = pickle.load(f)"
   ]
  },
  {
   "cell_type": "code",
   "execution_count": 42,
   "metadata": {},
   "outputs": [],
   "source": [
    "data_path = 'transformer_translation/data/processed/en/train.pkl'\n",
    "with open(data_path, 'rb') as f:\n",
    "    data_1 = pickle.load(f)"
   ]
  }
 ],
 "metadata": {
  "kernelspec": {
   "display_name": "Python 3",
   "language": "python",
   "name": "python3"
  },
  "language_info": {
   "codemirror_mode": {
    "name": "ipython",
    "version": 3
   },
   "file_extension": ".py",
   "mimetype": "text/x-python",
   "name": "python",
   "nbconvert_exporter": "python",
   "pygments_lexer": "ipython3",
   "version": "3.6.10"
  }
 },
 "nbformat": 4,
 "nbformat_minor": 1
}
