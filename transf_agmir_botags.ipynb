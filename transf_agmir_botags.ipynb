{
 "cells": [
  {
   "cell_type": "code",
   "execution_count": 1,
   "metadata": {},
   "outputs": [],
   "source": [
    "%matplotlib inline"
   ]
  },
  {
   "cell_type": "code",
   "execution_count": 2,
   "metadata": {},
   "outputs": [],
   "source": [
    "import os\n",
    "import torch\n",
    "from einops import rearrange"
   ]
  },
  {
   "cell_type": "code",
   "execution_count": 3,
   "metadata": {},
   "outputs": [
    {
     "name": "stdout",
     "output_type": "stream",
     "text": [
      "cuda:5\n"
     ]
    }
   ],
   "source": [
    "device = torch.device(\"cuda:5\" if torch.cuda.is_available() else \"cpu\")\n",
    "print(device)"
   ]
  },
  {
   "cell_type": "code",
   "execution_count": 4,
   "metadata": {},
   "outputs": [],
   "source": [
    "%load_ext autoreload\n",
    "%autoreload 2"
   ]
  },
  {
   "cell_type": "markdown",
   "metadata": {},
   "source": [
    "# load data"
   ]
  },
  {
   "cell_type": "code",
   "execution_count": 5,
   "metadata": {},
   "outputs": [],
   "source": [
    "from transformer_translation.dataset import TagReportDataset, load_pickle\n",
    "from torch.utils.data import DataLoader"
   ]
  },
  {
   "cell_type": "code",
   "execution_count": 6,
   "metadata": {},
   "outputs": [],
   "source": [
    "data_path = r\"/home/alex/data/nlp/agmir/transf_processed_data\"\n",
    "#data_path = 'transformer_translation/data/processed'"
   ]
  },
  {
   "cell_type": "code",
   "execution_count": 7,
   "metadata": {},
   "outputs": [],
   "source": [
    "splits = load_pickle('20200525_splits.pkl')\n",
    "countvec = load_pickle('20200525_countvec.pkl')"
   ]
  },
  {
   "cell_type": "markdown",
   "metadata": {},
   "source": [
    "### train set"
   ]
  },
  {
   "cell_type": "code",
   "execution_count": 8,
   "metadata": {},
   "outputs": [
    {
     "name": "stdout",
     "output_type": "stream",
     "text": [
      "85\n"
     ]
    }
   ],
   "source": [
    "num_tokens = 2000\n",
    "max_seq_length = 96\n",
    "dataset = TagReportDataset(\n",
    "    os.path.join(data_path, 'tags/set_raw.pkl')\n",
    "    ,os.path.join(data_path, 'reports/set.pkl')\n",
    "    ,num_tokens\n",
    "    ,max_seq_length\n",
    "    ,idxs=splits['train']\n",
    "    ,countvec = countvec\n",
    ")\n",
    "loader = DataLoader(dataset, batch_size=1, shuffle=True, num_workers=4, pin_memory=True)\n",
    "print(len(dataset))"
   ]
  },
  {
   "cell_type": "markdown",
   "metadata": {},
   "source": [
    "### val set"
   ]
  },
  {
   "cell_type": "code",
   "execution_count": 9,
   "metadata": {},
   "outputs": [
    {
     "name": "stdout",
     "output_type": "stream",
     "text": [
      "6\n"
     ]
    }
   ],
   "source": [
    "val_dataset = TagReportDataset(\n",
    "    os.path.join(data_path, 'tags/set_raw.pkl')\n",
    "    ,os.path.join(data_path, 'reports/set.pkl')\n",
    "    ,num_tokens\n",
    "    ,max_seq_length\n",
    "    ,idxs=splits['val']\n",
    "    ,countvec = countvec\n",
    ")\n",
    "val_loader = DataLoader(val_dataset, batch_size=1, shuffle=True, num_workers=4, pin_memory=True)\n",
    "print(len(val_dataset))"
   ]
  },
  {
   "cell_type": "markdown",
   "metadata": {},
   "source": [
    "# train"
   ]
  },
  {
   "cell_type": "code",
   "execution_count": 10,
   "metadata": {},
   "outputs": [],
   "source": [
    "from transformer_translation.model import LanguageTransformer, ReportTransformer"
   ]
  },
  {
   "cell_type": "code",
   "execution_count": 11,
   "metadata": {},
   "outputs": [],
   "source": [
    "vocab_size = 10000 + 4#1952#\n",
    "nhead = 8\n",
    "d_model = 587 - (587 % nhead) + nhead\n",
    "num_encoder_layers = 6\n",
    "num_decoder_layers = 6\n",
    "dim_feedforward = 2048\n",
    "pos_dropout = 0.1\n",
    "trans_dropout = 0.1\n",
    "\n",
    "model = ReportTransformer(\n",
    "    vocab_size, d_model, nhead, num_encoder_layers, num_decoder_layers, dim_feedforward,\n",
    "    max_seq_length, pos_dropout, trans_dropout\n",
    ").to(device)"
   ]
  },
  {
   "cell_type": "code",
   "execution_count": 12,
   "metadata": {},
   "outputs": [],
   "source": [
    "    from transformer_translation.Optim import ScheduledOptim\n",
    "    import torch.nn as nn\n",
    "    from torch.optim import Adam\n",
    "    \n",
    "    for p in model.parameters():\n",
    "        if p.dim() > 1:\n",
    "            nn.init.xavier_normal_(p)\n",
    "\n",
    "    n_warmup_steps = 4000\n",
    "    optim = ScheduledOptim(\n",
    "        Adam(model.parameters(), betas=(0.9, 0.98), eps=1e-09),\n",
    "        d_model, n_warmup_steps)\n",
    "\n",
    "    criterion = nn.CrossEntropyLoss(ignore_index=0)"
   ]
  },
  {
   "cell_type": "code",
   "execution_count": 13,
   "metadata": {},
   "outputs": [],
   "source": [
    "from tsf_infer_utils import prep_transf_inputs, infer\n",
    "from torchtext.data.metrics import bleu_score\n",
    "from tsf_utils import format_list_for_bleu, get_bleu_from_loader"
   ]
  },
  {
   "cell_type": "code",
   "execution_count": 14,
   "metadata": {},
   "outputs": [
    {
     "name": "stdout",
     "output_type": "stream",
     "text": [
      "Epoch [1 / 30] \t Step [20 / 85] \t Train Loss: 9.126\n",
      "Epoch [1 / 30] \t Step [40 / 85] \t Train Loss: 8.743\n",
      "Epoch [1 / 30] \t Step [60 / 85] \t Train Loss: 8.211\n",
      "Epoch [1 / 30] \t Step [80 / 85] \t Train Loss: 7.887\n",
      "Epoch [1 / 30]:\n",
      "\ttrain BLEU: 0.00%\n",
      "\tval BLEU: 0.00%\n",
      "\n",
      "\n",
      "Epoch [2 / 30] \t Step [20 / 85] \t Train Loss: 7.420\n",
      "Epoch [2 / 30] \t Step [40 / 85] \t Train Loss: 7.184\n",
      "Epoch [2 / 30] \t Step [60 / 85] \t Train Loss: 6.816\n",
      "Epoch [2 / 30] \t Step [80 / 85] \t Train Loss: 6.533\n",
      "Epoch [2 / 30]:\n",
      "\ttrain BLEU: 0.00%\n",
      "\tval BLEU: 0.00%\n",
      "\n",
      "\n",
      "Epoch [3 / 30] \t Step [20 / 85] \t Train Loss: 6.039\n",
      "Epoch [3 / 30] \t Step [40 / 85] \t Train Loss: 5.751\n",
      "Epoch [3 / 30] \t Step [60 / 85] \t Train Loss: 5.355\n",
      "Epoch [3 / 30] \t Step [80 / 85] \t Train Loss: 5.054\n",
      "Epoch [3 / 30]:\n",
      "\ttrain BLEU: 0.00%\n",
      "\tval BLEU: 0.00%\n",
      "\n",
      "\n",
      "Epoch [4 / 30] \t Step [20 / 85] \t Train Loss: 4.847\n",
      "Epoch [4 / 30] \t Step [40 / 85] \t Train Loss: 4.691\n",
      "Epoch [4 / 30] \t Step [60 / 85] \t Train Loss: 4.372\n",
      "Epoch [4 / 30] \t Step [80 / 85] \t Train Loss: 3.873\n",
      "Epoch [4 / 30]:\n",
      "\ttrain BLEU: 7.19%\n",
      "\tval BLEU: 5.88%\n",
      "\n",
      "\n",
      "Epoch [5 / 30] \t Step [20 / 85] \t Train Loss: 3.506\n",
      "Epoch [5 / 30] \t Step [40 / 85] \t Train Loss: 3.787\n",
      "Epoch [5 / 30] \t Step [60 / 85] \t Train Loss: 3.697\n",
      "Epoch [5 / 30] \t Step [80 / 85] \t Train Loss: 3.385\n",
      "Epoch [5 / 30]:\n",
      "\ttrain BLEU: 12.72%\n",
      "\tval BLEU: 10.45%\n",
      "\n",
      "\n",
      "Epoch [6 / 30] \t Step [20 / 85] \t Train Loss: 3.242\n",
      "Epoch [6 / 30] \t Step [40 / 85] \t Train Loss: 3.236\n",
      "Epoch [6 / 30] \t Step [60 / 85] \t Train Loss: 3.052\n",
      "Epoch [6 / 30] \t Step [80 / 85] \t Train Loss: 2.865\n",
      "Epoch [6 / 30]:\n",
      "\ttrain BLEU: 17.02%\n",
      "\tval BLEU: 13.32%\n",
      "\n",
      "\n",
      "Epoch [7 / 30] \t Step [20 / 85] \t Train Loss: 2.876\n",
      "Epoch [7 / 30] \t Step [40 / 85] \t Train Loss: 2.729\n",
      "Epoch [7 / 30] \t Step [60 / 85] \t Train Loss: 2.766\n",
      "Epoch [7 / 30] \t Step [80 / 85] \t Train Loss: 2.695\n",
      "Epoch [7 / 30]:\n",
      "\ttrain BLEU: 19.05%\n",
      "\tval BLEU: 14.75%\n",
      "\n",
      "\n",
      "Epoch [8 / 30] \t Step [20 / 85] \t Train Loss: 2.447\n",
      "Epoch [8 / 30] \t Step [40 / 85] \t Train Loss: 2.448\n",
      "Epoch [8 / 30] \t Step [60 / 85] \t Train Loss: 2.666\n",
      "Epoch [8 / 30] \t Step [80 / 85] \t Train Loss: 2.498\n",
      "Epoch [8 / 30]:\n",
      "\ttrain BLEU: 24.19%\n",
      "\tval BLEU: 18.94%\n",
      "\n",
      "\n",
      "Epoch [9 / 30] \t Step [20 / 85] \t Train Loss: 2.385\n",
      "Epoch [9 / 30] \t Step [40 / 85] \t Train Loss: 2.314\n",
      "Epoch [9 / 30] \t Step [60 / 85] \t Train Loss: 2.285\n",
      "Epoch [9 / 30] \t Step [80 / 85] \t Train Loss: 2.283\n",
      "Epoch [9 / 30]:\n",
      "\ttrain BLEU: 27.19%\n",
      "\tval BLEU: 20.92%\n",
      "\n",
      "\n",
      "Epoch [10 / 30] \t Step [20 / 85] \t Train Loss: 2.304\n",
      "Epoch [10 / 30] \t Step [40 / 85] \t Train Loss: 2.209\n",
      "Epoch [10 / 30] \t Step [60 / 85] \t Train Loss: 2.059\n",
      "Epoch [10 / 30] \t Step [80 / 85] \t Train Loss: 2.066\n",
      "Epoch [10 / 30]:\n",
      "\ttrain BLEU: 29.08%\n",
      "\tval BLEU: 22.49%\n",
      "\n",
      "\n",
      "Epoch [11 / 30] \t Step [20 / 85] \t Train Loss: 2.026\n",
      "Epoch [11 / 30] \t Step [40 / 85] \t Train Loss: 2.131\n",
      "Epoch [11 / 30] \t Step [60 / 85] \t Train Loss: 1.921\n",
      "Epoch [11 / 30] \t Step [80 / 85] \t Train Loss: 2.111\n",
      "Epoch [11 / 30]:\n",
      "\ttrain BLEU: 32.63%\n",
      "\tval BLEU: 24.57%\n",
      "\n",
      "\n",
      "Epoch [12 / 30] \t Step [20 / 85] \t Train Loss: 1.772\n",
      "Epoch [12 / 30] \t Step [40 / 85] \t Train Loss: 1.781\n",
      "Epoch [12 / 30] \t Step [60 / 85] \t Train Loss: 2.095\n",
      "Epoch [12 / 30] \t Step [80 / 85] \t Train Loss: 1.983\n",
      "Epoch [12 / 30]:\n",
      "\ttrain BLEU: 34.46%\n",
      "\tval BLEU: 26.52%\n",
      "\n",
      "\n",
      "Epoch [13 / 30] \t Step [20 / 85] \t Train Loss: 2.065\n",
      "Epoch [13 / 30] \t Step [40 / 85] \t Train Loss: 1.597\n",
      "Epoch [13 / 30] \t Step [60 / 85] \t Train Loss: 1.694\n",
      "Epoch [13 / 30] \t Step [80 / 85] \t Train Loss: 1.803\n",
      "Epoch [13 / 30]:\n",
      "\ttrain BLEU: 38.06%\n",
      "\tval BLEU: 29.01%\n",
      "\n",
      "\n",
      "Epoch [14 / 30] \t Step [20 / 85] \t Train Loss: 1.722\n",
      "Epoch [14 / 30] \t Step [40 / 85] \t Train Loss: 1.629\n",
      "Epoch [14 / 30] \t Step [60 / 85] \t Train Loss: 1.769\n",
      "Epoch [14 / 30] \t Step [80 / 85] \t Train Loss: 1.645\n",
      "Epoch [14 / 30]:\n",
      "\ttrain BLEU: 40.53%\n",
      "\tval BLEU: 30.94%\n",
      "\n",
      "\n",
      "Epoch [15 / 30] \t Step [20 / 85] \t Train Loss: 1.461\n",
      "Epoch [15 / 30] \t Step [40 / 85] \t Train Loss: 1.528\n",
      "Epoch [15 / 30] \t Step [60 / 85] \t Train Loss: 1.862\n",
      "Epoch [15 / 30] \t Step [80 / 85] \t Train Loss: 1.604\n",
      "Epoch [15 / 30]:\n",
      "\ttrain BLEU: 42.84%\n",
      "\tval BLEU: 32.63%\n",
      "\n",
      "\n",
      "Epoch [16 / 30] \t Step [20 / 85] \t Train Loss: 1.628\n",
      "Epoch [16 / 30] \t Step [40 / 85] \t Train Loss: 1.469\n",
      "Epoch [16 / 30] \t Step [60 / 85] \t Train Loss: 1.411\n",
      "Epoch [16 / 30] \t Step [80 / 85] \t Train Loss: 1.586\n",
      "Epoch [16 / 30]:\n",
      "\ttrain BLEU: 43.67%\n",
      "\tval BLEU: 32.49%\n",
      "\n",
      "\n",
      "Epoch [17 / 30] \t Step [20 / 85] \t Train Loss: 1.574\n",
      "Epoch [17 / 30] \t Step [40 / 85] \t Train Loss: 1.533\n",
      "Epoch [17 / 30] \t Step [60 / 85] \t Train Loss: 1.449\n",
      "Epoch [17 / 30] \t Step [80 / 85] \t Train Loss: 1.395\n",
      "Epoch [17 / 30]:\n",
      "\ttrain BLEU: 45.09%\n",
      "\tval BLEU: 33.39%\n",
      "\n",
      "\n",
      "Epoch [18 / 30] \t Step [20 / 85] \t Train Loss: 1.202\n",
      "Epoch [18 / 30] \t Step [40 / 85] \t Train Loss: 1.266\n",
      "Epoch [18 / 30] \t Step [60 / 85] \t Train Loss: 1.682\n",
      "Epoch [18 / 30] \t Step [80 / 85] \t Train Loss: 1.431\n",
      "Epoch [18 / 30]:\n",
      "\ttrain BLEU: 45.83%\n",
      "\tval BLEU: 34.27%\n",
      "\n",
      "\n",
      "Epoch [19 / 30] \t Step [20 / 85] \t Train Loss: 1.170\n",
      "Epoch [19 / 30] \t Step [40 / 85] \t Train Loss: 1.360\n",
      "Epoch [19 / 30] \t Step [60 / 85] \t Train Loss: 1.545\n",
      "Epoch [19 / 30] \t Step [80 / 85] \t Train Loss: 1.293\n",
      "Epoch [19 / 30]:\n",
      "\ttrain BLEU: 48.66%\n",
      "\tval BLEU: 35.34%\n",
      "\n",
      "\n",
      "Epoch [20 / 30] \t Step [20 / 85] \t Train Loss: 1.292\n",
      "Epoch [20 / 30] \t Step [40 / 85] \t Train Loss: 1.266\n",
      "Epoch [20 / 30] \t Step [60 / 85] \t Train Loss: 1.328\n",
      "Epoch [20 / 30] \t Step [80 / 85] \t Train Loss: 1.294\n",
      "Epoch [20 / 30]:\n",
      "\ttrain BLEU: 49.29%\n",
      "\tval BLEU: 35.84%\n",
      "\n",
      "\n",
      "Epoch [21 / 30] \t Step [20 / 85] \t Train Loss: 1.058\n",
      "Epoch [21 / 30] \t Step [40 / 85] \t Train Loss: 1.319\n",
      "Epoch [21 / 30] \t Step [60 / 85] \t Train Loss: 1.109\n",
      "Epoch [21 / 30] \t Step [80 / 85] \t Train Loss: 1.416\n",
      "Epoch [21 / 30]:\n",
      "\ttrain BLEU: 51.63%\n",
      "\tval BLEU: 36.05%\n",
      "\n",
      "\n",
      "Epoch [22 / 30] \t Step [20 / 85] \t Train Loss: 1.068\n",
      "Epoch [22 / 30] \t Step [40 / 85] \t Train Loss: 1.143\n",
      "Epoch [22 / 30] \t Step [60 / 85] \t Train Loss: 1.273\n",
      "Epoch [22 / 30] \t Step [80 / 85] \t Train Loss: 1.204\n",
      "Epoch [22 / 30]:\n",
      "\ttrain BLEU: 52.64%\n",
      "\tval BLEU: 36.78%\n",
      "\n",
      "\n",
      "Epoch [23 / 30] \t Step [20 / 85] \t Train Loss: 1.080\n",
      "Epoch [23 / 30] \t Step [40 / 85] \t Train Loss: 1.125\n",
      "Epoch [23 / 30] \t Step [60 / 85] \t Train Loss: 1.081\n",
      "Epoch [23 / 30] \t Step [80 / 85] \t Train Loss: 1.215\n",
      "Epoch [23 / 30]:\n",
      "\ttrain BLEU: 54.39%\n",
      "\tval BLEU: 37.32%\n",
      "\n",
      "\n",
      "Epoch [24 / 30] \t Step [20 / 85] \t Train Loss: 1.044\n",
      "Epoch [24 / 30] \t Step [40 / 85] \t Train Loss: 1.023\n",
      "Epoch [24 / 30] \t Step [60 / 85] \t Train Loss: 0.977\n",
      "Epoch [24 / 30] \t Step [80 / 85] \t Train Loss: 1.161\n",
      "Epoch [24 / 30]:\n",
      "\ttrain BLEU: 53.93%\n",
      "\tval BLEU: 36.79%\n",
      "\n",
      "\n",
      "Epoch [25 / 30] \t Step [20 / 85] \t Train Loss: 1.094\n",
      "Epoch [25 / 30] \t Step [40 / 85] \t Train Loss: 1.004\n",
      "Epoch [25 / 30] \t Step [60 / 85] \t Train Loss: 1.008\n",
      "Epoch [25 / 30] \t Step [80 / 85] \t Train Loss: 0.965\n",
      "Epoch [25 / 30]:\n",
      "\ttrain BLEU: 55.91%\n",
      "\tval BLEU: 36.30%\n",
      "\n",
      "\n",
      "Epoch [26 / 30] \t Step [20 / 85] \t Train Loss: 0.969\n",
      "Epoch [26 / 30] \t Step [40 / 85] \t Train Loss: 0.901\n",
      "Epoch [26 / 30] \t Step [60 / 85] \t Train Loss: 1.064\n",
      "Epoch [26 / 30] \t Step [80 / 85] \t Train Loss: 0.950\n",
      "Epoch [26 / 30]:\n",
      "\ttrain BLEU: 58.06%\n",
      "\tval BLEU: 37.11%\n",
      "\n",
      "\n",
      "Epoch [27 / 30] \t Step [20 / 85] \t Train Loss: 0.901\n",
      "Epoch [27 / 30] \t Step [40 / 85] \t Train Loss: 0.978\n",
      "Epoch [27 / 30] \t Step [60 / 85] \t Train Loss: 0.884\n",
      "Epoch [27 / 30] \t Step [80 / 85] \t Train Loss: 0.962\n",
      "Epoch [27 / 30]:\n",
      "\ttrain BLEU: 59.81%\n",
      "\tval BLEU: 37.10%\n",
      "\n",
      "\n",
      "Epoch [28 / 30] \t Step [20 / 85] \t Train Loss: 0.789\n",
      "Epoch [28 / 30] \t Step [40 / 85] \t Train Loss: 0.924\n",
      "Epoch [28 / 30] \t Step [60 / 85] \t Train Loss: 0.931\n",
      "Epoch [28 / 30] \t Step [80 / 85] \t Train Loss: 1.029\n",
      "Epoch [28 / 30]:\n",
      "\ttrain BLEU: 59.99%\n",
      "\tval BLEU: 37.36%\n",
      "\n",
      "\n",
      "Epoch [29 / 30] \t Step [20 / 85] \t Train Loss: 0.776\n",
      "Epoch [29 / 30] \t Step [40 / 85] \t Train Loss: 0.887\n",
      "Epoch [29 / 30] \t Step [60 / 85] \t Train Loss: 0.783\n",
      "Epoch [29 / 30] \t Step [80 / 85] \t Train Loss: 0.980\n",
      "Epoch [29 / 30]:\n",
      "\ttrain BLEU: 62.93%\n",
      "\tval BLEU: 37.48%\n",
      "\n",
      "\n",
      "Epoch [30 / 30] \t Step [20 / 85] \t Train Loss: 0.735\n",
      "Epoch [30 / 30] \t Step [40 / 85] \t Train Loss: 0.762\n",
      "Epoch [30 / 30] \t Step [60 / 85] \t Train Loss: 0.822\n",
      "Epoch [30 / 30] \t Step [80 / 85] \t Train Loss: 0.889\n",
      "Epoch [30 / 30]:\n",
      "\ttrain BLEU: 65.68%\n",
      "\tval BLEU: 37.80%\n",
      "\n",
      "\n",
      "CPU times: user 5h 11min 40s, sys: 11min 16s, total: 5h 22min 56s\n",
      "Wall time: 12min 16s\n"
     ]
    }
   ],
   "source": [
    "    %%time\n",
    "    print_every = 20\n",
    "    num_epochs = 30\n",
    "    early_stopping_flag = True\n",
    "\n",
    "    lowest_val = 1e9\n",
    "    val_losses = []\n",
    "    total_step = 0\n",
    "    \n",
    "    for epoch in range(num_epochs):\n",
    "        \n",
    "        model.train()\n",
    "        total_loss = 0\n",
    "\n",
    "        for step, (src, src_key_padding_mask, tgt, tgt_key_padding_mask) in enumerate(iter(loader)):\n",
    "            total_step += 1\n",
    "\n",
    "            src, src_key_padding_mask, tgt, tgt_key_padding_mask, memory_key_padding_mask, tgt_inp, tgt_out, tgt_mask = prep_transf_inputs(\n",
    "                src, src_key_padding_mask, tgt, tgt_key_padding_mask, device)\n",
    "            \n",
    "            optim.zero_grad()\n",
    "            outputs = model(src, tgt_inp, src_key_padding_mask, tgt_key_padding_mask[:, :-1], memory_key_padding_mask, tgt_mask)\n",
    "            loss = criterion(rearrange(outputs, 'b t v -> (b t) v'), rearrange(tgt_out, 'b o -> (b o)'))\n",
    "\n",
    "            loss.backward()\n",
    "            optim.step_and_update_lr()\n",
    "\n",
    "            total_loss += loss.item()\n",
    "            if step % print_every == print_every - 1:\n",
    "                print(f'Epoch [{epoch + 1} / {num_epochs}] \\t Step [{step + 1} / {len(loader)}] \\t '\n",
    "                      'Train Loss: {:.3f}'.format(total_loss / print_every))\n",
    "                total_loss = 0\n",
    "                \n",
    "        if early_stopping_flag:\n",
    "            model.eval()\n",
    "            print(f'Epoch [{epoch + 1} / {num_epochs}]:')\n",
    "            print('{} BLEU: {:.2%}'.format(\n",
    "                '\\ttrain', get_bleu_from_loader(model, loader)))\n",
    "            print('{} BLEU: {:.2%}'.format(\n",
    "                '\\tval', get_bleu_from_loader(model, val_loader)))\n",
    "        print('\\n')"
   ]
  },
  {
   "cell_type": "markdown",
   "metadata": {},
   "source": [
    "# assess perf"
   ]
  },
  {
   "cell_type": "markdown",
   "metadata": {},
   "source": [
    "### run inference"
   ]
  },
  {
   "cell_type": "code",
   "execution_count": 17,
   "metadata": {},
   "outputs": [
    {
     "name": "stdout",
     "output_type": "stream",
     "text": [
      "6\n"
     ]
    }
   ],
   "source": [
    "test_dataset = TagReportDataset(\n",
    "    os.path.join(data_path, 'tags/set_raw.pkl')\n",
    "    ,os.path.join(data_path, 'reports/set.pkl')\n",
    "    ,num_tokens\n",
    "    ,max_seq_length\n",
    "    ,idxs=splits['test']\n",
    "    ,countvec = countvec\n",
    ")\n",
    "test_loader = DataLoader(test_dataset, batch_size=1, shuffle=True, num_workers=4, pin_memory=True)\n",
    "print(len(test_dataset))"
   ]
  },
  {
   "cell_type": "code",
   "execution_count": 18,
   "metadata": {},
   "outputs": [
    {
     "name": "stdout",
     "output_type": "stream",
     "text": [
      "CPU times: user 19.5 s, sys: 1.32 s, total: 20.8 s\n",
      "Wall time: 906 ms\n"
     ]
    }
   ],
   "source": [
    "%%time\n",
    "pred_list, tgt_list = infer(model, test_loader)"
   ]
  },
  {
   "cell_type": "markdown",
   "metadata": {},
   "source": [
    "### compute BLEU"
   ]
  },
  {
   "cell_type": "code",
   "execution_count": 23,
   "metadata": {
    "scrolled": true
   },
   "outputs": [
    {
     "name": "stdout",
     "output_type": "stream",
     "text": [
      "test BLEU: 40.81%\n",
      "CPU times: user 1.58 s, sys: 20 ms, total: 1.6 s\n",
      "Wall time: 1.6 s\n"
     ]
    }
   ],
   "source": [
    "%%time\n",
    "pred_list_bleu, tgt_list_bleu = format_list_for_bleu(pred_list, tgt_list)\n",
    "print('{} BLEU: {:.2%}'.format(\n",
    "                'test', bleu_score(pred_list_bleu, tgt_list_bleu)))"
   ]
  },
  {
   "cell_type": "markdown",
   "metadata": {},
   "source": [
    "### create vocab dicts "
   ]
  },
  {
   "cell_type": "code",
   "execution_count": 17,
   "metadata": {},
   "outputs": [],
   "source": [
    "tags_index2word = dict(zip(range(len(dataset.countvec.vocabulary)), dataset.countvec.vocabulary))"
   ]
  },
  {
   "cell_type": "code",
   "execution_count": 18,
   "metadata": {},
   "outputs": [],
   "source": [
    "from transformer_translation.dataset import load_report_voc\n",
    "reports_index2word = load_report_voc(\n",
    "    os.path.join(data_path, 'reports', 'voc.pkl'))"
   ]
  },
  {
   "cell_type": "markdown",
   "metadata": {},
   "source": [
    "### assess nat lg perf"
   ]
  },
  {
   "cell_type": "code",
   "execution_count": 19,
   "metadata": {},
   "outputs": [],
   "source": [
    "from tsf_utils import print_nl_pred_vs_tgt"
   ]
  },
  {
   "cell_type": "code",
   "execution_count": 23,
   "metadata": {},
   "outputs": [],
   "source": [
    "import random\n",
    "k = 10\n",
    "sel_idx = random.sample(range(len(pred_list)), k=k)"
   ]
  },
  {
   "cell_type": "code",
   "execution_count": 21,
   "metadata": {},
   "outputs": [
    {
     "name": "stdout",
     "output_type": "stream",
     "text": [
      "TARGET:   normal chest no evidence of tuberculosis heart size normal . lungs are clear . xxxx are normal . no pneumonia effusions edema pneumothorax adenopathy nodules or masses . .\n",
      "PREDICTION:  no chest heart evidence of tuberculosis heart size normal . lungs are clear . xxxx are normal . no pneumonia effusions edema pneumothorax adenopathy nodules or masses . .\n",
      "\n",
      "\n",
      "TARGET:   no acute cardiopulmonary abnormality . mediastinal contours are normal . heart size is within normal limits . multiple scattered calcified pulmonary nodules xxxx sequela of prior granulomatous disease . otherwise lungs are clear . . there is no pneumothorax or large pleural effusion . no bony abnormality . .\n",
      "PREDICTION:   acute cardiopulmonary abnormality . . contours are within . no size is within normal limits . no calcified calcified granulomas nodules are . of prior granulomatous disease . no lungs are clear without no no is no pneumothorax or large pleural effusion . there acute abnormality . .\n",
      "\n",
      "\n",
      "TARGET:   no acute findings . cardiac and mediastinal contours are within normal limits . the lungs are clear . bony structures are intact . .\n",
      "PREDICTION:  no acute cardiopulmonary . cardiac and mediastinal contours are within normal limits . the lungs are clear . bony structures are intact . .\n",
      "\n",
      "\n",
      "TARGET:   exam quality limited by hypoinflation and rotation . considering technical factors heart size xxxx mildly enlarged aortic calcifications and ectasia tortuosity mediastinal calcifications suggest a previous granulomatous process . no focal alveolar consolidation no definite pleural effusion seen . bronchovascular crowding without typical findings of pulmonary edema . .\n",
      "PREDICTION:   quality limited by body and no . heart technical factors xxxx size and within enlarged . ectasia and aortic tortuosity stable contours suggest a previous granulomatous process . no focal alveolar consolidation no definite pleural effusion seen . no crowding without typical findings of pulmonary edema . .\n",
      "\n",
      "\n",
      "TARGET:   no acute cardiopulmonary disease . . the cardiomediastinal silhouette is normal size and configuration . pulmonary vasculature within normal limits . the lungs are well aerated . there is no pneumothorax pleural effusion or focal consolidation . .\n",
      "PREDICTION:  no acute cardiopulmonary abnormality . the the cardiomediastinal silhouette is normal in and configuration . pulmonary vasculature within normal limits . the lungs are well aerated . there is no pneumothorax pleural effusion or focal consolidation . bony\n",
      "\n",
      "\n",
      "TARGET:   copd . no acute pulmonary disease . there is hyperinflation of the lungs appear to be clear . there is no pleural effusion or the heart is normal . there are atherosclerotic changes of the aorta . the skeletal structures are normal . .\n",
      "PREDICTION:   . no acute pulmonary disease . the is a . the lungs . to be clear . there is no pleural effusion or pneumothorax heart and not in arthritic are no changes of the aorta . arthritic skeletal structures are normal . .\n",
      "\n",
      "\n",
      "TARGET:   low lung volumes otherwise clear . the cardiomediastinal silhouette is normal in size and contour . no focal consolidation pneumothorax or large pleural effusion . normal xxxx . xxxx cholecystectomy . .\n",
      "PREDICTION:  no lung volumes with no . the cardiomediastinal silhouette is normal in size and contour . no focal consolidation pneumothorax or large pleural effusion . calcified xxxx . . foreign . .\n",
      "\n",
      "\n",
      "TARGET:   minimal xxxx left base atelectasis infiltrate . otherwise stable exam . mild cardiomegaly unchanged . stable superior mediastinal contour with tortuous aorta . normal pulmonary vascularity . unchanged elevated right hemidiaphragm with minimal right base subsegmental atelectasis . minimal xxxx left basal airspace opacity . unchanged blunting of the right lateral costophrenic xxxx scarring versus xxxx effusion . no pneumothorax . no acute osseous findings . .\n",
      "PREDICTION:   left right basilar airspace . . the unremarkable appearance . stable cardiomegaly . . the cardiomegaly mediastinal contour . unchanged aorta . no pulmonary vascularity . no right right hemidiaphragm . xxxx right pleural atelectasis atelectasis or no right right pleural airspace disease . no blunting of the right costophrenic costophrenic xxxx . . atelectasis . . no pneumothorax or no acute bony findings . .\n",
      "\n",
      "\n",
      "TARGET:   mild cardiomegaly no acute pulmonary findings mild cardiomegaly stable mediastinal contours . no focal alveolar consolidation no definite pleural effusion seen . mild bronchovascular crowding without typical findings of pulmonary edema . .\n",
      "PREDICTION:  cardiomegaly cardiomegaly . acute pulmonary findings heart cardiomegaly . mediastinal contours . stable focal alveolar consolidation no definite pleural effusion seen . no right crowding without typical findings of pulmonary edema . .\n",
      "\n",
      "\n",
      "TARGET:   mild blunted right costophrenic xxxx which could be due to xxxx effusion or scarring . the heart and mediastinum are normal . the lungs are clear . there is mild blunting of the right costophrenic xxxx . there is no infiltrate mass or pneumothorax . the right internal jugular catheter has been removed . .\n",
      "PREDICTION:   bibasilar left costophrenic xxxx . may represent secondary to atelectasis effusion or atelectasis . no cardiomediastinal size mediastinum are within . the lungs are clear . there is no xxxx of the costophrenic costophrenic xxxx . there is no pneumothorax or or pneumothorax . . bony costophrenic jugular catheter has been removed . .\n",
      "\n",
      "\n"
     ]
    }
   ],
   "source": [
    "print_nl_pred_vs_tgt(\n",
    "                [pred_list[i] for i in sel_idx]\n",
    "                ,[tgt_list[i] for i in sel_idx]\n",
    "                ,reports_index2word\n",
    "            )"
   ]
  }
 ],
 "metadata": {
  "kernelspec": {
   "display_name": "Python 3",
   "language": "python",
   "name": "python3"
  },
  "language_info": {
   "codemirror_mode": {
    "name": "ipython",
    "version": 3
   },
   "file_extension": ".py",
   "mimetype": "text/x-python",
   "name": "python",
   "nbconvert_exporter": "python",
   "pygments_lexer": "ipython3",
   "version": "3.6.10"
  }
 },
 "nbformat": 4,
 "nbformat_minor": 1
}
