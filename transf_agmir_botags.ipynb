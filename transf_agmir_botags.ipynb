{
 "cells": [
  {
   "cell_type": "code",
   "execution_count": 1,
   "metadata": {},
   "outputs": [],
   "source": [
    "%matplotlib inline"
   ]
  },
  {
   "cell_type": "code",
   "execution_count": 2,
   "metadata": {},
   "outputs": [],
   "source": [
    "import os\n",
    "import torch\n",
    "from einops import rearrange"
   ]
  },
  {
   "cell_type": "code",
   "execution_count": 3,
   "metadata": {},
   "outputs": [],
   "source": [
    "os.environ['CUDA_VISIBLE_DEVICES']='3'"
   ]
  },
  {
   "cell_type": "code",
   "execution_count": 4,
   "metadata": {},
   "outputs": [
    {
     "name": "stdout",
     "output_type": "stream",
     "text": [
      "cuda:0\n"
     ]
    }
   ],
   "source": [
    "device = torch.device(\"cuda:0\" if torch.cuda.is_available() else \"cpu\")\n",
    "print(device)"
   ]
  },
  {
   "cell_type": "code",
   "execution_count": 5,
   "metadata": {},
   "outputs": [],
   "source": [
    "%load_ext autoreload\n",
    "%autoreload 2"
   ]
  },
  {
   "cell_type": "markdown",
   "metadata": {},
   "source": [
    "# load data"
   ]
  },
  {
   "cell_type": "code",
   "execution_count": 6,
   "metadata": {},
   "outputs": [],
   "source": [
    "from transformer_translation.dataset import TagReportDataset, load_pickle\n",
    "from torch.utils.data import DataLoader"
   ]
  },
  {
   "cell_type": "code",
   "execution_count": 7,
   "metadata": {},
   "outputs": [],
   "source": [
    "data_path = r\"/home/alex/data/nlp/agmir/transf_processed_data\"\n",
    "#data_path = 'transformer_translation/data/processed'"
   ]
  },
  {
   "cell_type": "code",
   "execution_count": 8,
   "metadata": {},
   "outputs": [],
   "source": [
    "splits = load_pickle('20200525_splits.pkl')\n",
    "countvec = load_pickle('20200525_countvec.pkl')"
   ]
  },
  {
   "cell_type": "markdown",
   "metadata": {},
   "source": [
    "### train set"
   ]
  },
  {
   "cell_type": "code",
   "execution_count": 9,
   "metadata": {},
   "outputs": [
    {
     "name": "stdout",
     "output_type": "stream",
     "text": [
      "85\n"
     ]
    }
   ],
   "source": [
    "num_tokens = 2000\n",
    "max_seq_length = 96\n",
    "dataset = TagReportDataset(\n",
    "    os.path.join(data_path, 'tags/set_raw.pkl')\n",
    "    ,os.path.join(data_path, 'reports/set.pkl')\n",
    "    ,num_tokens\n",
    "    ,max_seq_length\n",
    "    ,idxs=splits['train']\n",
    "    ,countvec = countvec\n",
    ")\n",
    "loader = DataLoader(dataset, batch_size=1, shuffle=True, num_workers=4, pin_memory=True)\n",
    "print(len(dataset))"
   ]
  },
  {
   "cell_type": "markdown",
   "metadata": {},
   "source": [
    "### val set"
   ]
  },
  {
   "cell_type": "code",
   "execution_count": 10,
   "metadata": {},
   "outputs": [
    {
     "name": "stdout",
     "output_type": "stream",
     "text": [
      "6\n"
     ]
    }
   ],
   "source": [
    "val_dataset = TagReportDataset(\n",
    "    os.path.join(data_path, 'tags/set_raw.pkl')\n",
    "    ,os.path.join(data_path, 'reports/set.pkl')\n",
    "    ,num_tokens\n",
    "    ,max_seq_length\n",
    "    ,idxs=splits['val']\n",
    "    ,countvec = countvec\n",
    ")\n",
    "val_loader = DataLoader(val_dataset, batch_size=1, shuffle=True, num_workers=4, pin_memory=True)\n",
    "print(len(val_dataset))"
   ]
  },
  {
   "cell_type": "markdown",
   "metadata": {},
   "source": [
    "# train"
   ]
  },
  {
   "cell_type": "code",
   "execution_count": 11,
   "metadata": {},
   "outputs": [],
   "source": [
    "from transformer_translation.model import LanguageTransformer, ReportTransformer"
   ]
  },
  {
   "cell_type": "code",
   "execution_count": 12,
   "metadata": {},
   "outputs": [],
   "source": [
    "vocab_size = 10000 + 4#1952#\n",
    "nhead = 8\n",
    "d_model = 587 - (587 % nhead) + nhead\n",
    "num_encoder_layers = 6\n",
    "num_decoder_layers = 6\n",
    "dim_feedforward = 2048\n",
    "pos_dropout = 0.1\n",
    "trans_dropout = 0.1\n",
    "\n",
    "model = ReportTransformer(\n",
    "    vocab_size, d_model, nhead, num_encoder_layers, num_decoder_layers, dim_feedforward,\n",
    "    max_seq_length, pos_dropout, trans_dropout\n",
    ").to(device)"
   ]
  },
  {
   "cell_type": "code",
   "execution_count": 13,
   "metadata": {},
   "outputs": [],
   "source": [
    "    from transformer_translation.Optim import ScheduledOptim\n",
    "    import torch.nn as nn\n",
    "    from torch.optim import Adam\n",
    "    \n",
    "    for p in model.parameters():\n",
    "        if p.dim() > 1:\n",
    "            nn.init.xavier_normal_(p)\n",
    "\n",
    "    n_warmup_steps = 4000\n",
    "    optim = ScheduledOptim(\n",
    "        Adam(model.parameters(), betas=(0.9, 0.98), eps=1e-09),\n",
    "        d_model, n_warmup_steps)\n",
    "\n",
    "    criterion = nn.CrossEntropyLoss(ignore_index=0)"
   ]
  },
  {
   "cell_type": "code",
   "execution_count": 14,
   "metadata": {},
   "outputs": [],
   "source": [
    "from tsf_infer_utils import prep_transf_inputs, infer\n",
    "from torchtext.data.metrics import bleu_score\n",
    "from tsf_utils import format_list_for_bleu, get_bleu_from_loader"
   ]
  },
  {
   "cell_type": "code",
   "execution_count": 15,
   "metadata": {
    "scrolled": true
   },
   "outputs": [
    {
     "name": "stdout",
     "output_type": "stream",
     "text": [
      "Epoch [1 / 30] \t Step [20 / 85] \t Train Loss: 9.188\n",
      "Epoch [1 / 30] \t Step [40 / 85] \t Train Loss: 8.825\n",
      "Epoch [1 / 30] \t Step [60 / 85] \t Train Loss: 8.251\n",
      "Epoch [1 / 30] \t Step [80 / 85] \t Train Loss: 7.987\n",
      "Epoch [1 / 30]:\n",
      "\ttrain BLEU: 0.00%\n",
      "\tval BLEU: 0.00%\n",
      "\n",
      "\n",
      "Epoch [2 / 30] \t Step [20 / 85] \t Train Loss: 7.518\n",
      "Epoch [2 / 30] \t Step [40 / 85] \t Train Loss: 7.259\n",
      "Epoch [2 / 30] \t Step [60 / 85] \t Train Loss: 6.932\n",
      "Epoch [2 / 30] \t Step [80 / 85] \t Train Loss: 6.585\n",
      "Epoch [2 / 30]:\n",
      "\ttrain BLEU: 0.00%\n",
      "\tval BLEU: 0.00%\n",
      "\n",
      "\n",
      "Epoch [3 / 30] \t Step [20 / 85] \t Train Loss: 6.057\n",
      "Epoch [3 / 30] \t Step [40 / 85] \t Train Loss: 5.739\n",
      "Epoch [3 / 30] \t Step [60 / 85] \t Train Loss: 5.433\n",
      "Epoch [3 / 30] \t Step [80 / 85] \t Train Loss: 5.076\n",
      "Epoch [3 / 30]:\n",
      "\ttrain BLEU: 0.00%\n",
      "\tval BLEU: 0.00%\n",
      "\n",
      "\n",
      "Epoch [4 / 30] \t Step [20 / 85] \t Train Loss: 4.694\n",
      "Epoch [4 / 30] \t Step [40 / 85] \t Train Loss: 4.439\n",
      "Epoch [4 / 30] \t Step [60 / 85] \t Train Loss: 4.247\n",
      "Epoch [4 / 30] \t Step [80 / 85] \t Train Loss: 3.969\n",
      "Epoch [4 / 30]:\n",
      "\ttrain BLEU: 9.30%\n",
      "\tval BLEU: 7.46%\n",
      "\n",
      "\n",
      "Epoch [5 / 30] \t Step [20 / 85] \t Train Loss: 3.768\n",
      "Epoch [5 / 30] \t Step [40 / 85] \t Train Loss: 3.749\n",
      "Epoch [5 / 30] \t Step [60 / 85] \t Train Loss: 3.444\n",
      "Epoch [5 / 30] \t Step [80 / 85] \t Train Loss: 3.330\n",
      "Epoch [5 / 30]:\n",
      "\ttrain BLEU: 12.96%\n",
      "\tval BLEU: 10.30%\n",
      "\n",
      "\n",
      "Epoch [6 / 30] \t Step [20 / 85] \t Train Loss: 3.291\n",
      "Epoch [6 / 30] \t Step [40 / 85] \t Train Loss: 3.288\n",
      "Epoch [6 / 30] \t Step [60 / 85] \t Train Loss: 3.009\n",
      "Epoch [6 / 30] \t Step [80 / 85] \t Train Loss: 2.667\n",
      "Epoch [6 / 30]:\n",
      "\ttrain BLEU: 17.71%\n",
      "\tval BLEU: 13.99%\n",
      "\n",
      "\n",
      "Epoch [7 / 30] \t Step [20 / 85] \t Train Loss: 2.446\n",
      "Epoch [7 / 30] \t Step [40 / 85] \t Train Loss: 2.831\n",
      "Epoch [7 / 30] \t Step [60 / 85] \t Train Loss: 2.924\n",
      "Epoch [7 / 30] \t Step [80 / 85] \t Train Loss: 2.586\n",
      "Epoch [7 / 30]:\n",
      "\ttrain BLEU: 21.16%\n",
      "\tval BLEU: 16.36%\n",
      "\n",
      "\n",
      "Epoch [8 / 30] \t Step [20 / 85] \t Train Loss: 2.624\n",
      "Epoch [8 / 30] \t Step [40 / 85] \t Train Loss: 2.543\n",
      "Epoch [8 / 30] \t Step [60 / 85] \t Train Loss: 2.344\n",
      "Epoch [8 / 30] \t Step [80 / 85] \t Train Loss: 2.463\n",
      "Epoch [8 / 30]:\n",
      "\ttrain BLEU: 24.17%\n",
      "\tval BLEU: 18.47%\n",
      "\n",
      "\n",
      "Epoch [9 / 30] \t Step [20 / 85] \t Train Loss: 2.234\n",
      "Epoch [9 / 30] \t Step [40 / 85] \t Train Loss: 2.325\n",
      "Epoch [9 / 30] \t Step [60 / 85] \t Train Loss: 2.359\n",
      "Epoch [9 / 30] \t Step [80 / 85] \t Train Loss: 2.323\n",
      "Epoch [9 / 30]:\n",
      "\ttrain BLEU: 26.78%\n",
      "\tval BLEU: 20.86%\n",
      "\n",
      "\n",
      "Epoch [10 / 30] \t Step [20 / 85] \t Train Loss: 2.126\n",
      "Epoch [10 / 30] \t Step [40 / 85] \t Train Loss: 2.114\n",
      "Epoch [10 / 30] \t Step [60 / 85] \t Train Loss: 2.281\n",
      "Epoch [10 / 30] \t Step [80 / 85] \t Train Loss: 1.994\n",
      "Epoch [10 / 30]:\n",
      "\ttrain BLEU: 30.27%\n",
      "\tval BLEU: 24.00%\n",
      "\n",
      "\n",
      "Epoch [11 / 30] \t Step [20 / 85] \t Train Loss: 2.142\n",
      "Epoch [11 / 30] \t Step [40 / 85] \t Train Loss: 2.072\n",
      "Epoch [11 / 30] \t Step [60 / 85] \t Train Loss: 1.754\n",
      "Epoch [11 / 30] \t Step [80 / 85] \t Train Loss: 2.074\n",
      "Epoch [11 / 30]:\n",
      "\ttrain BLEU: 32.83%\n",
      "\tval BLEU: 25.12%\n",
      "\n",
      "\n",
      "Epoch [12 / 30] \t Step [20 / 85] \t Train Loss: 2.093\n",
      "Epoch [12 / 30] \t Step [40 / 85] \t Train Loss: 1.678\n",
      "Epoch [12 / 30] \t Step [60 / 85] \t Train Loss: 1.759\n",
      "Epoch [12 / 30] \t Step [80 / 85] \t Train Loss: 2.060\n",
      "Epoch [12 / 30]:\n",
      "\ttrain BLEU: 34.15%\n",
      "\tval BLEU: 26.18%\n",
      "\n",
      "\n",
      "Epoch [13 / 30] \t Step [20 / 85] \t Train Loss: 1.876\n",
      "Epoch [13 / 30] \t Step [40 / 85] \t Train Loss: 1.733\n",
      "Epoch [13 / 30] \t Step [60 / 85] \t Train Loss: 1.732\n",
      "Epoch [13 / 30] \t Step [80 / 85] \t Train Loss: 1.754\n",
      "Epoch [13 / 30]:\n",
      "\ttrain BLEU: 37.76%\n",
      "\tval BLEU: 28.78%\n",
      "\n",
      "\n",
      "Epoch [14 / 30] \t Step [20 / 85] \t Train Loss: 1.731\n",
      "Epoch [14 / 30] \t Step [40 / 85] \t Train Loss: 1.655\n",
      "Epoch [14 / 30] \t Step [60 / 85] \t Train Loss: 1.674\n",
      "Epoch [14 / 30] \t Step [80 / 85] \t Train Loss: 1.695\n",
      "Epoch [14 / 30]:\n",
      "\ttrain BLEU: 40.46%\n",
      "\tval BLEU: 30.91%\n",
      "\n",
      "\n",
      "Epoch [15 / 30] \t Step [20 / 85] \t Train Loss: 1.403\n",
      "Epoch [15 / 30] \t Step [40 / 85] \t Train Loss: 1.569\n",
      "Epoch [15 / 30] \t Step [60 / 85] \t Train Loss: 1.718\n",
      "Epoch [15 / 30] \t Step [80 / 85] \t Train Loss: 1.750\n",
      "Epoch [15 / 30]:\n",
      "\ttrain BLEU: 41.51%\n",
      "\tval BLEU: 30.99%\n",
      "\n",
      "\n",
      "Epoch [16 / 30] \t Step [20 / 85] \t Train Loss: 1.496\n",
      "Epoch [16 / 30] \t Step [40 / 85] \t Train Loss: 1.405\n",
      "Epoch [16 / 30] \t Step [60 / 85] \t Train Loss: 1.749\n",
      "Epoch [16 / 30] \t Step [80 / 85] \t Train Loss: 1.461\n",
      "Epoch [16 / 30]:\n",
      "\ttrain BLEU: 44.04%\n",
      "\tval BLEU: 32.78%\n",
      "\n",
      "\n",
      "Epoch [17 / 30] \t Step [20 / 85] \t Train Loss: 1.704\n",
      "Epoch [17 / 30] \t Step [40 / 85] \t Train Loss: 1.223\n",
      "Epoch [17 / 30] \t Step [60 / 85] \t Train Loss: 1.401\n",
      "Epoch [17 / 30] \t Step [80 / 85] \t Train Loss: 1.344\n",
      "Epoch [17 / 30]:\n",
      "\ttrain BLEU: 45.32%\n",
      "\tval BLEU: 33.26%\n",
      "\n",
      "\n",
      "Epoch [18 / 30] \t Step [20 / 85] \t Train Loss: 1.558\n",
      "Epoch [18 / 30] \t Step [40 / 85] \t Train Loss: 1.367\n",
      "Epoch [18 / 30] \t Step [60 / 85] \t Train Loss: 1.345\n",
      "Epoch [18 / 30] \t Step [80 / 85] \t Train Loss: 1.372\n",
      "Epoch [18 / 30]:\n",
      "\ttrain BLEU: 46.40%\n",
      "\tval BLEU: 33.45%\n",
      "\n",
      "\n",
      "Epoch [19 / 30] \t Step [20 / 85] \t Train Loss: 1.263\n",
      "Epoch [19 / 30] \t Step [40 / 85] \t Train Loss: 1.311\n",
      "Epoch [19 / 30] \t Step [60 / 85] \t Train Loss: 1.402\n",
      "Epoch [19 / 30] \t Step [80 / 85] \t Train Loss: 1.334\n",
      "Epoch [19 / 30]:\n",
      "\ttrain BLEU: 48.12%\n",
      "\tval BLEU: 34.77%\n",
      "\n",
      "\n",
      "Epoch [20 / 30] \t Step [20 / 85] \t Train Loss: 1.443\n",
      "Epoch [20 / 30] \t Step [40 / 85] \t Train Loss: 1.254\n",
      "Epoch [20 / 30] \t Step [60 / 85] \t Train Loss: 1.244\n",
      "Epoch [20 / 30] \t Step [80 / 85] \t Train Loss: 1.193\n",
      "Epoch [20 / 30]:\n",
      "\ttrain BLEU: 48.75%\n",
      "\tval BLEU: 34.83%\n",
      "\n",
      "\n",
      "Epoch [21 / 30] \t Step [20 / 85] \t Train Loss: 1.268\n",
      "Epoch [21 / 30] \t Step [40 / 85] \t Train Loss: 0.905\n",
      "Epoch [21 / 30] \t Step [60 / 85] \t Train Loss: 1.337\n",
      "Epoch [21 / 30] \t Step [80 / 85] \t Train Loss: 1.369\n",
      "Epoch [21 / 30]:\n",
      "\ttrain BLEU: 50.84%\n",
      "\tval BLEU: 35.65%\n",
      "\n",
      "\n",
      "Epoch [22 / 30] \t Step [20 / 85] \t Train Loss: 1.092\n",
      "Epoch [22 / 30] \t Step [40 / 85] \t Train Loss: 1.239\n",
      "Epoch [22 / 30] \t Step [60 / 85] \t Train Loss: 1.184\n",
      "Epoch [22 / 30] \t Step [80 / 85] \t Train Loss: 1.110\n",
      "Epoch [22 / 30]:\n",
      "\ttrain BLEU: 51.74%\n",
      "\tval BLEU: 35.41%\n",
      "\n",
      "\n",
      "Epoch [23 / 30] \t Step [20 / 85] \t Train Loss: 1.051\n",
      "Epoch [23 / 30] \t Step [40 / 85] \t Train Loss: 1.029\n",
      "Epoch [23 / 30] \t Step [60 / 85] \t Train Loss: 1.251\n",
      "Epoch [23 / 30] \t Step [80 / 85] \t Train Loss: 1.089\n",
      "Epoch [23 / 30]:\n",
      "\ttrain BLEU: 54.27%\n",
      "\tval BLEU: 36.64%\n",
      "\n",
      "\n",
      "Epoch [24 / 30] \t Step [20 / 85] \t Train Loss: 1.000\n",
      "Epoch [24 / 30] \t Step [40 / 85] \t Train Loss: 1.098\n",
      "Epoch [24 / 30] \t Step [60 / 85] \t Train Loss: 0.972\n",
      "Epoch [24 / 30] \t Step [80 / 85] \t Train Loss: 1.150\n",
      "Epoch [24 / 30]:\n",
      "\ttrain BLEU: 55.02%\n",
      "\tval BLEU: 37.15%\n",
      "\n",
      "\n",
      "Epoch [25 / 30] \t Step [20 / 85] \t Train Loss: 0.979\n",
      "Epoch [25 / 30] \t Step [40 / 85] \t Train Loss: 0.882\n",
      "Epoch [25 / 30] \t Step [60 / 85] \t Train Loss: 1.018\n",
      "Epoch [25 / 30] \t Step [80 / 85] \t Train Loss: 1.156\n",
      "Epoch [25 / 30]:\n",
      "\ttrain BLEU: 57.23%\n",
      "\tval BLEU: 36.94%\n",
      "\n",
      "\n",
      "Epoch [26 / 30] \t Step [20 / 85] \t Train Loss: 0.963\n",
      "Epoch [26 / 30] \t Step [40 / 85] \t Train Loss: 0.874\n",
      "Epoch [26 / 30] \t Step [60 / 85] \t Train Loss: 0.995\n",
      "Epoch [26 / 30] \t Step [80 / 85] \t Train Loss: 0.998\n",
      "Epoch [26 / 30]:\n",
      "\ttrain BLEU: 57.67%\n",
      "\tval BLEU: 36.71%\n",
      "\n",
      "\n",
      "Epoch [27 / 30] \t Step [20 / 85] \t Train Loss: 0.825\n",
      "Epoch [27 / 30] \t Step [40 / 85] \t Train Loss: 0.904\n",
      "Epoch [27 / 30] \t Step [60 / 85] \t Train Loss: 1.062\n",
      "Epoch [27 / 30] \t Step [80 / 85] \t Train Loss: 0.885\n",
      "Epoch [27 / 30]:\n",
      "\ttrain BLEU: 59.95%\n",
      "\tval BLEU: 36.98%\n",
      "\n",
      "\n",
      "Epoch [28 / 30] \t Step [20 / 85] \t Train Loss: 0.824\n",
      "Epoch [28 / 30] \t Step [40 / 85] \t Train Loss: 0.904\n",
      "Epoch [28 / 30] \t Step [60 / 85] \t Train Loss: 0.929\n",
      "Epoch [28 / 30] \t Step [80 / 85] \t Train Loss: 0.985\n",
      "Epoch [28 / 30]:\n",
      "\ttrain BLEU: 60.13%\n",
      "\tval BLEU: 37.49%\n",
      "\n",
      "\n",
      "Epoch [29 / 30] \t Step [20 / 85] \t Train Loss: 0.905\n",
      "Epoch [29 / 30] \t Step [40 / 85] \t Train Loss: 0.876\n",
      "Epoch [29 / 30] \t Step [60 / 85] \t Train Loss: 0.732\n",
      "Epoch [29 / 30] \t Step [80 / 85] \t Train Loss: 0.873\n",
      "Epoch [29 / 30]:\n",
      "\ttrain BLEU: 62.29%\n",
      "\tval BLEU: 37.35%\n",
      "\n",
      "\n",
      "Epoch [30 / 30] \t Step [20 / 85] \t Train Loss: 0.808\n",
      "Epoch [30 / 30] \t Step [40 / 85] \t Train Loss: 0.842\n",
      "Epoch [30 / 30] \t Step [60 / 85] \t Train Loss: 0.816\n",
      "Epoch [30 / 30] \t Step [80 / 85] \t Train Loss: 0.791\n",
      "Epoch [30 / 30]:\n",
      "\ttrain BLEU: 64.19%\n",
      "\tval BLEU: 37.21%\n",
      "\n",
      "\n",
      "CPU times: user 5h 13min 52s, sys: 12min 3s, total: 5h 25min 55s\n",
      "Wall time: 13min 26s\n"
     ]
    }
   ],
   "source": [
    "    %%time\n",
    "    print_every = 20\n",
    "    num_epochs = 30\n",
    "    early_stopping_flag = True\n",
    "\n",
    "    lowest_val = 1e9\n",
    "    val_losses = []\n",
    "    total_step = 0\n",
    "    \n",
    "    for epoch in range(num_epochs):\n",
    "        \n",
    "        model.train()\n",
    "        total_loss = 0\n",
    "\n",
    "        for step, (src, src_key_padding_mask, tgt, tgt_key_padding_mask) in enumerate(iter(loader)):\n",
    "            total_step += 1\n",
    "\n",
    "            src, src_key_padding_mask, tgt, tgt_key_padding_mask, memory_key_padding_mask, tgt_inp, tgt_out, tgt_mask = prep_transf_inputs(\n",
    "                src, src_key_padding_mask, tgt, tgt_key_padding_mask, device)\n",
    "            \n",
    "            optim.zero_grad()\n",
    "            outputs = model(src, tgt_inp, src_key_padding_mask, tgt_key_padding_mask[:, :-1], memory_key_padding_mask, tgt_mask)\n",
    "            loss = criterion(rearrange(outputs, 'b t v -> (b t) v'), rearrange(tgt_out, 'b o -> (b o)'))\n",
    "\n",
    "            loss.backward()\n",
    "            optim.step_and_update_lr()\n",
    "\n",
    "            total_loss += loss.item()\n",
    "            if step % print_every == print_every - 1:\n",
    "                print(f'Epoch [{epoch + 1} / {num_epochs}] \\t Step [{step + 1} / {len(loader)}] \\t '\n",
    "                      'Train Loss: {:.3f}'.format(total_loss / print_every))\n",
    "                total_loss = 0\n",
    "                \n",
    "        if early_stopping_flag:\n",
    "            model.eval()\n",
    "            print(f'Epoch [{epoch + 1} / {num_epochs}]:')\n",
    "            print('{} BLEU: {:.2%}'.format(\n",
    "                '\\ttrain', get_bleu_from_loader(model, loader)))\n",
    "            print('{} BLEU: {:.2%}'.format(\n",
    "                '\\tval', get_bleu_from_loader(model, val_loader)))\n",
    "        print('\\n')"
   ]
  },
  {
   "cell_type": "markdown",
   "metadata": {},
   "source": [
    "# assess perf"
   ]
  },
  {
   "cell_type": "markdown",
   "metadata": {},
   "source": [
    "### run inference"
   ]
  },
  {
   "cell_type": "code",
   "execution_count": 17,
   "metadata": {},
   "outputs": [
    {
     "name": "stdout",
     "output_type": "stream",
     "text": [
      "6\n"
     ]
    }
   ],
   "source": [
    "test_dataset = TagReportDataset(\n",
    "    os.path.join(data_path, 'tags/set_raw.pkl')\n",
    "    ,os.path.join(data_path, 'reports/set.pkl')\n",
    "    ,num_tokens\n",
    "    ,max_seq_length\n",
    "    ,idxs=splits['test']\n",
    "    ,countvec = countvec\n",
    ")\n",
    "test_loader = DataLoader(test_dataset, batch_size=1, shuffle=True, num_workers=4, pin_memory=True)\n",
    "print(len(test_dataset))"
   ]
  },
  {
   "cell_type": "code",
   "execution_count": 18,
   "metadata": {},
   "outputs": [
    {
     "name": "stdout",
     "output_type": "stream",
     "text": [
      "CPU times: user 19.5 s, sys: 1.32 s, total: 20.8 s\n",
      "Wall time: 906 ms\n"
     ]
    }
   ],
   "source": [
    "%%time\n",
    "pred_list, tgt_list = infer(model, test_loader)"
   ]
  },
  {
   "cell_type": "markdown",
   "metadata": {},
   "source": [
    "### compute BLEU"
   ]
  },
  {
   "cell_type": "code",
   "execution_count": 23,
   "metadata": {
    "scrolled": true
   },
   "outputs": [
    {
     "name": "stdout",
     "output_type": "stream",
     "text": [
      "test BLEU: 40.81%\n",
      "CPU times: user 1.58 s, sys: 20 ms, total: 1.6 s\n",
      "Wall time: 1.6 s\n"
     ]
    }
   ],
   "source": [
    "%%time\n",
    "pred_list_bleu, tgt_list_bleu = format_list_for_bleu(pred_list, tgt_list)\n",
    "print('{} BLEU: {:.2%}'.format(\n",
    "                'test', bleu_score(pred_list_bleu, tgt_list_bleu)))"
   ]
  },
  {
   "cell_type": "markdown",
   "metadata": {},
   "source": [
    "### create vocab dicts "
   ]
  },
  {
   "cell_type": "code",
   "execution_count": 17,
   "metadata": {},
   "outputs": [],
   "source": [
    "tags_index2word = dict(zip(range(len(dataset.countvec.vocabulary)), dataset.countvec.vocabulary))"
   ]
  },
  {
   "cell_type": "code",
   "execution_count": 18,
   "metadata": {},
   "outputs": [],
   "source": [
    "from transformer_translation.dataset import load_report_voc\n",
    "reports_index2word = load_report_voc(\n",
    "    os.path.join(data_path, 'reports', 'voc.pkl'))"
   ]
  },
  {
   "cell_type": "markdown",
   "metadata": {},
   "source": [
    "### assess nat lg perf"
   ]
  },
  {
   "cell_type": "code",
   "execution_count": 19,
   "metadata": {},
   "outputs": [],
   "source": [
    "from tsf_utils import print_nl_pred_vs_tgt"
   ]
  },
  {
   "cell_type": "code",
   "execution_count": 23,
   "metadata": {},
   "outputs": [],
   "source": [
    "import random\n",
    "k = 10\n",
    "sel_idx = random.sample(range(len(pred_list)), k=k)"
   ]
  },
  {
   "cell_type": "code",
   "execution_count": 21,
   "metadata": {},
   "outputs": [
    {
     "name": "stdout",
     "output_type": "stream",
     "text": [
      "TARGET:   normal chest no evidence of tuberculosis heart size normal . lungs are clear . xxxx are normal . no pneumonia effusions edema pneumothorax adenopathy nodules or masses . .\n",
      "PREDICTION:  no chest heart evidence of tuberculosis heart size normal . lungs are clear . xxxx are normal . no pneumonia effusions edema pneumothorax adenopathy nodules or masses . .\n",
      "\n",
      "\n",
      "TARGET:   no acute cardiopulmonary abnormality . mediastinal contours are normal . heart size is within normal limits . multiple scattered calcified pulmonary nodules xxxx sequela of prior granulomatous disease . otherwise lungs are clear . . there is no pneumothorax or large pleural effusion . no bony abnormality . .\n",
      "PREDICTION:   acute cardiopulmonary abnormality . . contours are within . no size is within normal limits . no calcified calcified granulomas nodules are . of prior granulomatous disease . no lungs are clear without no no is no pneumothorax or large pleural effusion . there acute abnormality . .\n",
      "\n",
      "\n",
      "TARGET:   no acute findings . cardiac and mediastinal contours are within normal limits . the lungs are clear . bony structures are intact . .\n",
      "PREDICTION:  no acute cardiopulmonary . cardiac and mediastinal contours are within normal limits . the lungs are clear . bony structures are intact . .\n",
      "\n",
      "\n",
      "TARGET:   exam quality limited by hypoinflation and rotation . considering technical factors heart size xxxx mildly enlarged aortic calcifications and ectasia tortuosity mediastinal calcifications suggest a previous granulomatous process . no focal alveolar consolidation no definite pleural effusion seen . bronchovascular crowding without typical findings of pulmonary edema . .\n",
      "PREDICTION:   quality limited by body and no . heart technical factors xxxx size and within enlarged . ectasia and aortic tortuosity stable contours suggest a previous granulomatous process . no focal alveolar consolidation no definite pleural effusion seen . no crowding without typical findings of pulmonary edema . .\n",
      "\n",
      "\n",
      "TARGET:   no acute cardiopulmonary disease . . the cardiomediastinal silhouette is normal size and configuration . pulmonary vasculature within normal limits . the lungs are well aerated . there is no pneumothorax pleural effusion or focal consolidation . .\n",
      "PREDICTION:  no acute cardiopulmonary abnormality . the the cardiomediastinal silhouette is normal in and configuration . pulmonary vasculature within normal limits . the lungs are well aerated . there is no pneumothorax pleural effusion or focal consolidation . bony\n",
      "\n",
      "\n",
      "TARGET:   copd . no acute pulmonary disease . there is hyperinflation of the lungs appear to be clear . there is no pleural effusion or the heart is normal . there are atherosclerotic changes of the aorta . the skeletal structures are normal . .\n",
      "PREDICTION:   . no acute pulmonary disease . the is a . the lungs . to be clear . there is no pleural effusion or pneumothorax heart and not in arthritic are no changes of the aorta . arthritic skeletal structures are normal . .\n",
      "\n",
      "\n",
      "TARGET:   low lung volumes otherwise clear . the cardiomediastinal silhouette is normal in size and contour . no focal consolidation pneumothorax or large pleural effusion . normal xxxx . xxxx cholecystectomy . .\n",
      "PREDICTION:  no lung volumes with no . the cardiomediastinal silhouette is normal in size and contour . no focal consolidation pneumothorax or large pleural effusion . calcified xxxx . . foreign . .\n",
      "\n",
      "\n",
      "TARGET:   minimal xxxx left base atelectasis infiltrate . otherwise stable exam . mild cardiomegaly unchanged . stable superior mediastinal contour with tortuous aorta . normal pulmonary vascularity . unchanged elevated right hemidiaphragm with minimal right base subsegmental atelectasis . minimal xxxx left basal airspace opacity . unchanged blunting of the right lateral costophrenic xxxx scarring versus xxxx effusion . no pneumothorax . no acute osseous findings . .\n",
      "PREDICTION:   left right basilar airspace . . the unremarkable appearance . stable cardiomegaly . . the cardiomegaly mediastinal contour . unchanged aorta . no pulmonary vascularity . no right right hemidiaphragm . xxxx right pleural atelectasis atelectasis or no right right pleural airspace disease . no blunting of the right costophrenic costophrenic xxxx . . atelectasis . . no pneumothorax or no acute bony findings . .\n",
      "\n",
      "\n",
      "TARGET:   mild cardiomegaly no acute pulmonary findings mild cardiomegaly stable mediastinal contours . no focal alveolar consolidation no definite pleural effusion seen . mild bronchovascular crowding without typical findings of pulmonary edema . .\n",
      "PREDICTION:  cardiomegaly cardiomegaly . acute pulmonary findings heart cardiomegaly . mediastinal contours . stable focal alveolar consolidation no definite pleural effusion seen . no right crowding without typical findings of pulmonary edema . .\n",
      "\n",
      "\n",
      "TARGET:   mild blunted right costophrenic xxxx which could be due to xxxx effusion or scarring . the heart and mediastinum are normal . the lungs are clear . there is mild blunting of the right costophrenic xxxx . there is no infiltrate mass or pneumothorax . the right internal jugular catheter has been removed . .\n",
      "PREDICTION:   bibasilar left costophrenic xxxx . may represent secondary to atelectasis effusion or atelectasis . no cardiomediastinal size mediastinum are within . the lungs are clear . there is no xxxx of the costophrenic costophrenic xxxx . there is no pneumothorax or or pneumothorax . . bony costophrenic jugular catheter has been removed . .\n",
      "\n",
      "\n"
     ]
    }
   ],
   "source": [
    "print_nl_pred_vs_tgt(\n",
    "                [pred_list[i] for i in sel_idx]\n",
    "                ,[tgt_list[i] for i in sel_idx]\n",
    "                ,reports_index2word\n",
    "            )"
   ]
  }
 ],
 "metadata": {
  "kernelspec": {
   "display_name": "bcic",
   "language": "python",
   "name": "bcic"
  },
  "language_info": {
   "codemirror_mode": {
    "name": "ipython",
    "version": 3
   },
   "file_extension": ".py",
   "mimetype": "text/x-python",
   "name": "python",
   "nbconvert_exporter": "python",
   "pygments_lexer": "ipython3",
   "version": "3.6.10"
  }
 },
 "nbformat": 4,
 "nbformat_minor": 1
}
