{
 "cells": [
  {
   "cell_type": "code",
   "execution_count": 1,
   "metadata": {},
   "outputs": [],
   "source": [
    "%matplotlib inline"
   ]
  },
  {
   "cell_type": "code",
   "execution_count": 2,
   "metadata": {},
   "outputs": [],
   "source": [
    "import os\n",
    "import torch\n",
    "from einops import rearrange"
   ]
  },
  {
   "cell_type": "code",
   "execution_count": 3,
   "metadata": {},
   "outputs": [
    {
     "name": "stdout",
     "output_type": "stream",
     "text": [
      "cuda:7\n"
     ]
    }
   ],
   "source": [
    "device = torch.device(\"cuda:7\" if torch.cuda.is_available() else \"cpu\")\n",
    "print(device)"
   ]
  },
  {
   "cell_type": "code",
   "execution_count": 4,
   "metadata": {},
   "outputs": [],
   "source": [
    "%load_ext autoreload\n",
    "%autoreload 2"
   ]
  },
  {
   "cell_type": "markdown",
   "metadata": {},
   "source": [
    "# load data"
   ]
  },
  {
   "cell_type": "code",
   "execution_count": 5,
   "metadata": {},
   "outputs": [],
   "source": [
    "from transformer_translation.dataset import TagReportDataset\n",
    "from torch.utils.data import DataLoader"
   ]
  },
  {
   "cell_type": "code",
   "execution_count": 6,
   "metadata": {},
   "outputs": [],
   "source": [
    "data_path = r\"/home/alex/data/nlp/agmir/transf_processed_data\"\n",
    "#data_path = 'transformer_translation/data/processed'"
   ]
  },
  {
   "cell_type": "code",
   "execution_count": 7,
   "metadata": {},
   "outputs": [],
   "source": [
    "num_tokens = 2000\n",
    "max_seq_length = 96\n",
    "dataset = TagReportDataset(\n",
    "    os.path.join(data_path, 'tags/set_raw.pkl')\n",
    "    ,os.path.join(data_path, 'reports/set.pkl')\n",
    "    ,num_tokens\n",
    "    ,max_seq_length)\n",
    "loader = DataLoader(dataset, batch_size=1, shuffle=True, num_workers=4, pin_memory=True)"
   ]
  },
  {
   "cell_type": "markdown",
   "metadata": {},
   "source": [
    "# train"
   ]
  },
  {
   "cell_type": "code",
   "execution_count": 8,
   "metadata": {},
   "outputs": [],
   "source": [
    "from transformer_translation.model import LanguageTransformer, ReportTransformer"
   ]
  },
  {
   "cell_type": "code",
   "execution_count": 9,
   "metadata": {},
   "outputs": [],
   "source": [
    "vocab_size = 10000 + 4#1952#\n",
    "nhead = 8\n",
    "d_model = 587 - (587 % nhead) + nhead\n",
    "num_encoder_layers = 6\n",
    "num_decoder_layers = 6\n",
    "dim_feedforward = 2048\n",
    "pos_dropout = 0.1\n",
    "trans_dropout = 0.1\n",
    "\n",
    "model = ReportTransformer(\n",
    "    vocab_size, d_model, nhead, num_encoder_layers, num_decoder_layers, dim_feedforward,\n",
    "    max_seq_length, pos_dropout, trans_dropout\n",
    ").to(device)"
   ]
  },
  {
   "cell_type": "code",
   "execution_count": 10,
   "metadata": {},
   "outputs": [],
   "source": [
    "    from transformer_translation.Optim import ScheduledOptim\n",
    "    import torch.nn as nn\n",
    "    from torch.optim import Adam\n",
    "    \n",
    "    for p in model.parameters():\n",
    "        if p.dim() > 1:\n",
    "            nn.init.xavier_normal_(p)\n",
    "\n",
    "    n_warmup_steps = 4000\n",
    "    optim = ScheduledOptim(\n",
    "        Adam(model.parameters(), betas=(0.9, 0.98), eps=1e-09),\n",
    "        d_model, n_warmup_steps)\n",
    "\n",
    "    criterion = nn.CrossEntropyLoss(ignore_index=0)"
   ]
  },
  {
   "cell_type": "code",
   "execution_count": 11,
   "metadata": {},
   "outputs": [],
   "source": [
    "from tsf_train_utils import prep_transf_inputs"
   ]
  },
  {
   "cell_type": "code",
   "execution_count": 12,
   "metadata": {},
   "outputs": [
    {
     "name": "stdout",
     "output_type": "stream",
     "text": [
      "Epoch [1 / 20] \t Step [15 / 98] \t Train Loss: 9.233571688334147\n",
      "Epoch [1 / 20] \t Step [30 / 98] \t Train Loss: 8.908067321777343\n",
      "Epoch [1 / 20] \t Step [45 / 98] \t Train Loss: 8.530613327026368\n",
      "Epoch [1 / 20] \t Step [60 / 98] \t Train Loss: 8.099655564626058\n",
      "Epoch [1 / 20] \t Step [75 / 98] \t Train Loss: 7.864101696014404\n",
      "Epoch [1 / 20] \t Step [90 / 98] \t Train Loss: 7.6330458958943685\n",
      "Epoch [2 / 20] \t Step [15 / 98] \t Train Loss: 7.228667704264323\n",
      "Epoch [2 / 20] \t Step [30 / 98] \t Train Loss: 7.1179145812988285\n",
      "Epoch [2 / 20] \t Step [45 / 98] \t Train Loss: 6.805792840321859\n",
      "Epoch [2 / 20] \t Step [60 / 98] \t Train Loss: 6.505191167195638\n",
      "Epoch [2 / 20] \t Step [75 / 98] \t Train Loss: 6.318790435791016\n",
      "Epoch [2 / 20] \t Step [90 / 98] \t Train Loss: 5.965014330546061\n",
      "Epoch [3 / 20] \t Step [15 / 98] \t Train Loss: 5.686200396219889\n",
      "Epoch [3 / 20] \t Step [30 / 98] \t Train Loss: 5.332015514373779\n",
      "Epoch [3 / 20] \t Step [45 / 98] \t Train Loss: 5.136171913146972\n",
      "Epoch [3 / 20] \t Step [60 / 98] \t Train Loss: 4.973813756306966\n",
      "Epoch [3 / 20] \t Step [75 / 98] \t Train Loss: 5.012957382202148\n",
      "Epoch [3 / 20] \t Step [90 / 98] \t Train Loss: 4.836623732248942\n",
      "Epoch [4 / 20] \t Step [15 / 98] \t Train Loss: 4.302396504084269\n",
      "Epoch [4 / 20] \t Step [30 / 98] \t Train Loss: 4.369398244222006\n",
      "Epoch [4 / 20] \t Step [45 / 98] \t Train Loss: 4.1326176484425865\n",
      "Epoch [4 / 20] \t Step [60 / 98] \t Train Loss: 3.941192118326823\n",
      "Epoch [4 / 20] \t Step [75 / 98] \t Train Loss: 4.0471905390421545\n",
      "Epoch [4 / 20] \t Step [90 / 98] \t Train Loss: 3.8681159178415934\n",
      "Epoch [5 / 20] \t Step [15 / 98] \t Train Loss: 3.422247314453125\n",
      "Epoch [5 / 20] \t Step [30 / 98] \t Train Loss: 3.321100695927938\n",
      "Epoch [5 / 20] \t Step [45 / 98] \t Train Loss: 3.443628931045532\n",
      "Epoch [5 / 20] \t Step [60 / 98] \t Train Loss: 3.3731960614522296\n",
      "Epoch [5 / 20] \t Step [75 / 98] \t Train Loss: 3.4013960043589275\n",
      "Epoch [5 / 20] \t Step [90 / 98] \t Train Loss: 3.1457326412200928\n",
      "Epoch [6 / 20] \t Step [15 / 98] \t Train Loss: 3.0012391408284507\n",
      "Epoch [6 / 20] \t Step [30 / 98] \t Train Loss: 2.8952898581822715\n",
      "Epoch [6 / 20] \t Step [45 / 98] \t Train Loss: 2.8759090582529705\n",
      "Epoch [6 / 20] \t Step [60 / 98] \t Train Loss: 2.953936052322388\n",
      "Epoch [6 / 20] \t Step [75 / 98] \t Train Loss: 2.773006240526835\n",
      "Epoch [6 / 20] \t Step [90 / 98] \t Train Loss: 2.9809547662734985\n",
      "Epoch [7 / 20] \t Step [15 / 98] \t Train Loss: 2.9149514993031818\n",
      "Epoch [7 / 20] \t Step [30 / 98] \t Train Loss: 2.4831727902094523\n",
      "Epoch [7 / 20] \t Step [45 / 98] \t Train Loss: 2.7092231114705405\n",
      "Epoch [7 / 20] \t Step [60 / 98] \t Train Loss: 2.7827585776646933\n",
      "Epoch [7 / 20] \t Step [75 / 98] \t Train Loss: 2.4149903774261476\n",
      "Epoch [7 / 20] \t Step [90 / 98] \t Train Loss: 2.673057691256205\n",
      "Epoch [8 / 20] \t Step [15 / 98] \t Train Loss: 2.434091488520304\n",
      "Epoch [8 / 20] \t Step [30 / 98] \t Train Loss: 2.336083165804545\n",
      "Epoch [8 / 20] \t Step [45 / 98] \t Train Loss: 2.605925186475118\n",
      "Epoch [8 / 20] \t Step [60 / 98] \t Train Loss: 2.414006169637044\n",
      "Epoch [8 / 20] \t Step [75 / 98] \t Train Loss: 2.33809224764506\n",
      "Epoch [8 / 20] \t Step [90 / 98] \t Train Loss: 2.2198890844980874\n",
      "Epoch [9 / 20] \t Step [15 / 98] \t Train Loss: 2.1680553515752155\n",
      "Epoch [9 / 20] \t Step [30 / 98] \t Train Loss: 2.167972461382548\n",
      "Epoch [9 / 20] \t Step [45 / 98] \t Train Loss: 2.3458597977956135\n",
      "Epoch [9 / 20] \t Step [60 / 98] \t Train Loss: 2.265503485997518\n",
      "Epoch [9 / 20] \t Step [75 / 98] \t Train Loss: 1.9628388245900472\n",
      "Epoch [9 / 20] \t Step [90 / 98] \t Train Loss: 2.5038297255833943\n",
      "Epoch [10 / 20] \t Step [15 / 98] \t Train Loss: 2.170527521769206\n",
      "Epoch [10 / 20] \t Step [30 / 98] \t Train Loss: 2.008215077718099\n",
      "Epoch [10 / 20] \t Step [45 / 98] \t Train Loss: 2.4045029322306317\n",
      "Epoch [10 / 20] \t Step [60 / 98] \t Train Loss: 1.9773603757222493\n",
      "Epoch [10 / 20] \t Step [75 / 98] \t Train Loss: 1.9678142627080282\n",
      "Epoch [10 / 20] \t Step [90 / 98] \t Train Loss: 2.0913131634394326\n",
      "Epoch [11 / 20] \t Step [15 / 98] \t Train Loss: 1.985115106900533\n",
      "Epoch [11 / 20] \t Step [30 / 98] \t Train Loss: 2.1460591554641724\n",
      "Epoch [11 / 20] \t Step [45 / 98] \t Train Loss: 1.9496466716130574\n",
      "Epoch [11 / 20] \t Step [60 / 98] \t Train Loss: 1.8596123059590657\n",
      "Epoch [11 / 20] \t Step [75 / 98] \t Train Loss: 1.934755309422811\n",
      "Epoch [11 / 20] \t Step [90 / 98] \t Train Loss: 1.8085944573084514\n",
      "Epoch [12 / 20] \t Step [15 / 98] \t Train Loss: 1.7422149578730266\n",
      "Epoch [12 / 20] \t Step [30 / 98] \t Train Loss: 1.9239266554514567\n",
      "Epoch [12 / 20] \t Step [45 / 98] \t Train Loss: 2.0079522212346395\n",
      "Epoch [12 / 20] \t Step [60 / 98] \t Train Loss: 1.7764237682024637\n",
      "Epoch [12 / 20] \t Step [75 / 98] \t Train Loss: 1.9115708669026692\n",
      "Epoch [12 / 20] \t Step [90 / 98] \t Train Loss: 1.6142804384231568\n",
      "Epoch [13 / 20] \t Step [15 / 98] \t Train Loss: 1.6073593179384866\n",
      "Epoch [13 / 20] \t Step [30 / 98] \t Train Loss: 1.7549753506978354\n",
      "Epoch [13 / 20] \t Step [45 / 98] \t Train Loss: 1.9638919750849406\n",
      "Epoch [13 / 20] \t Step [60 / 98] \t Train Loss: 1.7248511115709941\n",
      "Epoch [13 / 20] \t Step [75 / 98] \t Train Loss: 1.6936840216318767\n",
      "Epoch [13 / 20] \t Step [90 / 98] \t Train Loss: 1.6611283938090007\n",
      "Epoch [14 / 20] \t Step [15 / 98] \t Train Loss: 1.5825075427691142\n",
      "Epoch [14 / 20] \t Step [30 / 98] \t Train Loss: 1.8006485184033711\n",
      "Epoch [14 / 20] \t Step [45 / 98] \t Train Loss: 1.5813179651896159\n",
      "Epoch [14 / 20] \t Step [60 / 98] \t Train Loss: 1.719300087292989\n",
      "Epoch [14 / 20] \t Step [75 / 98] \t Train Loss: 1.640529704093933\n",
      "Epoch [14 / 20] \t Step [90 / 98] \t Train Loss: 1.5422444264094035\n",
      "Epoch [15 / 20] \t Step [15 / 98] \t Train Loss: 1.5380695939064026\n",
      "Epoch [15 / 20] \t Step [30 / 98] \t Train Loss: 1.7870715578397116\n",
      "Epoch [15 / 20] \t Step [45 / 98] \t Train Loss: 1.469059173266093\n",
      "Epoch [15 / 20] \t Step [60 / 98] \t Train Loss: 1.6154778321584067\n",
      "Epoch [15 / 20] \t Step [75 / 98] \t Train Loss: 1.4601858814557394\n",
      "Epoch [15 / 20] \t Step [90 / 98] \t Train Loss: 1.685983677705129\n",
      "Epoch [16 / 20] \t Step [15 / 98] \t Train Loss: 1.650628129641215\n",
      "Epoch [16 / 20] \t Step [30 / 98] \t Train Loss: 1.3405176599820454\n",
      "Epoch [16 / 20] \t Step [45 / 98] \t Train Loss: 1.6240075707435608\n",
      "Epoch [16 / 20] \t Step [60 / 98] \t Train Loss: 1.3125218788782755\n",
      "Epoch [16 / 20] \t Step [75 / 98] \t Train Loss: 1.4510844230651856\n",
      "Epoch [16 / 20] \t Step [90 / 98] \t Train Loss: 1.4869004527727763\n",
      "Epoch [17 / 20] \t Step [15 / 98] \t Train Loss: 1.292375667889913\n",
      "Epoch [17 / 20] \t Step [30 / 98] \t Train Loss: 1.4970163186391194\n",
      "Epoch [17 / 20] \t Step [45 / 98] \t Train Loss: 1.3292830427487692\n",
      "Epoch [17 / 20] \t Step [60 / 98] \t Train Loss: 1.5156489888827005\n",
      "Epoch [17 / 20] \t Step [75 / 98] \t Train Loss: 1.4349961757659913\n",
      "Epoch [17 / 20] \t Step [90 / 98] \t Train Loss: 1.5241794188817341\n",
      "Epoch [18 / 20] \t Step [15 / 98] \t Train Loss: 1.2441291014353435\n",
      "Epoch [18 / 20] \t Step [30 / 98] \t Train Loss: 1.3371896545092266\n",
      "Epoch [18 / 20] \t Step [45 / 98] \t Train Loss: 1.269002334276835\n",
      "Epoch [18 / 20] \t Step [60 / 98] \t Train Loss: 1.2532942056655885\n",
      "Epoch [18 / 20] \t Step [75 / 98] \t Train Loss: 1.6285032471021017\n",
      "Epoch [18 / 20] \t Step [90 / 98] \t Train Loss: 1.5588777303695678\n",
      "Epoch [19 / 20] \t Step [15 / 98] \t Train Loss: 1.3716132203737894\n",
      "Epoch [19 / 20] \t Step [30 / 98] \t Train Loss: 1.4156409700711567\n",
      "Epoch [19 / 20] \t Step [45 / 98] \t Train Loss: 1.1885924259821574\n",
      "Epoch [19 / 20] \t Step [60 / 98] \t Train Loss: 1.3419350564479828\n",
      "Epoch [19 / 20] \t Step [75 / 98] \t Train Loss: 1.2599597573280334\n",
      "Epoch [19 / 20] \t Step [90 / 98] \t Train Loss: 1.3026305039723713\n",
      "Epoch [20 / 20] \t Step [15 / 98] \t Train Loss: 1.0296090225378671\n",
      "Epoch [20 / 20] \t Step [30 / 98] \t Train Loss: 1.2133564074834189\n",
      "Epoch [20 / 20] \t Step [45 / 98] \t Train Loss: 1.2756606340408325\n",
      "Epoch [20 / 20] \t Step [60 / 98] \t Train Loss: 1.3616851687431335\n",
      "Epoch [20 / 20] \t Step [75 / 98] \t Train Loss: 1.3439156671365102\n",
      "Epoch [20 / 20] \t Step [90 / 98] \t Train Loss: 1.2498955170313517\n",
      "CPU times: user 2h 57min 49s, sys: 6min 18s, total: 3h 4min 7s\n",
      "Wall time: 4min 20s\n"
     ]
    }
   ],
   "source": [
    "    %%time\n",
    "    print_every = 15\n",
    "    num_epochs = 20\n",
    "    model.train()\n",
    "\n",
    "    lowest_val = 1e9\n",
    "    val_losses = []\n",
    "    total_step = 0\n",
    "    \n",
    "    for epoch in range(num_epochs):\n",
    "        \n",
    "        total_loss = 0\n",
    "\n",
    "        for step, (src, src_key_padding_mask, tgt, tgt_key_padding_mask) in enumerate(iter(loader)):\n",
    "            total_step += 1\n",
    "\n",
    "            src, src_key_padding_mask, tgt, tgt_key_padding_mask, memory_key_padding_mask, tgt_inp, tgt_out, tgt_mask = prep_transf_inputs(\n",
    "                src, src_key_padding_mask, tgt, tgt_key_padding_mask, device)\n",
    "            \n",
    "            optim.zero_grad()\n",
    "            outputs = model(src, tgt_inp, src_key_padding_mask, tgt_key_padding_mask[:, :-1], memory_key_padding_mask, tgt_mask)\n",
    "            loss = criterion(rearrange(outputs, 'b t v -> (b t) v'), rearrange(tgt_out, 'b o -> (b o)'))\n",
    "\n",
    "            loss.backward()\n",
    "            optim.step_and_update_lr()\n",
    "\n",
    "            total_loss += loss.item()\n",
    "            if step % print_every == print_every - 1:\n",
    "                print(f'Epoch [{epoch + 1} / {num_epochs}] \\t Step [{step + 1} / {len(loader)}] \\t '\n",
    "                      f'Train Loss: {total_loss / print_every}')\n",
    "                total_loss = 0"
   ]
  },
  {
   "cell_type": "markdown",
   "metadata": {},
   "source": [
    "# assess perf"
   ]
  },
  {
   "cell_type": "markdown",
   "metadata": {},
   "source": [
    "### run inference"
   ]
  },
  {
   "cell_type": "code",
   "execution_count": 13,
   "metadata": {},
   "outputs": [],
   "source": [
    "from tsf_infer_utils import infer"
   ]
  },
  {
   "cell_type": "code",
   "execution_count": 14,
   "metadata": {},
   "outputs": [
    {
     "name": "stdout",
     "output_type": "stream",
     "text": [
      "CPU times: user 2min 52s, sys: 6.38 s, total: 2min 58s\n",
      "Wall time: 4.36 s\n"
     ]
    }
   ],
   "source": [
    "%%time\n",
    "pred_list, tgt_list = infer(model, loader)"
   ]
  },
  {
   "cell_type": "markdown",
   "metadata": {},
   "source": [
    "### compute BLEU"
   ]
  },
  {
   "cell_type": "code",
   "execution_count": 15,
   "metadata": {},
   "outputs": [],
   "source": [
    "from torchtext.data.metrics import bleu_score\n",
    "from tsf_utils import format_list_for_bleu"
   ]
  },
  {
   "cell_type": "code",
   "execution_count": 16,
   "metadata": {
    "scrolled": true
   },
   "outputs": [
    {
     "name": "stdout",
     "output_type": "stream",
     "text": [
      "CPU times: user 18.2 s, sys: 80 ms, total: 18.2 s\n",
      "Wall time: 18.2 s\n"
     ]
    },
    {
     "data": {
      "text/plain": [
       "0.4738668307737861"
      ]
     },
     "execution_count": 16,
     "metadata": {},
     "output_type": "execute_result"
    }
   ],
   "source": [
    "%%time\n",
    "pred_list_bleu, tgt_list_bleu = format_list_for_bleu(pred_list, tgt_list)\n",
    "bleu_score(pred_list_bleu, tgt_list_bleu)"
   ]
  },
  {
   "cell_type": "markdown",
   "metadata": {},
   "source": [
    "### create vocab dicts "
   ]
  },
  {
   "cell_type": "code",
   "execution_count": 17,
   "metadata": {},
   "outputs": [],
   "source": [
    "tags_index2word = dict(zip(range(len(dataset.countvec.vocabulary)), dataset.countvec.vocabulary))"
   ]
  },
  {
   "cell_type": "code",
   "execution_count": 18,
   "metadata": {},
   "outputs": [],
   "source": [
    "from transformer_translation.dataset import load_report_voc\n",
    "reports_index2word = load_report_voc(\n",
    "    os.path.join(data_path, 'reports', 'voc.pkl'))"
   ]
  },
  {
   "cell_type": "markdown",
   "metadata": {},
   "source": [
    "### assess nat lg perf"
   ]
  },
  {
   "cell_type": "code",
   "execution_count": 19,
   "metadata": {},
   "outputs": [],
   "source": [
    "from tsf_utils import print_nl_pred_vs_tgt"
   ]
  },
  {
   "cell_type": "code",
   "execution_count": 20,
   "metadata": {},
   "outputs": [],
   "source": [
    "import random\n",
    "k = 10\n",
    "sel_idx = random.choices(range(len(pred_list)), k=k)"
   ]
  },
  {
   "cell_type": "code",
   "execution_count": 21,
   "metadata": {},
   "outputs": [
    {
     "name": "stdout",
     "output_type": "stream",
     "text": [
      "TARGET:   normal chest no evidence of tuberculosis heart size normal . lungs are clear . xxxx are normal . no pneumonia effusions edema pneumothorax adenopathy nodules or masses . .\n",
      "PREDICTION:  no chest heart evidence of tuberculosis heart size normal . lungs are clear . xxxx are normal . no pneumonia effusions edema pneumothorax adenopathy nodules or masses . .\n",
      "\n",
      "\n",
      "TARGET:   no acute cardiopulmonary abnormality . mediastinal contours are normal . heart size is within normal limits . multiple scattered calcified pulmonary nodules xxxx sequela of prior granulomatous disease . otherwise lungs are clear . . there is no pneumothorax or large pleural effusion . no bony abnormality . .\n",
      "PREDICTION:   acute cardiopulmonary abnormality . . contours are within . no size is within normal limits . no calcified calcified granulomas nodules are . of prior granulomatous disease . no lungs are clear without no no is no pneumothorax or large pleural effusion . there acute abnormality . .\n",
      "\n",
      "\n",
      "TARGET:   no acute findings . cardiac and mediastinal contours are within normal limits . the lungs are clear . bony structures are intact . .\n",
      "PREDICTION:  no acute cardiopulmonary . cardiac and mediastinal contours are within normal limits . the lungs are clear . bony structures are intact . .\n",
      "\n",
      "\n",
      "TARGET:   exam quality limited by hypoinflation and rotation . considering technical factors heart size xxxx mildly enlarged aortic calcifications and ectasia tortuosity mediastinal calcifications suggest a previous granulomatous process . no focal alveolar consolidation no definite pleural effusion seen . bronchovascular crowding without typical findings of pulmonary edema . .\n",
      "PREDICTION:   quality limited by body and no . heart technical factors xxxx size and within enlarged . ectasia and aortic tortuosity stable contours suggest a previous granulomatous process . no focal alveolar consolidation no definite pleural effusion seen . no crowding without typical findings of pulmonary edema . .\n",
      "\n",
      "\n",
      "TARGET:   no acute cardiopulmonary disease . . the cardiomediastinal silhouette is normal size and configuration . pulmonary vasculature within normal limits . the lungs are well aerated . there is no pneumothorax pleural effusion or focal consolidation . .\n",
      "PREDICTION:  no acute cardiopulmonary abnormality . the the cardiomediastinal silhouette is normal in and configuration . pulmonary vasculature within normal limits . the lungs are well aerated . there is no pneumothorax pleural effusion or focal consolidation . bony\n",
      "\n",
      "\n",
      "TARGET:   copd . no acute pulmonary disease . there is hyperinflation of the lungs appear to be clear . there is no pleural effusion or the heart is normal . there are atherosclerotic changes of the aorta . the skeletal structures are normal . .\n",
      "PREDICTION:   . no acute pulmonary disease . the is a . the lungs . to be clear . there is no pleural effusion or pneumothorax heart and not in arthritic are no changes of the aorta . arthritic skeletal structures are normal . .\n",
      "\n",
      "\n",
      "TARGET:   low lung volumes otherwise clear . the cardiomediastinal silhouette is normal in size and contour . no focal consolidation pneumothorax or large pleural effusion . normal xxxx . xxxx cholecystectomy . .\n",
      "PREDICTION:  no lung volumes with no . the cardiomediastinal silhouette is normal in size and contour . no focal consolidation pneumothorax or large pleural effusion . calcified xxxx . . foreign . .\n",
      "\n",
      "\n",
      "TARGET:   minimal xxxx left base atelectasis infiltrate . otherwise stable exam . mild cardiomegaly unchanged . stable superior mediastinal contour with tortuous aorta . normal pulmonary vascularity . unchanged elevated right hemidiaphragm with minimal right base subsegmental atelectasis . minimal xxxx left basal airspace opacity . unchanged blunting of the right lateral costophrenic xxxx scarring versus xxxx effusion . no pneumothorax . no acute osseous findings . .\n",
      "PREDICTION:   left right basilar airspace . . the unremarkable appearance . stable cardiomegaly . . the cardiomegaly mediastinal contour . unchanged aorta . no pulmonary vascularity . no right right hemidiaphragm . xxxx right pleural atelectasis atelectasis or no right right pleural airspace disease . no blunting of the right costophrenic costophrenic xxxx . . atelectasis . . no pneumothorax or no acute bony findings . .\n",
      "\n",
      "\n",
      "TARGET:   mild cardiomegaly no acute pulmonary findings mild cardiomegaly stable mediastinal contours . no focal alveolar consolidation no definite pleural effusion seen . mild bronchovascular crowding without typical findings of pulmonary edema . .\n",
      "PREDICTION:  cardiomegaly cardiomegaly . acute pulmonary findings heart cardiomegaly . mediastinal contours . stable focal alveolar consolidation no definite pleural effusion seen . no right crowding without typical findings of pulmonary edema . .\n",
      "\n",
      "\n",
      "TARGET:   mild blunted right costophrenic xxxx which could be due to xxxx effusion or scarring . the heart and mediastinum are normal . the lungs are clear . there is mild blunting of the right costophrenic xxxx . there is no infiltrate mass or pneumothorax . the right internal jugular catheter has been removed . .\n",
      "PREDICTION:   bibasilar left costophrenic xxxx . may represent secondary to atelectasis effusion or atelectasis . no cardiomediastinal size mediastinum are within . the lungs are clear . there is no xxxx of the costophrenic costophrenic xxxx . there is no pneumothorax or or pneumothorax . . bony costophrenic jugular catheter has been removed . .\n",
      "\n",
      "\n"
     ]
    }
   ],
   "source": [
    "print_nl_pred_vs_tgt(\n",
    "                [pred_list[i] for i in sel_idx]\n",
    "                ,[tgt_list[i] for i in sel_idx]\n",
    "                ,reports_index2word\n",
    "            )"
   ]
  }
 ],
 "metadata": {
  "kernelspec": {
   "display_name": "Python 3",
   "language": "python",
   "name": "python3"
  },
  "language_info": {
   "codemirror_mode": {
    "name": "ipython",
    "version": 3
   },
   "file_extension": ".py",
   "mimetype": "text/x-python",
   "name": "python",
   "nbconvert_exporter": "python",
   "pygments_lexer": "ipython3",
   "version": "3.6.10"
  }
 },
 "nbformat": 4,
 "nbformat_minor": 1
}
