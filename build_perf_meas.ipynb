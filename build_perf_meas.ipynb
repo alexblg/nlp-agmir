{
 "cells": [
  {
   "cell_type": "code",
   "execution_count": 9,
   "metadata": {},
   "outputs": [
    {
     "name": "stdout",
     "output_type": "stream",
     "text": [
      "0.4548019047027907\n"
     ]
    }
   ],
   "source": [
    "import nltk\n",
    "\n",
    "hypothesis = ['It', 'is', 'a', 'cat', 'at', 'room']\n",
    "reference = ['It', 'is', 'a', 'cat', 'inside', 'the', 'room']\n",
    "#there may be several references\n",
    "BLEUscore = nltk.translate.bleu_score.sentence_bleu([reference], hypothesis)\n",
    "print(BLEUscore)"
   ]
  },
  {
   "cell_type": "code",
   "execution_count": 27,
   "metadata": {},
   "outputs": [],
   "source": [
    "tuples = [('atelectases infiltrates opacity atelectasis cardiomegaly',\n",
    "  'cardiomegaly with bibasilar opacities which may represent atelectasis or infiltrate . xxxx xxxx opacities with elevated right hemidiaphragm and low lung volumes . negative for effusion or pneumothorax . cardiomegaly stable . left chest aicd leads in the right atrium and right ventricle unchanged .',\n",
    "  'mild cardiomegaly with atelectasis atelectasis . there is a mild'),\n",
    " ('atelectases infiltrates atelectasis cardiomegaly',\n",
    "  ' . stable moderate cardiomegaly with prominent central pulmonary vasculature . . improved left basilar atelectasis or infiltrate . stable moderate cardiomegaly . mediastinal contours are unchanged . stable prominence of the central pulmonary vasculature with coarse central interstitial markings . decreased left basilar airspace disease . no visible pleural effusion or pneumothorax .',\n",
    "  'mild cardiomegaly with mild cardiomegaly . atelectasis . there is'),\n",
    " ('normal',\n",
    "  'no comparison chest x xxxx . well expanded and clear lungs . mediastinal contour within normal limits . no acute cardiopulmonary abnormality identified .',\n",
    "  'no acute cardiopulmonary acute . . the cardiomediastinal silhouette and'),\n",
    " ('bilateral_pleural_effusion congestion degenerative_change opacity enlarged_heart pleural_effusion',\n",
    "  ' . bilateral airspace disease . . stable enlarged heart and prominent mediastinal contours . no acute osseous abnormality . degenerative changes throughout the thoracic spine . soft tissue structures are within normal limits . there is stable enlargement of the heart . stable prominent mediastinal contours . central vascular congestion . mildly low lung volumes bilaterally . bibasilar and left perihilar airspace opacities . xxxx bilateral pleural effusions . no pneumothorax .',\n",
    "  ' blunting of the left costophrenic xxxx may represent atelectasis'),\n",
    " ('eventration osteophytes cabg cholecystectomies sternotomy diaphragm',\n",
    "  'no acute cardiopulmonary abnormality . there are xxxx sternotomy xxxx and mediastinal surgical clips xxxx secondary to a cabg procedure . small t spine osteophytes . the cardiomediastinal silhouette and pulmonary vasculature are within normal limits . there is no pneumothorax or pleural effusion . there are no focal areas of consolidation . there are cholecystectomy clips . there is eventration of right hemidiaphragm .',\n",
    "  'no acute cardiopulmonary abnormality . the cardiomediastinal silhouette and cardiomediastinal'),\n",
    " ('degenerative_change',\n",
    "  'no acute cardiopulmonary abnormality . heart size mediastinal contour and pulmonary vascularity are within normal limits . no focal consolidation suspicious pulmonary opacity large pleural effusion or pneumothorax is identified . visualized osseous structures appear intact . mild bilateral acromioclavicular joint and thoracic spine degenerative changes are noted .',\n",
    "  'no acute cardiopulmonary acute cardiopulmonary disease . . . .'),\n",
    " ('copd eventration diaphragm pulmonary_disease__chronic_obstructive',\n",
    "  'findings of copd with no acute changes . lungs are hyperexpanded . no infiltrates or masses . the eventration of the left hemidiaphragm identified previously is largely unchanged since the previous computed tomogram . pulmonary xxxx are normal .',\n",
    "  'copd . no acute pulmonary disease . there is hyperinflation'),\n",
    " ('',\n",
    "  'no acute cardiopulmonary finding . lungs are clear . heart size normal . the xxxx are unremarkable .',\n",
    "  'no acute cardiopulmonary acute cardiopulmonary . . the cardiomediastinal silhouette'),\n",
    " ('deformity degenerative_change fracture large_hiatal_hernia osteopenia bone_density cardiomegaly fractures__bone hernia__hiatal osteopenia rib rib_fractures spinal_fractures spine thoracic_aorta thoracic_vertebrae thoracic_wall',\n",
    "  ' . no acute thoracic abnormality . . cardiomegaly with marked tortuosity of the thoracic aorta . . probable large hiatal hernia . . limited evaluation of the thoracic spine secondary to osteopenia age indeterminate xxxx fracture deformities . the lungs and pleural spaces show no acute abnormality . heart size is enlarged pulmonary vascularity within normal limits . marked tortuosity of the thoracic aorta . there are advanced degenerative changes of the glenohumeral joints bilaterally with bone on bone articulation remodeling of the glenoid and extensive subchondral cystic change . no displaced rib fractures are visualized . diffuse osteopenia of the thoracic spine with a mid thoracic and several lower thoracic xxxx deformities age indeterminate . there is an air fluid level in the middle mediastinum most xxxx secondary to a large hiatal hernia .',\n",
    "  ' . no acute pulmonary disease . . . .'),\n",
    " ('rib calcified_granuloma deformity degenerative_change emphysemas fracture opacity rib_fracture fractures__bone pulmonary_emphysema rib_fracture spine',\n",
    "  'age indeterminant but xxxx acute to subacute right th rib fracture . the xxxx examination consists of frontal and lateral radiographs of the chest . upper thorax is poorly visualized due to patient s overlying head and chin . the cardiomediastinal contours are within normal limits . background of mild coarse interstitial opacities seen throughout the lungs xxxx related to background of emphysema . calcified granuloma is seen in the left medial lung base . there is no consolidation pleural effusion or pneumothorax . deformity of the right th rib laterally has appearance of acute or subacute fracture . degenerative changes of the thoracic spine are again seen .',\n",
    "  ' . no acute cardiopulmonary . . . . .')]"
   ]
  },
  {
   "cell_type": "code",
   "execution_count": 18,
   "metadata": {},
   "outputs": [],
   "source": [
    "tuples[0] = (tuples[0][0],tuples[0][1], tuples[0][1])"
   ]
  },
  {
   "cell_type": "code",
   "execution_count": 21,
   "metadata": {},
   "outputs": [
    {
     "data": {
      "text/plain": [
       "('bilateral_pleural_effusion congestion degenerative_change opacity enlarged_heart pleural_effusion',\n",
       " ' . bilateral airspace disease . . stable enlarged heart and prominent mediastinal contours . no acute osseous abnormality . degenerative changes throughout the thoracic spine . soft tissue structures are within normal limits . there is stable enlargement of the heart . stable prominent mediastinal contours . central vascular congestion . mildly low lung volumes bilaterally . bibasilar and left perihilar airspace opacities . xxxx bilateral pleural effusions . no pneumothorax .',\n",
       " ' blunting of the left costophrenic xxxx may represent atelectasis')"
      ]
     },
     "execution_count": 21,
     "metadata": {},
     "output_type": "execute_result"
    }
   ],
   "source": [
    "tuples[3]"
   ]
  },
  {
   "cell_type": "code",
   "execution_count": 31,
   "metadata": {},
   "outputs": [],
   "source": [
    "from nltk.translate.bleu_score import sentence_bleu\n",
    "import numpy as np\n",
    "\n",
    "def get_av_bleu(pred_output):\n",
    "    return np.mean([\n",
    "        sentence_bleu([r[1].split(' ')], r[2].split(' ')\n",
    "                     ) for r in pred_output])"
   ]
  },
  {
   "cell_type": "code",
   "execution_count": 32,
   "metadata": {},
   "outputs": [
    {
     "data": {
      "text/plain": [
       "0.00031285116911818165"
      ]
     },
     "execution_count": 32,
     "metadata": {},
     "output_type": "execute_result"
    }
   ],
   "source": [
    "get_av_bleu(tuples)"
   ]
  }
 ],
 "metadata": {
  "kernelspec": {
   "display_name": "Python 3",
   "language": "python",
   "name": "python3"
  },
  "language_info": {
   "codemirror_mode": {
    "name": "ipython",
    "version": 3
   },
   "file_extension": ".py",
   "mimetype": "text/x-python",
   "name": "python",
   "nbconvert_exporter": "python",
   "pygments_lexer": "ipython3",
   "version": "3.6.10"
  }
 },
 "nbformat": 4,
 "nbformat_minor": 2
}
