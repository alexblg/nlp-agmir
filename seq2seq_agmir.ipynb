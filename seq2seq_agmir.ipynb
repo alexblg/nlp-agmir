{
 "cells": [
  {
   "cell_type": "code",
   "execution_count": 1,
   "metadata": {},
   "outputs": [],
   "source": [
    "%matplotlib inline"
   ]
  },
  {
   "cell_type": "code",
   "execution_count": 2,
   "metadata": {},
   "outputs": [],
   "source": [
    "from __future__ import unicode_literals, print_function, division\n",
    "import string\n",
    "import random\n",
    "import time\n",
    "import os\n",
    "\n",
    "import torch\n",
    "import torch.nn as nn\n",
    "from torch import optim\n",
    "\n",
    "device = torch.device(\"cuda\" if torch.cuda.is_available() else \"cpu\")"
   ]
  },
  {
   "cell_type": "code",
   "execution_count": 3,
   "metadata": {},
   "outputs": [],
   "source": [
    "%load_ext autoreload\n",
    "%autoreload 2"
   ]
  },
  {
   "cell_type": "markdown",
   "metadata": {},
   "source": [
    "# load data"
   ]
  },
  {
   "cell_type": "code",
   "execution_count": 5,
   "metadata": {},
   "outputs": [],
   "source": [
    "data_path = r'/home/alex/data/nlp/agmir/toy_data/trs_data'"
   ]
  },
  {
   "cell_type": "code",
   "execution_count": 7,
   "metadata": {},
   "outputs": [],
   "source": [
    "from loaders import prepareReportData, normalizeString"
   ]
  },
  {
   "cell_type": "code",
   "execution_count": 8,
   "metadata": {},
   "outputs": [
    {
     "name": "stdout",
     "output_type": "stream",
     "text": [
      "read data...\n",
      "read 3580 reports\n",
      "trimmed to 3580 sentence pairs\n",
      "counting words...\n",
      "counted words:\n",
      "\t tags 590\n",
      "\t report 1953\n"
     ]
    }
   ],
   "source": [
    "input_lang, output_lang, ds = prepareReportData()"
   ]
  },
  {
   "cell_type": "markdown",
   "metadata": {},
   "source": [
    "# more processing"
   ]
  },
  {
   "cell_type": "code",
   "execution_count": 9,
   "metadata": {},
   "outputs": [],
   "source": [
    "from loaders import EOS_token, SOS_token"
   ]
  },
  {
   "cell_type": "code",
   "execution_count": 10,
   "metadata": {},
   "outputs": [],
   "source": [
    "def indexesFromSentence(lang, sentence):\n",
    "    return [lang.word2index[word] for word in sentence.split(' ')]\n",
    "\n",
    "def tensorFromSentence(lang, sentence):\n",
    "    indexes = indexesFromSentence(lang, sentence)\n",
    "    indexes.append(EOS_token)\n",
    "    return torch.tensor(indexes, dtype=torch.long, device=device).view(-1, 1)[:MAX_LENGTH]\n",
    "\n",
    "def tensorsFromPair(pair):\n",
    "    input_tensor = tensorFromSentence(input_lang, pair[0])\n",
    "    target_tensor = tensorFromSentence(output_lang, pair[1])\n",
    "    return (input_tensor, target_tensor)"
   ]
  },
  {
   "cell_type": "code",
   "execution_count": 11,
   "metadata": {},
   "outputs": [
    {
     "data": {
      "text/plain": [
       "(tensor([[2],\n",
       "         [1]], device='cuda:0'),\n",
       " tensor([[  2],\n",
       "         [  3],\n",
       "         [  9],\n",
       "         [ 10],\n",
       "         [ 11],\n",
       "         [169],\n",
       "         [  3],\n",
       "         [  3],\n",
       "         [ 41],\n",
       "         [ 94]], device='cuda:0'))"
      ]
     },
     "execution_count": 11,
     "metadata": {},
     "output_type": "execute_result"
    }
   ],
   "source": [
    "report_pair = ds.__getitem__(100)[:2]\n",
    "tensorsFromPair((report_pair[0], normalizeString(report_pair[1])))"
   ]
  },
  {
   "cell_type": "markdown",
   "metadata": {},
   "source": [
    "# training routine"
   ]
  },
  {
   "cell_type": "code",
   "execution_count": 12,
   "metadata": {},
   "outputs": [],
   "source": [
    "teacher_forcing_ratio = 0.5\n",
    "\n",
    "\n",
    "def train(input_tensor, target_tensor, encoder, decoder, encoder_optimizer, decoder_optimizer, criterion, max_length=MAX_LENGTH):\n",
    "    encoder_hidden = encoder.initHidden()\n",
    "\n",
    "    encoder_optimizer.zero_grad()\n",
    "    decoder_optimizer.zero_grad()\n",
    "\n",
    "    input_length = input_tensor.size(0)\n",
    "    target_length = target_tensor.size(0)\n",
    "\n",
    "    encoder_outputs = torch.zeros(max_length, encoder.hidden_size, device=device)\n",
    "\n",
    "    loss = 0\n",
    "\n",
    "    for ei in range(input_length):\n",
    "        encoder_output, encoder_hidden = encoder(\n",
    "            input_tensor[ei], encoder_hidden)\n",
    "        encoder_outputs[ei] = encoder_output[0, 0]\n",
    "\n",
    "    decoder_input = torch.tensor([[SOS_token]], device=device)\n",
    "\n",
    "    decoder_hidden = encoder_hidden\n",
    "\n",
    "    use_teacher_forcing = True if random.random() < teacher_forcing_ratio else False\n",
    "\n",
    "    if use_teacher_forcing:\n",
    "        # Teacher forcing: Feed the target as the next input\n",
    "        for di in range(target_length):\n",
    "            decoder_output, decoder_hidden, decoder_attention = decoder(\n",
    "                decoder_input, decoder_hidden, encoder_outputs)\n",
    "            loss += criterion(decoder_output, target_tensor[di])\n",
    "            decoder_input = target_tensor[di]  # Teacher forcing\n",
    "\n",
    "    else:\n",
    "        # Without teacher forcing: use its own predictions as the next input\n",
    "        for di in range(target_length):\n",
    "            decoder_output, decoder_hidden, decoder_attention = decoder(\n",
    "                decoder_input, decoder_hidden, encoder_outputs)\n",
    "            topv, topi = decoder_output.topk(1)\n",
    "            decoder_input = topi.squeeze().detach()  # detach from history as input\n",
    "\n",
    "            loss += criterion(decoder_output, target_tensor[di])\n",
    "            if decoder_input.item() == EOS_token:\n",
    "                break\n",
    "\n",
    "    loss.backward()\n",
    "\n",
    "    encoder_optimizer.step()\n",
    "    decoder_optimizer.step()\n",
    "\n",
    "    return loss.item() / target_length"
   ]
  },
  {
   "cell_type": "code",
   "execution_count": 25,
   "metadata": {},
   "outputs": [],
   "source": [
    "from utils import asMinutes, timeSince"
   ]
  },
  {
   "cell_type": "code",
   "execution_count": 26,
   "metadata": {},
   "outputs": [],
   "source": [
    "import matplotlib.pyplot as plt\n",
    "plt.switch_backend('agg')\n",
    "import matplotlib.ticker as ticker\n",
    "import numpy as np\n",
    "\n",
    "def showPlot(points):\n",
    "    plt.figure()\n",
    "    fig, ax = plt.subplots()\n",
    "    # this locator puts ticks at regular intervals\n",
    "    loc = ticker.MultipleLocator(base=0.2)\n",
    "    ax.yaxis.set_major_locator(loc)\n",
    "    plt.plot(points)"
   ]
  },
  {
   "cell_type": "code",
   "execution_count": 20,
   "metadata": {},
   "outputs": [],
   "source": [
    "def trainIters(encoder, decoder, n_iters, print_every=1000, plot_every=100, learning_rate=0.01):\n",
    "    start = time.time()\n",
    "    plot_losses = []\n",
    "    print_loss_total = 0  # Reset every print_every\n",
    "    plot_loss_total = 0  # Reset every plot_every\n",
    "\n",
    "    encoder_optimizer = optim.SGD(encoder.parameters(), lr=learning_rate)\n",
    "    decoder_optimizer = optim.SGD(decoder.parameters(), lr=learning_rate)\n",
    "    \n",
    "    training_pairs = []\n",
    "    for i in range(n_iters):\n",
    "        report_id = random.choice(range(len(ds)))\n",
    "        report_pair = ds.__getitem__(report_id)[:2]\n",
    "        report_pair = (report_pair[0], normalizeString(report_pair[1]))\n",
    "        #print(report_pair)\n",
    "        training_pairs.append(tensorsFromPair(report_pair))   \n",
    "    \n",
    "    criterion = nn.NLLLoss()\n",
    "\n",
    "    for iter in range(1, n_iters + 1):\n",
    "        training_pair = training_pairs[iter - 1]\n",
    "        input_tensor = training_pair[0]\n",
    "        target_tensor = training_pair[1]\n",
    "\n",
    "        loss = train(input_tensor, target_tensor, encoder,\n",
    "                     decoder, encoder_optimizer, decoder_optimizer, criterion)\n",
    "        print_loss_total += loss\n",
    "        plot_loss_total += loss\n",
    "\n",
    "        if iter % print_every == 0:\n",
    "            print_loss_avg = print_loss_total / print_every\n",
    "            print_loss_total = 0\n",
    "            print('%s (%d %d%%) %.4f' % (timeSince(start, iter / n_iters),\n",
    "                                         iter, iter / n_iters * 100, print_loss_avg))\n",
    "\n",
    "        if iter % plot_every == 0:\n",
    "            plot_loss_avg = plot_loss_total / plot_every\n",
    "            plot_losses.append(plot_loss_avg)\n",
    "            plot_loss_total = 0\n",
    "\n",
    "    showPlot(plot_losses)"
   ]
  },
  {
   "cell_type": "markdown",
   "metadata": {},
   "source": [
    "# eval routine"
   ]
  },
  {
   "cell_type": "code",
   "execution_count": 21,
   "metadata": {},
   "outputs": [],
   "source": [
    "def evaluate(encoder, decoder, sentence, max_length=MAX_LENGTH):\n",
    "    with torch.no_grad():\n",
    "        input_tensor = tensorFromSentence(input_lang, sentence)\n",
    "        input_length = input_tensor.size()[0]\n",
    "        encoder_hidden = encoder.initHidden()\n",
    "\n",
    "        encoder_outputs = torch.zeros(max_length, encoder.hidden_size, device=device)\n",
    "\n",
    "        for ei in range(input_length):\n",
    "            encoder_output, encoder_hidden = encoder(input_tensor[ei],\n",
    "                                                     encoder_hidden)\n",
    "            encoder_outputs[ei] += encoder_output[0, 0]\n",
    "\n",
    "        decoder_input = torch.tensor([[SOS_token]], device=device)  # SOS\n",
    "\n",
    "        decoder_hidden = encoder_hidden\n",
    "\n",
    "        decoded_words = []\n",
    "        decoder_attentions = torch.zeros(max_length, max_length)\n",
    "\n",
    "        for di in range(max_length):\n",
    "            decoder_output, decoder_hidden, decoder_attention = decoder(\n",
    "                decoder_input, decoder_hidden, encoder_outputs)\n",
    "            decoder_attentions[di] = decoder_attention.data\n",
    "            topv, topi = decoder_output.data.topk(1)\n",
    "            if topi.item() == EOS_token:\n",
    "                decoded_words.append('<EOS>')\n",
    "                break\n",
    "            else:\n",
    "                decoded_words.append(output_lang.index2word[topi.item()])\n",
    "\n",
    "            decoder_input = topi.squeeze().detach()\n",
    "\n",
    "        return decoded_words, decoder_attentions[:di + 1]"
   ]
  },
  {
   "cell_type": "markdown",
   "metadata": {},
   "source": [
    "We can evaluate random sentences from the training set and print out the\n",
    "input, target, and output to make some subjective quality judgements:\n",
    "\n",
    "\n"
   ]
  },
  {
   "cell_type": "code",
   "execution_count": 34,
   "metadata": {},
   "outputs": [],
   "source": [
    "def evaluateRandomly(encoder, decoder, n=10):\n",
    "    tuples = [] \n",
    "    for i in range(n):\n",
    "    \n",
    "        report_id = random.choice(range(len(ds)))\n",
    "        report_pair = ds.__getitem__(report_id)[:2]\n",
    "        pair = (report_pair[0], normalizeString(report_pair[1]))\n",
    "        \n",
    "        print('>', pair[0])\n",
    "        print('=', pair[1])\n",
    "        output_words, attentions = evaluate(encoder, decoder, pair[0])\n",
    "        output_sentence = ' '.join(output_words)\n",
    "        print('<', output_sentence)\n",
    "        print('')\n",
    "        tuples.append((pair[0], pair[1], output_sentence))\n",
    "    return tuples"
   ]
  },
  {
   "cell_type": "markdown",
   "metadata": {},
   "source": [
    "# train"
   ]
  },
  {
   "cell_type": "code",
   "execution_count": 23,
   "metadata": {},
   "outputs": [],
   "source": [
    "from models import EncoderRNN, AttnDecoderRNN"
   ]
  },
  {
   "cell_type": "code",
   "execution_count": 28,
   "metadata": {},
   "outputs": [
    {
     "name": "stdout",
     "output_type": "stream",
     "text": [
      "0m 55s (- 17m 31s) (500 5%) 4.2075\n",
      "1m 14s (- 11m 9s) (1000 10%) 3.7522\n",
      "1m 32s (- 8m 43s) (1500 15%) 3.5929\n",
      "1m 50s (- 7m 23s) (2000 20%) 3.5149\n",
      "2m 8s (- 6m 26s) (2500 25%) 3.4078\n",
      "2m 28s (- 5m 45s) (3000 30%) 3.4343\n",
      "2m 47s (- 5m 10s) (3500 35%) 3.3327\n",
      "3m 6s (- 4m 39s) (4000 40%) 3.3224\n",
      "3m 25s (- 4m 11s) (4500 45%) 3.3294\n",
      "3m 44s (- 3m 44s) (5000 50%) 3.1866\n",
      "4m 3s (- 3m 19s) (5500 55%) 3.1691\n",
      "4m 22s (- 2m 54s) (6000 60%) 3.1723\n",
      "4m 42s (- 2m 31s) (6500 65%) 3.1210\n",
      "5m 1s (- 2m 9s) (7000 70%) 3.1095\n",
      "5m 20s (- 1m 46s) (7500 75%) 3.0155\n",
      "5m 39s (- 1m 24s) (8000 80%) 2.8796\n",
      "5m 58s (- 1m 3s) (8500 85%) 2.9751\n",
      "6m 16s (- 0m 41s) (9000 90%) 2.9502\n",
      "6m 35s (- 0m 20s) (9500 95%) 2.9999\n",
      "6m 53s (- 0m 0s) (10000 100%) 2.8888\n"
     ]
    }
   ],
   "source": [
    "hidden_size = 256\n",
    "encoder1 = EncoderRNN(input_lang.n_words, hidden_size).to(device)\n",
    "attn_decoder1 = AttnDecoderRNN(hidden_size, output_lang.n_words, dropout_p=0.1).to(device)\n",
    "\n",
    "trainIters(encoder1, attn_decoder1, 10000, print_every=500)"
   ]
  },
  {
   "cell_type": "markdown",
   "metadata": {},
   "source": [
    "# eval"
   ]
  },
  {
   "cell_type": "code",
   "execution_count": 40,
   "metadata": {},
   "outputs": [],
   "source": [
    "from perf import get_av_bleu"
   ]
  },
  {
   "cell_type": "code",
   "execution_count": 42,
   "metadata": {},
   "outputs": [
    {
     "name": "stdout",
     "output_type": "stream",
     "text": [
      "> normal\n",
      "= normal chest exam . normal heart . clear lungs . no pneumothorax . no pleural effusion .\n",
      "< no acute cardiopulmonary acute . . the cardiomediastinal silhouette and\n",
      "\n",
      "> normal\n",
      "= the heart size and cardiomediastinal silhouette are within normal limits . pulmonary vasculature appears normal . there is no focal air space consolidation . no pleural effusion or pneumothorax .\n",
      "< no acute cardiopulmonary acute . . the cardiomediastinal silhouette and\n",
      "\n",
      "> normal\n",
      "= normal chest heart size normal . lungs are clear . xxxx are normal . no pneumonia effusions edema pneumothorax adenopathy nodules or masses .\n",
      "< no acute cardiopulmonary acute . . the cardiomediastinal silhouette and\n",
      "\n",
      "> atelectases opacity scar scarring atelectasis\n",
      "= atelectasis versus scar left lung base . otherwise unremarkable . xxxx xxxx for the opportunity to assist in the care of your patient . if there are any questions about this examination please xxxx . xxxx xxxx certified radiologist at xxxx . heart size within normal limits . mediastinal contours unremarkable . pulmonary vascularity is normal . right lung is clear . xxxx opacities left lung base may represent atelectasis versus scarring . no focal consolidation . no pleural effusion no pneumothorax . bony structures unremarkable .\n",
      "<  . no acute with atelectasis the . . is\n",
      "\n",
      "> normal\n",
      "= no acute cardiopulmonary findings . . the cardiomediastinal silhouette and pulmonary vasculature are within normal limits in size . the lungs are clear of focal airspace disease pneumothorax or pleural effusion . there are no acute bony findings .\n",
      "< no acute cardiopulmonary acute . . the cardiomediastinal silhouette and\n",
      "\n",
      "> degenerative_change hyperexpansion\n",
      "= no evidence of metastatic disease . . heart size within normal limits . negative for focal pulmonary consolidation pleural effusion or pneumothorax . there is hyperexpansion of the lungs . mild degenerative changes are present in the spine .\n",
      "< no acute cardiopulmonary acute cardiopulmonary disease . . . .\n",
      "\n",
      "> cardiomegaly\n",
      "= cardiomegaly but no focal consolidation . the lungs are clear and without focal airspace opacity . the cardiomediastinal silhouette is enlarged . there is no pneumothorax or large pleural effusion .\n",
      "< mild cardiomegaly . no evidence of acute cardiopulmonary disease .\n",
      "\n",
      "> normal\n",
      "= no acute cardiopulmonary abnormality . no evidence of active tuberculosis . . no pneumothorax pleural effusion or airspace consolidation . heart size and pulmonary vasculature appear within normal limits . xxxx xxxx are intact .\n",
      "< no acute cardiopulmonary acute . . the cardiomediastinal silhouette and\n",
      "\n",
      "> fracture rib_fractures\n",
      "=  . no acute cardiopulmonary disease . the heart and mediastinum are unremarkable . the lungs are clear without infiltrate . there is no effusion or pneumothorax . there is an old healed fracture through the right th rib .\n",
      "<  . no acute cardiopulmonary . . . . .\n",
      "\n",
      "> normal\n",
      "= normal chest . heart size and vascularity normal . lungs are clear . no effusions . no pneumothorax . visualized osseous structures unremarkable .\n",
      "< no acute cardiopulmonary acute . . the cardiomediastinal silhouette and\n",
      "\n"
     ]
    }
   ],
   "source": [
    "pred_output = evaluateRandomly(encoder1, attn_decoder1)"
   ]
  },
  {
   "cell_type": "code",
   "execution_count": 43,
   "metadata": {},
   "outputs": [
    {
     "data": {
      "text/plain": [
       "0.006043112216347909"
      ]
     },
     "execution_count": 43,
     "metadata": {},
     "output_type": "execute_result"
    }
   ],
   "source": [
    "get_av_bleu(pred_output)"
   ]
  }
 ],
 "metadata": {
  "kernelspec": {
   "display_name": "Python 3",
   "language": "python",
   "name": "python3"
  },
  "language_info": {
   "codemirror_mode": {
    "name": "ipython",
    "version": 3
   },
   "file_extension": ".py",
   "mimetype": "text/x-python",
   "name": "python",
   "nbconvert_exporter": "python",
   "pygments_lexer": "ipython3",
   "version": "3.6.10"
  }
 },
 "nbformat": 4,
 "nbformat_minor": 1
}
