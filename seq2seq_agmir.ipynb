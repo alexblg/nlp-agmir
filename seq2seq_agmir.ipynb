{
 "cells": [
  {
   "cell_type": "code",
   "execution_count": 1,
   "metadata": {},
   "outputs": [],
   "source": [
    "%matplotlib inline"
   ]
  },
  {
   "cell_type": "code",
   "execution_count": 18,
   "metadata": {},
   "outputs": [],
   "source": [
    "import os\n",
    "import torch\n",
    "\n",
    "device = torch.device(\"cuda\" if torch.cuda.is_available() else \"cpu\")"
   ]
  },
  {
   "cell_type": "code",
   "execution_count": 3,
   "metadata": {},
   "outputs": [],
   "source": [
    "%load_ext autoreload\n",
    "%autoreload 2"
   ]
  },
  {
   "cell_type": "markdown",
   "metadata": {},
   "source": [
    "# load data"
   ]
  },
  {
   "cell_type": "code",
   "execution_count": 4,
   "metadata": {},
   "outputs": [],
   "source": [
    "data_path = r'/home/alex/data/nlp/agmir/toy_data/trs_data'"
   ]
  },
  {
   "cell_type": "code",
   "execution_count": 30,
   "metadata": {},
   "outputs": [],
   "source": [
    "from loaders import prepareReportData, normalizeString, tensorsFromPair"
   ]
  },
  {
   "cell_type": "code",
   "execution_count": 6,
   "metadata": {},
   "outputs": [
    {
     "name": "stdout",
     "output_type": "stream",
     "text": [
      "read data...\n",
      "read 3580 reports\n",
      "trimmed to 3580 sentence pairs\n",
      "counting words...\n",
      "counted words:\n",
      "\t tags 590\n",
      "\t report 1953\n"
     ]
    }
   ],
   "source": [
    "input_lang, output_lang, ds = prepareReportData()"
   ]
  },
  {
   "cell_type": "markdown",
   "metadata": {},
   "source": [
    "# more processing"
   ]
  },
  {
   "cell_type": "code",
   "execution_count": 45,
   "metadata": {},
   "outputs": [],
   "source": [
    "from loaders import EOS_token, SOS_token"
   ]
  },
  {
   "cell_type": "code",
   "execution_count": 8,
   "metadata": {},
   "outputs": [],
   "source": [
    "MAX_LENGTH = 30"
   ]
  },
  {
   "cell_type": "code",
   "execution_count": 31,
   "metadata": {},
   "outputs": [
    {
     "data": {
      "text/plain": [
       "(tensor([[2],\n",
       "         [1]], device='cuda:0'),\n",
       " tensor([[  2],\n",
       "         [  3],\n",
       "         [  9],\n",
       "         [ 10],\n",
       "         [ 11],\n",
       "         [169],\n",
       "         [  3],\n",
       "         [  3],\n",
       "         [ 41],\n",
       "         [ 94],\n",
       "         [ 95],\n",
       "         [ 25],\n",
       "         [ 20],\n",
       "         [ 21],\n",
       "         [ 22],\n",
       "         [175],\n",
       "         [164],\n",
       "         [  3],\n",
       "         [ 41],\n",
       "         [286],\n",
       "         [ 25],\n",
       "         [287],\n",
       "         [  3],\n",
       "         [  9],\n",
       "         [ 27],\n",
       "         [ 23],\n",
       "         [ 29],\n",
       "         [  3],\n",
       "         [  9],\n",
       "         [ 37]], device='cuda:0'))"
      ]
     },
     "execution_count": 31,
     "metadata": {},
     "output_type": "execute_result"
    }
   ],
   "source": [
    "report_pair = ds.__getitem__(100)[:2]\n",
    "tensorsFromPair((report_pair[0], normalizeString(report_pair[1])), input_lang, output_lang, device, MAX_LENGTH)"
   ]
  },
  {
   "cell_type": "markdown",
   "metadata": {},
   "source": [
    "# train"
   ]
  },
  {
   "cell_type": "code",
   "execution_count": 10,
   "metadata": {},
   "outputs": [],
   "source": [
    "from models import EncoderRNN, AttnDecoderRNN"
   ]
  },
  {
   "cell_type": "code",
   "execution_count": 16,
   "metadata": {},
   "outputs": [],
   "source": [
    "from train_utils import trainIters"
   ]
  },
  {
   "cell_type": "code",
   "execution_count": 46,
   "metadata": {},
   "outputs": [
    {
     "name": "stdout",
     "output_type": "stream",
     "text": [
      "0m 1s (- 0m 10s) (10 10%) 7.3962\n",
      "0m 2s (- 0m 8s) (20 20%) 7.0021\n",
      "0m 3s (- 0m 7s) (30 30%) 5.8903\n",
      "0m 4s (- 0m 6s) (40 40%) 5.9442\n",
      "0m 5s (- 0m 5s) (50 50%) 5.2607\n",
      "0m 6s (- 0m 4s) (60 60%) 5.4074\n",
      "0m 7s (- 0m 3s) (70 70%) 5.2488\n",
      "0m 8s (- 0m 2s) (80 80%) 5.1021\n",
      "0m 9s (- 0m 1s) (90 90%) 4.6294\n",
      "0m 10s (- 0m 0s) (100 100%) 4.7985\n",
      "CPU times: user 10.5 s, sys: 124 ms, total: 10.6 s\n",
      "Wall time: 10.7 s\n"
     ]
    }
   ],
   "source": [
    "%%time\n",
    "hidden_size = 256\n",
    "encoder1 = EncoderRNN(input_lang.n_words, hidden_size).to(device)\n",
    "attn_decoder1 = AttnDecoderRNN(hidden_size, output_lang.n_words, max_length=MAX_LENGTH, dropout_p=0.1).to(device)\n",
    "\n",
    "plot_losses = trainIters(ds, encoder1, attn_decoder1, 100, MAX_LENGTH, input_lang, output_lang, print_every=10)"
   ]
  },
  {
   "cell_type": "markdown",
   "metadata": {},
   "source": [
    "# WIP plot learning curve"
   ]
  },
  {
   "cell_type": "code",
   "execution_count": 47,
   "metadata": {},
   "outputs": [],
   "source": [
    "import matplotlib.pyplot as plt\n",
    "plt.switch_backend('agg')\n",
    "import matplotlib.ticker as ticker\n",
    "import numpy as np\n",
    "\n",
    "def showPlot(points):\n",
    "    plt.figure()\n",
    "    fig, ax = plt.subplots()\n",
    "    # this locator puts ticks at regular intervals\n",
    "    loc = ticker.MultipleLocator(base=0.2)\n",
    "    ax.yaxis.set_major_locator(loc)\n",
    "    plt.plot(points)"
   ]
  },
  {
   "cell_type": "markdown",
   "metadata": {},
   "source": [
    "# eval"
   ]
  },
  {
   "cell_type": "code",
   "execution_count": 50,
   "metadata": {},
   "outputs": [],
   "source": [
    "from perf import get_av_bleu\n",
    "from test_utils import evaluateAll"
   ]
  },
  {
   "cell_type": "code",
   "execution_count": null,
   "metadata": {},
   "outputs": [],
   "source": [
    "%%time\n",
    "pred_output = evaluateAll(ds, encoder1, attn_decoder1, MAX_LENGTH, input_lang, output_lang)"
   ]
  },
  {
   "cell_type": "code",
   "execution_count": null,
   "metadata": {},
   "outputs": [],
   "source": [
    "get_av_bleu(pred_output)"
   ]
  }
 ],
 "metadata": {
  "kernelspec": {
   "display_name": "Python 3",
   "language": "python",
   "name": "python3"
  },
  "language_info": {
   "codemirror_mode": {
    "name": "ipython",
    "version": 3
   },
   "file_extension": ".py",
   "mimetype": "text/x-python",
   "name": "python",
   "nbconvert_exporter": "python",
   "pygments_lexer": "ipython3",
   "version": "3.6.10"
  }
 },
 "nbformat": 4,
 "nbformat_minor": 1
}
