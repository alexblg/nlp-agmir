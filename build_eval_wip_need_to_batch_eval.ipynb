{
 "cells": [
  {
   "cell_type": "code",
   "execution_count": 401,
   "metadata": {},
   "outputs": [],
   "source": [
    "%matplotlib inline"
   ]
  },
  {
   "cell_type": "code",
   "execution_count": 402,
   "metadata": {},
   "outputs": [],
   "source": [
    "import os\n",
    "import torch\n",
    "from einops import rearrange"
   ]
  },
  {
   "cell_type": "code",
   "execution_count": 403,
   "metadata": {},
   "outputs": [],
   "source": [
    "os.environ['CUDA_VISIBLE_DEVICES']='5'"
   ]
  },
  {
   "cell_type": "code",
   "execution_count": 404,
   "metadata": {},
   "outputs": [
    {
     "name": "stdout",
     "output_type": "stream",
     "text": [
      "cuda:0\n"
     ]
    }
   ],
   "source": [
    "device = torch.device(\"cuda:0\" if torch.cuda.is_available() else \"cpu\")\n",
    "print(device)"
   ]
  },
  {
   "cell_type": "code",
   "execution_count": 405,
   "metadata": {},
   "outputs": [
    {
     "name": "stdout",
     "output_type": "stream",
     "text": [
      "The autoreload extension is already loaded. To reload it, use:\n",
      "  %reload_ext autoreload\n"
     ]
    }
   ],
   "source": [
    "%load_ext autoreload\n",
    "%autoreload 2"
   ]
  },
  {
   "cell_type": "markdown",
   "metadata": {},
   "source": [
    "# load data"
   ]
  },
  {
   "cell_type": "code",
   "execution_count": 406,
   "metadata": {},
   "outputs": [],
   "source": [
    "from transformer_translation.dataset import TagReportDataset, load_pickle\n",
    "from torch.utils.data import DataLoader"
   ]
  },
  {
   "cell_type": "code",
   "execution_count": 407,
   "metadata": {},
   "outputs": [],
   "source": [
    "data_path = r\"/home/alex/data/nlp/agmir/transf_processed_data\"\n",
    "#data_path = 'transformer_translation/data/processed'"
   ]
  },
  {
   "cell_type": "code",
   "execution_count": 408,
   "metadata": {},
   "outputs": [],
   "source": [
    "splits = load_pickle('20200525_splits.pkl')\n",
    "countvec = load_pickle('20200528_countvec.pkl')"
   ]
  },
  {
   "cell_type": "markdown",
   "metadata": {},
   "source": [
    "### train set"
   ]
  },
  {
   "cell_type": "code",
   "execution_count": 409,
   "metadata": {},
   "outputs": [
    {
     "name": "stdout",
     "output_type": "stream",
     "text": [
      "85\n"
     ]
    }
   ],
   "source": [
    "num_tokens = 2000\n",
    "max_seq_length = 96\n",
    "dataset = TagReportDataset(\n",
    "    os.path.join(data_path, 'tags/set_raw.pkl')\n",
    "    ,os.path.join(data_path, 'reports/set.pkl')\n",
    "    ,num_tokens\n",
    "    ,max_seq_length\n",
    "    ,idxs=splits['train']\n",
    "    ,countvec = countvec\n",
    ")\n",
    "loader = DataLoader(dataset, batch_size=1, shuffle=True, num_workers=4, pin_memory=True)\n",
    "print(len(dataset))"
   ]
  },
  {
   "cell_type": "markdown",
   "metadata": {},
   "source": [
    "### val set"
   ]
  },
  {
   "cell_type": "code",
   "execution_count": 410,
   "metadata": {},
   "outputs": [
    {
     "name": "stdout",
     "output_type": "stream",
     "text": [
      "6\n"
     ]
    }
   ],
   "source": [
    "val_dataset = TagReportDataset(\n",
    "    os.path.join(data_path, 'tags/set_raw.pkl')\n",
    "    ,os.path.join(data_path, 'reports/set.pkl')\n",
    "    ,num_tokens\n",
    "    ,max_seq_length\n",
    "    ,idxs=splits['val']\n",
    "    ,countvec = countvec\n",
    ")\n",
    "val_loader = DataLoader(val_dataset, batch_size=1, shuffle=True, num_workers=4, pin_memory=True)\n",
    "print(len(val_dataset))"
   ]
  },
  {
   "cell_type": "markdown",
   "metadata": {},
   "source": [
    "# train"
   ]
  },
  {
   "cell_type": "code",
   "execution_count": 411,
   "metadata": {},
   "outputs": [],
   "source": [
    "from transformer_translation.model import LanguageTransformer, ReportTransformer"
   ]
  },
  {
   "cell_type": "code",
   "execution_count": 412,
   "metadata": {},
   "outputs": [],
   "source": [
    "vocab_size = 10000 + 4#1952#\n",
    "nhead = 8\n",
    "d_model = 587 - (587 % nhead) + nhead\n",
    "num_encoder_layers = 6\n",
    "num_decoder_layers = 6\n",
    "dim_feedforward = 2048\n",
    "pos_dropout = 0.1\n",
    "trans_dropout = 0.1\n",
    "\n",
    "model = ReportTransformer(\n",
    "    vocab_size, d_model, nhead, num_encoder_layers, num_decoder_layers, dim_feedforward,\n",
    "    max_seq_length, pos_dropout, trans_dropout\n",
    ").to(device)"
   ]
  },
  {
   "cell_type": "code",
   "execution_count": 413,
   "metadata": {},
   "outputs": [],
   "source": [
    "    from transformer_translation.Optim import ScheduledOptim\n",
    "    import torch.nn as nn\n",
    "    from torch.optim import Adam\n",
    "    \n",
    "    for p in model.parameters():\n",
    "        if p.dim() > 1:\n",
    "            nn.init.xavier_normal_(p)\n",
    "\n",
    "    n_warmup_steps = 4000\n",
    "    optim = ScheduledOptim(\n",
    "        Adam(model.parameters(), betas=(0.9, 0.98), eps=1e-09),\n",
    "        d_model, n_warmup_steps)\n",
    "\n",
    "    criterion = nn.CrossEntropyLoss(ignore_index=0)"
   ]
  },
  {
   "cell_type": "code",
   "execution_count": 414,
   "metadata": {},
   "outputs": [],
   "source": [
    "from tsf_infer_utils import prep_transf_inputs, infer\n",
    "from torchtext.data.metrics import bleu_score\n",
    "from tsf_utils import format_list_for_bleu, get_bleu_from_loader"
   ]
  },
  {
   "cell_type": "code",
   "execution_count": 416,
   "metadata": {},
   "outputs": [
    {
     "name": "stdout",
     "output_type": "stream",
     "text": [
      "Epoch [1 / 4] \t Step [20 / 85] \t Train Loss: 6.004\n",
      "Epoch [1 / 4] \t Step [40 / 85] \t Train Loss: 5.754\n",
      "Epoch [1 / 4] \t Step [60 / 85] \t Train Loss: 5.489\n",
      "Epoch [1 / 4] \t Step [80 / 85] \t Train Loss: 5.048\n",
      "Epoch [1 / 4]:\n",
      "\ttrain BLEU: 0.00%\n",
      "\tval BLEU: 0.00%\n",
      "\n",
      "\n",
      "Epoch [2 / 4] \t Step [20 / 85] \t Train Loss: 4.898\n",
      "Epoch [2 / 4] \t Step [40 / 85] \t Train Loss: 4.489\n",
      "Epoch [2 / 4] \t Step [60 / 85] \t Train Loss: 4.272\n",
      "Epoch [2 / 4] \t Step [80 / 85] \t Train Loss: 4.092\n",
      "Epoch [2 / 4]:\n",
      "\ttrain BLEU: 6.35%\n",
      "\tval BLEU: 5.02%\n",
      "\n",
      "\n",
      "Epoch [3 / 4] \t Step [20 / 85] \t Train Loss: 4.018\n",
      "Epoch [3 / 4] \t Step [40 / 85] \t Train Loss: 3.631\n",
      "Epoch [3 / 4] \t Step [60 / 85] \t Train Loss: 3.338\n",
      "Epoch [3 / 4] \t Step [80 / 85] \t Train Loss: 3.408\n",
      "Epoch [3 / 4]:\n",
      "\ttrain BLEU: 13.00%\n",
      "\tval BLEU: 10.25%\n",
      "\n",
      "\n",
      "Epoch [4 / 4] \t Step [20 / 85] \t Train Loss: 3.368\n",
      "Epoch [4 / 4] \t Step [40 / 85] \t Train Loss: 3.193\n",
      "Epoch [4 / 4] \t Step [60 / 85] \t Train Loss: 3.012\n",
      "Epoch [4 / 4] \t Step [80 / 85] \t Train Loss: 2.919\n",
      "Epoch [4 / 4]:\n",
      "\ttrain BLEU: 16.61%\n",
      "\tval BLEU: 12.83%\n",
      "\n",
      "\n",
      "CPU times: user 44min 12s, sys: 1min 51s, total: 46min 3s\n",
      "Wall time: 1min 41s\n"
     ]
    }
   ],
   "source": [
    "    %%time\n",
    "    print_every = 20\n",
    "    num_epochs = 6\n",
    "    early_stopping_flag = True\n",
    "\n",
    "    lowest_val = 1e9\n",
    "    val_losses = []\n",
    "    total_step = 0\n",
    "    \n",
    "    for epoch in range(num_epochs):\n",
    "        \n",
    "        model.train()\n",
    "        total_loss = 0\n",
    "\n",
    "        for step, (src, src_key_padding_mask, tgt, tgt_key_padding_mask) in enumerate(iter(loader)):\n",
    "            total_step += 1\n",
    "\n",
    "            src, src_key_padding_mask, tgt, tgt_key_padding_mask, memory_key_padding_mask, tgt_inp, tgt_out, tgt_mask = prep_transf_inputs(\n",
    "                src, src_key_padding_mask, tgt, tgt_key_padding_mask, device)\n",
    "            \n",
    "            optim.zero_grad()\n",
    "            outputs = model(src, tgt_inp, src_key_padding_mask, tgt_key_padding_mask[:, :-1], memory_key_padding_mask, tgt_mask)\n",
    "            loss = criterion(rearrange(outputs, 'b t v -> (b t) v'), rearrange(tgt_out, 'b o -> (b o)'))\n",
    "\n",
    "            loss.backward()\n",
    "            optim.step_and_update_lr()\n",
    "\n",
    "            total_loss += loss.item()\n",
    "            if step % print_every == print_every - 1:\n",
    "                print(f'Epoch [{epoch + 1} / {num_epochs}] \\t Step [{step + 1} / {len(loader)}] \\t '\n",
    "                      'Train Loss: {:.3f}'.format(total_loss / print_every))\n",
    "                total_loss = 0\n",
    "                \n",
    "        if early_stopping_flag:\n",
    "            model.eval()\n",
    "            print(f'Epoch [{epoch + 1} / {num_epochs}]:')\n",
    "            print('{} BLEU: {:.2%}'.format(\n",
    "                '\\ttrain', get_bleu_from_loader(model, loader)))\n",
    "            print('{} BLEU: {:.2%}'.format(\n",
    "                '\\tval', get_bleu_from_loader(model, val_loader)))\n",
    "        print('\\n')"
   ]
  },
  {
   "cell_type": "markdown",
   "metadata": {},
   "source": [
    "### test the model with our previous way to eval"
   ]
  },
  {
   "cell_type": "code",
   "execution_count": 417,
   "metadata": {},
   "outputs": [],
   "source": [
    "from tsf_utils import get_tk_from_proba, format_list_for_bleu"
   ]
  },
  {
   "cell_type": "code",
   "execution_count": 512,
   "metadata": {},
   "outputs": [
    {
     "name": "stdout",
     "output_type": "stream",
     "text": [
      "CPU times: user 19.2 s, sys: 1 s, total: 20.2 s\n",
      "Wall time: 712 ms\n"
     ]
    }
   ],
   "source": [
    "    %%time\n",
    "    pred_list = []\n",
    "    tgt_list = []\n",
    "    device = model.embed_tgt.weight.device\n",
    "    \n",
    "    for (src, src_key_padding_mask, tgt, tgt_key_padding_mask) in iter(val_loader):\n",
    "        \n",
    "        # prepare inputs\n",
    "        src, src_key_padding_mask, tgt, tgt_key_padding_mask, memory_key_padding_mask, tgt_inp, tgt_out, tgt_mask = prep_transf_inputs(\n",
    "            src, src_key_padding_mask, tgt, tgt_key_padding_mask, device)\n",
    "\n",
    "        # run inference\n",
    "        outputs = model(src, tgt_inp, src_key_padding_mask, tgt_key_padding_mask[:, :-1], memory_key_padding_mask, tgt_mask)\n",
    "\n",
    "        # get predictions from proba\n",
    "        pred = get_tk_from_proba(outputs)\n",
    "        \n",
    "        # get pred and ground truth ready for metric eval\n",
    "        pred_list += [list(pred[row, :].cpu().numpy()) for row in range(pred.shape[0])]\n",
    "        tgt_list += [list(tgt[row, :].cpu().numpy()) for row in range(pred.shape[0])]"
   ]
  },
  {
   "cell_type": "code",
   "execution_count": 513,
   "metadata": {},
   "outputs": [
    {
     "name": "stdout",
     "output_type": "stream",
     "text": [
      "\tval BLEU: 12.83%\n"
     ]
    }
   ],
   "source": [
    "pred_list_bleu, tgt_list_bleu = format_list_for_bleu(pred_list, tgt_list)\n",
    "print('{} BLEU: {:.2%}'.format(\n",
    "                '\\tval',bleu_score(pred_list_bleu, tgt_list_bleu)))"
   ]
  },
  {
   "cell_type": "markdown",
   "metadata": {},
   "source": [
    "### build the new way to eval -- 1 example"
   ]
  },
  {
   "cell_type": "code",
   "execution_count": 683,
   "metadata": {
    "collapsed": true
   },
   "outputs": [
    {
     "ename": "KeyboardInterrupt",
     "evalue": "",
     "output_type": "error",
     "traceback": [
      "\u001b[0;31m---------------------------------------------------------------------------\u001b[0m",
      "\u001b[0;31mKeyboardInterrupt\u001b[0m                         Traceback (most recent call last)",
      "\u001b[0;32m<timed exec>\u001b[0m in \u001b[0;36m<module>\u001b[0;34m\u001b[0m\n",
      "\u001b[0;32m<ipython-input-681-498bc7a7e2f5>\u001b[0m in \u001b[0;36moos_infer\u001b[0;34m(model, loader, max_seq_length)\u001b[0m\n\u001b[1;32m     41\u001b[0m             \u001b[0mtgt_i\u001b[0m \u001b[0;34m=\u001b[0m \u001b[0mtgt\u001b[0m\u001b[0;34m[\u001b[0m\u001b[0;34m:\u001b[0m\u001b[0;34m,\u001b[0m\u001b[0;34m[\u001b[0m\u001b[0mi\u001b[0m\u001b[0;34m]\u001b[0m\u001b[0;34m,\u001b[0m\u001b[0;34m:\u001b[0m\u001b[0;34m]\u001b[0m\u001b[0;34m\u001b[0m\u001b[0;34m\u001b[0m\u001b[0m\n\u001b[1;32m     42\u001b[0m \u001b[0;34m\u001b[0m\u001b[0m\n\u001b[0;32m---> 43\u001b[0;31m             \u001b[0mpred_out\u001b[0m\u001b[0;34m,\u001b[0m \u001b[0mtgt_out\u001b[0m\u001b[0;34m,\u001b[0m \u001b[0mtag_out\u001b[0m \u001b[0;34m=\u001b[0m \u001b[0moos_infer_sent\u001b[0m\u001b[0;34m(\u001b[0m\u001b[0mmodel\u001b[0m\u001b[0;34m,\u001b[0m \u001b[0msrc_i\u001b[0m\u001b[0;34m,\u001b[0m \u001b[0mtgt_i\u001b[0m\u001b[0;34m,\u001b[0m \u001b[0mmax_seq_length\u001b[0m\u001b[0;34m)\u001b[0m\u001b[0;34m\u001b[0m\u001b[0;34m\u001b[0m\u001b[0m\n\u001b[0m\u001b[1;32m     44\u001b[0m             \u001b[0mpred_list\u001b[0m \u001b[0;34m+=\u001b[0m \u001b[0mpred_out\u001b[0m\u001b[0;34m\u001b[0m\u001b[0;34m\u001b[0m\u001b[0m\n\u001b[1;32m     45\u001b[0m             \u001b[0mtgt_list\u001b[0m \u001b[0;34m+=\u001b[0m \u001b[0mtgt_out\u001b[0m\u001b[0;34m\u001b[0m\u001b[0;34m\u001b[0m\u001b[0m\n",
      "\u001b[0;32m<ipython-input-681-498bc7a7e2f5>\u001b[0m in \u001b[0;36moos_infer_sent\u001b[0;34m(model, src, tgt, max_seq_length)\u001b[0m\n\u001b[1;32m     18\u001b[0m     \u001b[0;32mwhile\u001b[0m \u001b[0mint\u001b[0m\u001b[0;34m(\u001b[0m\u001b[0mpred\u001b[0m\u001b[0;34m[\u001b[0m\u001b[0;34m-\u001b[0m\u001b[0;36m1\u001b[0m\u001b[0;34m]\u001b[0m\u001b[0;34m)\u001b[0m \u001b[0;34m!=\u001b[0m \u001b[0mIDX_EOS\u001b[0m \u001b[0;32mand\u001b[0m \u001b[0mi\u001b[0m \u001b[0;34m<\u001b[0m \u001b[0mmax_seq_length\u001b[0m\u001b[0;34m:\u001b[0m\u001b[0;34m\u001b[0m\u001b[0;34m\u001b[0m\u001b[0m\n\u001b[1;32m     19\u001b[0m         output = get_tk_from_proba(\n\u001b[0;32m---> 20\u001b[0;31m             forward_model(model, src, pred))\n\u001b[0m\u001b[1;32m     21\u001b[0m         \u001b[0mpred\u001b[0m\u001b[0;34m.\u001b[0m\u001b[0mappend\u001b[0m\u001b[0;34m(\u001b[0m\u001b[0moutput\u001b[0m\u001b[0;34m[\u001b[0m\u001b[0;36m0\u001b[0m\u001b[0;34m]\u001b[0m\u001b[0;34m[\u001b[0m\u001b[0;34m-\u001b[0m\u001b[0;36m1\u001b[0m\u001b[0;34m]\u001b[0m\u001b[0;34m.\u001b[0m\u001b[0mitem\u001b[0m\u001b[0;34m(\u001b[0m\u001b[0;34m)\u001b[0m\u001b[0;34m)\u001b[0m\u001b[0;34m\u001b[0m\u001b[0;34m\u001b[0m\u001b[0m\n\u001b[1;32m     22\u001b[0m         \u001b[0mi\u001b[0m \u001b[0;34m+=\u001b[0m \u001b[0;36m1\u001b[0m\u001b[0;34m\u001b[0m\u001b[0;34m\u001b[0m\u001b[0m\n",
      "\u001b[0;32m<ipython-input-681-498bc7a7e2f5>\u001b[0m in \u001b[0;36mforward_model\u001b[0;34m(model, src, pred_sentence)\u001b[0m\n\u001b[1;32m      8\u001b[0m \u001b[0;34m\u001b[0m\u001b[0m\n\u001b[1;32m      9\u001b[0m     \u001b[0;31m# run inference\u001b[0m\u001b[0;34m\u001b[0m\u001b[0;34m\u001b[0m\u001b[0;34m\u001b[0m\u001b[0m\n\u001b[0;32m---> 10\u001b[0;31m     \u001b[0;32mreturn\u001b[0m \u001b[0mmodel\u001b[0m\u001b[0;34m(\u001b[0m\u001b[0msrc\u001b[0m\u001b[0;34m,\u001b[0m \u001b[0mtgt\u001b[0m\u001b[0;34m,\u001b[0m \u001b[0msrc_key_padding_mask\u001b[0m\u001b[0;34m=\u001b[0m\u001b[0;32mNone\u001b[0m\u001b[0;34m,\u001b[0m \u001b[0mtgt_key_padding_mask\u001b[0m\u001b[0;34m=\u001b[0m\u001b[0;32mNone\u001b[0m\u001b[0;34m,\u001b[0m \u001b[0mmemory_key_padding_mask\u001b[0m\u001b[0;34m=\u001b[0m\u001b[0;32mNone\u001b[0m\u001b[0;34m,\u001b[0m \u001b[0mtgt_mask\u001b[0m\u001b[0;34m=\u001b[0m\u001b[0mtgt_mask\u001b[0m\u001b[0;34m)\u001b[0m\u001b[0;34m\u001b[0m\u001b[0;34m\u001b[0m\u001b[0m\n\u001b[0m\u001b[1;32m     11\u001b[0m \u001b[0;34m\u001b[0m\u001b[0m\n\u001b[1;32m     12\u001b[0m \u001b[0;32mdef\u001b[0m \u001b[0moos_infer_sent\u001b[0m\u001b[0;34m(\u001b[0m\u001b[0mmodel\u001b[0m\u001b[0;34m,\u001b[0m \u001b[0msrc\u001b[0m\u001b[0;34m,\u001b[0m \u001b[0mtgt\u001b[0m\u001b[0;34m,\u001b[0m \u001b[0mmax_seq_length\u001b[0m\u001b[0;34m)\u001b[0m\u001b[0;34m:\u001b[0m\u001b[0;34m\u001b[0m\u001b[0;34m\u001b[0m\u001b[0m\n",
      "\u001b[0;32m~/anaconda3/envs/bcic1/lib/python3.6/site-packages/torch/nn/modules/module.py\u001b[0m in \u001b[0;36m__call__\u001b[0;34m(self, *input, **kwargs)\u001b[0m\n\u001b[1;32m    530\u001b[0m             \u001b[0mresult\u001b[0m \u001b[0;34m=\u001b[0m \u001b[0mself\u001b[0m\u001b[0;34m.\u001b[0m\u001b[0m_slow_forward\u001b[0m\u001b[0;34m(\u001b[0m\u001b[0;34m*\u001b[0m\u001b[0minput\u001b[0m\u001b[0;34m,\u001b[0m \u001b[0;34m**\u001b[0m\u001b[0mkwargs\u001b[0m\u001b[0;34m)\u001b[0m\u001b[0;34m\u001b[0m\u001b[0;34m\u001b[0m\u001b[0m\n\u001b[1;32m    531\u001b[0m         \u001b[0;32melse\u001b[0m\u001b[0;34m:\u001b[0m\u001b[0;34m\u001b[0m\u001b[0;34m\u001b[0m\u001b[0m\n\u001b[0;32m--> 532\u001b[0;31m             \u001b[0mresult\u001b[0m \u001b[0;34m=\u001b[0m \u001b[0mself\u001b[0m\u001b[0;34m.\u001b[0m\u001b[0mforward\u001b[0m\u001b[0;34m(\u001b[0m\u001b[0;34m*\u001b[0m\u001b[0minput\u001b[0m\u001b[0;34m,\u001b[0m \u001b[0;34m**\u001b[0m\u001b[0mkwargs\u001b[0m\u001b[0;34m)\u001b[0m\u001b[0;34m\u001b[0m\u001b[0;34m\u001b[0m\u001b[0m\n\u001b[0m\u001b[1;32m    533\u001b[0m         \u001b[0;32mfor\u001b[0m \u001b[0mhook\u001b[0m \u001b[0;32min\u001b[0m \u001b[0mself\u001b[0m\u001b[0;34m.\u001b[0m\u001b[0m_forward_hooks\u001b[0m\u001b[0;34m.\u001b[0m\u001b[0mvalues\u001b[0m\u001b[0;34m(\u001b[0m\u001b[0;34m)\u001b[0m\u001b[0;34m:\u001b[0m\u001b[0;34m\u001b[0m\u001b[0;34m\u001b[0m\u001b[0m\n\u001b[1;32m    534\u001b[0m             \u001b[0mhook_result\u001b[0m \u001b[0;34m=\u001b[0m \u001b[0mhook\u001b[0m\u001b[0;34m(\u001b[0m\u001b[0mself\u001b[0m\u001b[0;34m,\u001b[0m \u001b[0minput\u001b[0m\u001b[0;34m,\u001b[0m \u001b[0mresult\u001b[0m\u001b[0;34m)\u001b[0m\u001b[0;34m\u001b[0m\u001b[0;34m\u001b[0m\u001b[0m\n",
      "\u001b[0;32m~/nlp/nlp-agmir/transformer_translation/model.py\u001b[0m in \u001b[0;36mforward\u001b[0;34m(self, src, tgt, src_key_padding_mask, tgt_key_padding_mask, memory_key_padding_mask, tgt_mask)\u001b[0m\n\u001b[1;32m     47\u001b[0m \u001b[0;34m\u001b[0m\u001b[0m\n\u001b[1;32m     48\u001b[0m         output = self.transformer(src, tgt, tgt_mask=tgt_mask, src_key_padding_mask=src_key_padding_mask,\n\u001b[0;32m---> 49\u001b[0;31m                                   tgt_key_padding_mask=tgt_key_padding_mask, memory_key_padding_mask=memory_key_padding_mask)\n\u001b[0m\u001b[1;32m     50\u001b[0m         \u001b[0moutput\u001b[0m \u001b[0;34m=\u001b[0m \u001b[0mrearrange\u001b[0m\u001b[0;34m(\u001b[0m\u001b[0moutput\u001b[0m\u001b[0;34m,\u001b[0m \u001b[0;34m't n e -> n t e'\u001b[0m\u001b[0;34m)\u001b[0m\u001b[0;34m\u001b[0m\u001b[0;34m\u001b[0m\u001b[0m\n\u001b[1;32m     51\u001b[0m         \u001b[0;32mreturn\u001b[0m \u001b[0mself\u001b[0m\u001b[0;34m.\u001b[0m\u001b[0mfc\u001b[0m\u001b[0;34m(\u001b[0m\u001b[0moutput\u001b[0m\u001b[0;34m)\u001b[0m\u001b[0;34m\u001b[0m\u001b[0;34m\u001b[0m\u001b[0m\n",
      "\u001b[0;32m~/anaconda3/envs/bcic1/lib/python3.6/site-packages/torch/nn/modules/module.py\u001b[0m in \u001b[0;36m__call__\u001b[0;34m(self, *input, **kwargs)\u001b[0m\n\u001b[1;32m    530\u001b[0m             \u001b[0mresult\u001b[0m \u001b[0;34m=\u001b[0m \u001b[0mself\u001b[0m\u001b[0;34m.\u001b[0m\u001b[0m_slow_forward\u001b[0m\u001b[0;34m(\u001b[0m\u001b[0;34m*\u001b[0m\u001b[0minput\u001b[0m\u001b[0;34m,\u001b[0m \u001b[0;34m**\u001b[0m\u001b[0mkwargs\u001b[0m\u001b[0;34m)\u001b[0m\u001b[0;34m\u001b[0m\u001b[0;34m\u001b[0m\u001b[0m\n\u001b[1;32m    531\u001b[0m         \u001b[0;32melse\u001b[0m\u001b[0;34m:\u001b[0m\u001b[0;34m\u001b[0m\u001b[0;34m\u001b[0m\u001b[0m\n\u001b[0;32m--> 532\u001b[0;31m             \u001b[0mresult\u001b[0m \u001b[0;34m=\u001b[0m \u001b[0mself\u001b[0m\u001b[0;34m.\u001b[0m\u001b[0mforward\u001b[0m\u001b[0;34m(\u001b[0m\u001b[0;34m*\u001b[0m\u001b[0minput\u001b[0m\u001b[0;34m,\u001b[0m \u001b[0;34m**\u001b[0m\u001b[0mkwargs\u001b[0m\u001b[0;34m)\u001b[0m\u001b[0;34m\u001b[0m\u001b[0;34m\u001b[0m\u001b[0m\n\u001b[0m\u001b[1;32m    533\u001b[0m         \u001b[0;32mfor\u001b[0m \u001b[0mhook\u001b[0m \u001b[0;32min\u001b[0m \u001b[0mself\u001b[0m\u001b[0;34m.\u001b[0m\u001b[0m_forward_hooks\u001b[0m\u001b[0;34m.\u001b[0m\u001b[0mvalues\u001b[0m\u001b[0;34m(\u001b[0m\u001b[0;34m)\u001b[0m\u001b[0;34m:\u001b[0m\u001b[0;34m\u001b[0m\u001b[0;34m\u001b[0m\u001b[0m\n\u001b[1;32m    534\u001b[0m             \u001b[0mhook_result\u001b[0m \u001b[0;34m=\u001b[0m \u001b[0mhook\u001b[0m\u001b[0;34m(\u001b[0m\u001b[0mself\u001b[0m\u001b[0;34m,\u001b[0m \u001b[0minput\u001b[0m\u001b[0;34m,\u001b[0m \u001b[0mresult\u001b[0m\u001b[0;34m)\u001b[0m\u001b[0;34m\u001b[0m\u001b[0;34m\u001b[0m\u001b[0m\n",
      "\u001b[0;32m~/anaconda3/envs/bcic1/lib/python3.6/site-packages/torch/nn/modules/transformer.py\u001b[0m in \u001b[0;36mforward\u001b[0;34m(self, src, tgt, src_mask, tgt_mask, memory_mask, src_key_padding_mask, tgt_key_padding_mask, memory_key_padding_mask)\u001b[0m\n\u001b[1;32m    116\u001b[0m             \u001b[0;32mraise\u001b[0m \u001b[0mRuntimeError\u001b[0m\u001b[0;34m(\u001b[0m\u001b[0;34m\"the feature number of src and tgt must be equal to d_model\"\u001b[0m\u001b[0;34m)\u001b[0m\u001b[0;34m\u001b[0m\u001b[0;34m\u001b[0m\u001b[0m\n\u001b[1;32m    117\u001b[0m \u001b[0;34m\u001b[0m\u001b[0m\n\u001b[0;32m--> 118\u001b[0;31m         \u001b[0mmemory\u001b[0m \u001b[0;34m=\u001b[0m \u001b[0mself\u001b[0m\u001b[0;34m.\u001b[0m\u001b[0mencoder\u001b[0m\u001b[0;34m(\u001b[0m\u001b[0msrc\u001b[0m\u001b[0;34m,\u001b[0m \u001b[0mmask\u001b[0m\u001b[0;34m=\u001b[0m\u001b[0msrc_mask\u001b[0m\u001b[0;34m,\u001b[0m \u001b[0msrc_key_padding_mask\u001b[0m\u001b[0;34m=\u001b[0m\u001b[0msrc_key_padding_mask\u001b[0m\u001b[0;34m)\u001b[0m\u001b[0;34m\u001b[0m\u001b[0;34m\u001b[0m\u001b[0m\n\u001b[0m\u001b[1;32m    119\u001b[0m         output = self.decoder(tgt, memory, tgt_mask=tgt_mask, memory_mask=memory_mask,\n\u001b[1;32m    120\u001b[0m                               \u001b[0mtgt_key_padding_mask\u001b[0m\u001b[0;34m=\u001b[0m\u001b[0mtgt_key_padding_mask\u001b[0m\u001b[0;34m,\u001b[0m\u001b[0;34m\u001b[0m\u001b[0;34m\u001b[0m\u001b[0m\n",
      "\u001b[0;32m~/anaconda3/envs/bcic1/lib/python3.6/site-packages/torch/nn/modules/module.py\u001b[0m in \u001b[0;36m__call__\u001b[0;34m(self, *input, **kwargs)\u001b[0m\n\u001b[1;32m    530\u001b[0m             \u001b[0mresult\u001b[0m \u001b[0;34m=\u001b[0m \u001b[0mself\u001b[0m\u001b[0;34m.\u001b[0m\u001b[0m_slow_forward\u001b[0m\u001b[0;34m(\u001b[0m\u001b[0;34m*\u001b[0m\u001b[0minput\u001b[0m\u001b[0;34m,\u001b[0m \u001b[0;34m**\u001b[0m\u001b[0mkwargs\u001b[0m\u001b[0;34m)\u001b[0m\u001b[0;34m\u001b[0m\u001b[0;34m\u001b[0m\u001b[0m\n\u001b[1;32m    531\u001b[0m         \u001b[0;32melse\u001b[0m\u001b[0;34m:\u001b[0m\u001b[0;34m\u001b[0m\u001b[0;34m\u001b[0m\u001b[0m\n\u001b[0;32m--> 532\u001b[0;31m             \u001b[0mresult\u001b[0m \u001b[0;34m=\u001b[0m \u001b[0mself\u001b[0m\u001b[0;34m.\u001b[0m\u001b[0mforward\u001b[0m\u001b[0;34m(\u001b[0m\u001b[0;34m*\u001b[0m\u001b[0minput\u001b[0m\u001b[0;34m,\u001b[0m \u001b[0;34m**\u001b[0m\u001b[0mkwargs\u001b[0m\u001b[0;34m)\u001b[0m\u001b[0;34m\u001b[0m\u001b[0;34m\u001b[0m\u001b[0m\n\u001b[0m\u001b[1;32m    533\u001b[0m         \u001b[0;32mfor\u001b[0m \u001b[0mhook\u001b[0m \u001b[0;32min\u001b[0m \u001b[0mself\u001b[0m\u001b[0;34m.\u001b[0m\u001b[0m_forward_hooks\u001b[0m\u001b[0;34m.\u001b[0m\u001b[0mvalues\u001b[0m\u001b[0;34m(\u001b[0m\u001b[0;34m)\u001b[0m\u001b[0;34m:\u001b[0m\u001b[0;34m\u001b[0m\u001b[0;34m\u001b[0m\u001b[0m\n\u001b[1;32m    534\u001b[0m             \u001b[0mhook_result\u001b[0m \u001b[0;34m=\u001b[0m \u001b[0mhook\u001b[0m\u001b[0;34m(\u001b[0m\u001b[0mself\u001b[0m\u001b[0;34m,\u001b[0m \u001b[0minput\u001b[0m\u001b[0;34m,\u001b[0m \u001b[0mresult\u001b[0m\u001b[0;34m)\u001b[0m\u001b[0;34m\u001b[0m\u001b[0;34m\u001b[0m\u001b[0m\n",
      "\u001b[0;32m~/anaconda3/envs/bcic1/lib/python3.6/site-packages/torch/nn/modules/transformer.py\u001b[0m in \u001b[0;36mforward\u001b[0;34m(self, src, mask, src_key_padding_mask)\u001b[0m\n\u001b[1;32m    174\u001b[0m         \u001b[0;32mfor\u001b[0m \u001b[0mi\u001b[0m \u001b[0;32min\u001b[0m \u001b[0mrange\u001b[0m\u001b[0;34m(\u001b[0m\u001b[0mself\u001b[0m\u001b[0;34m.\u001b[0m\u001b[0mnum_layers\u001b[0m\u001b[0;34m)\u001b[0m\u001b[0;34m:\u001b[0m\u001b[0;34m\u001b[0m\u001b[0;34m\u001b[0m\u001b[0m\n\u001b[1;32m    175\u001b[0m             output = self.layers[i](output, src_mask=mask,\n\u001b[0;32m--> 176\u001b[0;31m                                     src_key_padding_mask=src_key_padding_mask)\n\u001b[0m\u001b[1;32m    177\u001b[0m \u001b[0;34m\u001b[0m\u001b[0m\n\u001b[1;32m    178\u001b[0m         \u001b[0;32mif\u001b[0m \u001b[0mself\u001b[0m\u001b[0;34m.\u001b[0m\u001b[0mnorm\u001b[0m\u001b[0;34m:\u001b[0m\u001b[0;34m\u001b[0m\u001b[0;34m\u001b[0m\u001b[0m\n",
      "\u001b[0;32m~/anaconda3/envs/bcic1/lib/python3.6/site-packages/torch/nn/modules/module.py\u001b[0m in \u001b[0;36m__call__\u001b[0;34m(self, *input, **kwargs)\u001b[0m\n\u001b[1;32m    530\u001b[0m             \u001b[0mresult\u001b[0m \u001b[0;34m=\u001b[0m \u001b[0mself\u001b[0m\u001b[0;34m.\u001b[0m\u001b[0m_slow_forward\u001b[0m\u001b[0;34m(\u001b[0m\u001b[0;34m*\u001b[0m\u001b[0minput\u001b[0m\u001b[0;34m,\u001b[0m \u001b[0;34m**\u001b[0m\u001b[0mkwargs\u001b[0m\u001b[0;34m)\u001b[0m\u001b[0;34m\u001b[0m\u001b[0;34m\u001b[0m\u001b[0m\n\u001b[1;32m    531\u001b[0m         \u001b[0;32melse\u001b[0m\u001b[0;34m:\u001b[0m\u001b[0;34m\u001b[0m\u001b[0;34m\u001b[0m\u001b[0m\n\u001b[0;32m--> 532\u001b[0;31m             \u001b[0mresult\u001b[0m \u001b[0;34m=\u001b[0m \u001b[0mself\u001b[0m\u001b[0;34m.\u001b[0m\u001b[0mforward\u001b[0m\u001b[0;34m(\u001b[0m\u001b[0;34m*\u001b[0m\u001b[0minput\u001b[0m\u001b[0;34m,\u001b[0m \u001b[0;34m**\u001b[0m\u001b[0mkwargs\u001b[0m\u001b[0;34m)\u001b[0m\u001b[0;34m\u001b[0m\u001b[0;34m\u001b[0m\u001b[0m\n\u001b[0m\u001b[1;32m    533\u001b[0m         \u001b[0;32mfor\u001b[0m \u001b[0mhook\u001b[0m \u001b[0;32min\u001b[0m \u001b[0mself\u001b[0m\u001b[0;34m.\u001b[0m\u001b[0m_forward_hooks\u001b[0m\u001b[0;34m.\u001b[0m\u001b[0mvalues\u001b[0m\u001b[0;34m(\u001b[0m\u001b[0;34m)\u001b[0m\u001b[0;34m:\u001b[0m\u001b[0;34m\u001b[0m\u001b[0;34m\u001b[0m\u001b[0m\n\u001b[1;32m    534\u001b[0m             \u001b[0mhook_result\u001b[0m \u001b[0;34m=\u001b[0m \u001b[0mhook\u001b[0m\u001b[0;34m(\u001b[0m\u001b[0mself\u001b[0m\u001b[0;34m,\u001b[0m \u001b[0minput\u001b[0m\u001b[0;34m,\u001b[0m \u001b[0mresult\u001b[0m\u001b[0;34m)\u001b[0m\u001b[0;34m\u001b[0m\u001b[0;34m\u001b[0m\u001b[0m\n",
      "\u001b[0;32m~/anaconda3/envs/bcic1/lib/python3.6/site-packages/torch/nn/modules/transformer.py\u001b[0m in \u001b[0;36mforward\u001b[0;34m(self, src, src_mask, src_key_padding_mask)\u001b[0m\n\u001b[1;32m    289\u001b[0m             \u001b[0msrc2\u001b[0m \u001b[0;34m=\u001b[0m \u001b[0mself\u001b[0m\u001b[0;34m.\u001b[0m\u001b[0mlinear2\u001b[0m\u001b[0;34m(\u001b[0m\u001b[0mself\u001b[0m\u001b[0;34m.\u001b[0m\u001b[0mdropout\u001b[0m\u001b[0;34m(\u001b[0m\u001b[0mF\u001b[0m\u001b[0;34m.\u001b[0m\u001b[0mrelu\u001b[0m\u001b[0;34m(\u001b[0m\u001b[0mself\u001b[0m\u001b[0;34m.\u001b[0m\u001b[0mlinear1\u001b[0m\u001b[0;34m(\u001b[0m\u001b[0msrc\u001b[0m\u001b[0;34m)\u001b[0m\u001b[0;34m)\u001b[0m\u001b[0;34m)\u001b[0m\u001b[0;34m)\u001b[0m\u001b[0;34m\u001b[0m\u001b[0;34m\u001b[0m\u001b[0m\n\u001b[1;32m    290\u001b[0m         \u001b[0msrc\u001b[0m \u001b[0;34m=\u001b[0m \u001b[0msrc\u001b[0m \u001b[0;34m+\u001b[0m \u001b[0mself\u001b[0m\u001b[0;34m.\u001b[0m\u001b[0mdropout2\u001b[0m\u001b[0;34m(\u001b[0m\u001b[0msrc2\u001b[0m\u001b[0;34m)\u001b[0m\u001b[0;34m\u001b[0m\u001b[0;34m\u001b[0m\u001b[0m\n\u001b[0;32m--> 291\u001b[0;31m         \u001b[0msrc\u001b[0m \u001b[0;34m=\u001b[0m \u001b[0mself\u001b[0m\u001b[0;34m.\u001b[0m\u001b[0mnorm2\u001b[0m\u001b[0;34m(\u001b[0m\u001b[0msrc\u001b[0m\u001b[0;34m)\u001b[0m\u001b[0;34m\u001b[0m\u001b[0;34m\u001b[0m\u001b[0m\n\u001b[0m\u001b[1;32m    292\u001b[0m         \u001b[0;32mreturn\u001b[0m \u001b[0msrc\u001b[0m\u001b[0;34m\u001b[0m\u001b[0;34m\u001b[0m\u001b[0m\n\u001b[1;32m    293\u001b[0m \u001b[0;34m\u001b[0m\u001b[0m\n",
      "\u001b[0;32m~/anaconda3/envs/bcic1/lib/python3.6/site-packages/torch/nn/modules/module.py\u001b[0m in \u001b[0;36m__call__\u001b[0;34m(self, *input, **kwargs)\u001b[0m\n\u001b[1;32m    530\u001b[0m             \u001b[0mresult\u001b[0m \u001b[0;34m=\u001b[0m \u001b[0mself\u001b[0m\u001b[0;34m.\u001b[0m\u001b[0m_slow_forward\u001b[0m\u001b[0;34m(\u001b[0m\u001b[0;34m*\u001b[0m\u001b[0minput\u001b[0m\u001b[0;34m,\u001b[0m \u001b[0;34m**\u001b[0m\u001b[0mkwargs\u001b[0m\u001b[0;34m)\u001b[0m\u001b[0;34m\u001b[0m\u001b[0;34m\u001b[0m\u001b[0m\n\u001b[1;32m    531\u001b[0m         \u001b[0;32melse\u001b[0m\u001b[0;34m:\u001b[0m\u001b[0;34m\u001b[0m\u001b[0;34m\u001b[0m\u001b[0m\n\u001b[0;32m--> 532\u001b[0;31m             \u001b[0mresult\u001b[0m \u001b[0;34m=\u001b[0m \u001b[0mself\u001b[0m\u001b[0;34m.\u001b[0m\u001b[0mforward\u001b[0m\u001b[0;34m(\u001b[0m\u001b[0;34m*\u001b[0m\u001b[0minput\u001b[0m\u001b[0;34m,\u001b[0m \u001b[0;34m**\u001b[0m\u001b[0mkwargs\u001b[0m\u001b[0;34m)\u001b[0m\u001b[0;34m\u001b[0m\u001b[0;34m\u001b[0m\u001b[0m\n\u001b[0m\u001b[1;32m    533\u001b[0m         \u001b[0;32mfor\u001b[0m \u001b[0mhook\u001b[0m \u001b[0;32min\u001b[0m \u001b[0mself\u001b[0m\u001b[0;34m.\u001b[0m\u001b[0m_forward_hooks\u001b[0m\u001b[0;34m.\u001b[0m\u001b[0mvalues\u001b[0m\u001b[0;34m(\u001b[0m\u001b[0;34m)\u001b[0m\u001b[0;34m:\u001b[0m\u001b[0;34m\u001b[0m\u001b[0;34m\u001b[0m\u001b[0m\n\u001b[1;32m    534\u001b[0m             \u001b[0mhook_result\u001b[0m \u001b[0;34m=\u001b[0m \u001b[0mhook\u001b[0m\u001b[0;34m(\u001b[0m\u001b[0mself\u001b[0m\u001b[0;34m,\u001b[0m \u001b[0minput\u001b[0m\u001b[0;34m,\u001b[0m \u001b[0mresult\u001b[0m\u001b[0;34m)\u001b[0m\u001b[0;34m\u001b[0m\u001b[0;34m\u001b[0m\u001b[0m\n",
      "\u001b[0;32m~/anaconda3/envs/bcic1/lib/python3.6/site-packages/torch/nn/modules/normalization.py\u001b[0m in \u001b[0;36mforward\u001b[0;34m(self, input)\u001b[0m\n\u001b[1;32m    151\u001b[0m     \u001b[0;32mdef\u001b[0m \u001b[0mforward\u001b[0m\u001b[0;34m(\u001b[0m\u001b[0mself\u001b[0m\u001b[0;34m,\u001b[0m \u001b[0minput\u001b[0m\u001b[0;34m)\u001b[0m\u001b[0;34m:\u001b[0m\u001b[0;34m\u001b[0m\u001b[0;34m\u001b[0m\u001b[0m\n\u001b[1;32m    152\u001b[0m         return F.layer_norm(\n\u001b[0;32m--> 153\u001b[0;31m             input, self.normalized_shape, self.weight, self.bias, self.eps)\n\u001b[0m\u001b[1;32m    154\u001b[0m \u001b[0;34m\u001b[0m\u001b[0m\n\u001b[1;32m    155\u001b[0m     \u001b[0;32mdef\u001b[0m \u001b[0mextra_repr\u001b[0m\u001b[0;34m(\u001b[0m\u001b[0mself\u001b[0m\u001b[0;34m)\u001b[0m\u001b[0;34m:\u001b[0m\u001b[0;34m\u001b[0m\u001b[0;34m\u001b[0m\u001b[0m\n",
      "\u001b[0;32m~/anaconda3/envs/bcic1/lib/python3.6/site-packages/torch/nn/functional.py\u001b[0m in \u001b[0;36mlayer_norm\u001b[0;34m(input, normalized_shape, weight, bias, eps)\u001b[0m\n\u001b[1;32m   1694\u001b[0m     \"\"\"\n\u001b[1;32m   1695\u001b[0m     return torch.layer_norm(input, normalized_shape, weight, bias, eps,\n\u001b[0;32m-> 1696\u001b[0;31m                             torch.backends.cudnn.enabled)\n\u001b[0m\u001b[1;32m   1697\u001b[0m \u001b[0;34m\u001b[0m\u001b[0m\n\u001b[1;32m   1698\u001b[0m \u001b[0;34m\u001b[0m\u001b[0m\n",
      "\u001b[0;31mKeyboardInterrupt\u001b[0m: "
     ]
    }
   ],
   "source": [
    "%%time\n",
    "pred_list, tgt_list, tag_list = oos_infer(model, loader, max_seq_length)"
   ]
  },
  {
   "cell_type": "code",
   "execution_count": 666,
   "metadata": {},
   "outputs": [
    {
     "name": "stdout",
     "output_type": "stream",
     "text": [
      "BLEU: 12.71%\n",
      "\n",
      "\n"
     ]
    }
   ],
   "source": [
    "# print BLEU\n",
    "print('{}BLEU: {:.2%}\\n\\n'.format(\n",
    "    '',bleu_score(*format_list_for_bleu(pred_list, tgt_list))\n",
    "))"
   ]
  },
  {
   "cell_type": "code",
   "execution_count": 651,
   "metadata": {
    "collapsed": true
   },
   "outputs": [
    {
     "name": "stdout",
     "output_type": "stream",
     "text": [
      "TAGS:  vascular_calcification vascular_calcifications calcified_granuloma\n",
      "TARGET:  SOS no acute cardiopulmonary disease . the heart pulmonary xxxx and mediastinum are within normal limits . there is no pleural effusion or pneumothorax . there is no focal air space opacity to suggest a pneumonia . there are calcified granulomas noted . there are vascular calcifications over the aortic xxxx . EOS\n",
      "PREDICTION:  SOS no acute cardiopulmonary abnormality . the heart size and mediastinal contours are within normal limits . the lungs are clear . no focal airspace disease . EOS\n",
      "\n",
      "\n",
      "TAGS:  opacity pneumonia left_upper_lobe_pneumonia\n",
      "TARGET:  SOS left upper lobe pneumonia . followup radiographs after appropriate therapy in weeks are indicated to exclude an underlying abnormality . the heart pulmonary xxxx and mediastinum are within normal limits . there is no pleural effusion or pneumothorax . there is a region of left upper lobe perihilar opacity identified . EOS\n",
      "PREDICTION:  SOS no acute cardiopulmonary abnormality . the heart size and mediastinal contours are within normal limits . the lungs are clear . no focal airspace disease . no pleural effusion or pneumothorax . EOS\n",
      "\n",
      "\n",
      "TAGS:  atelectases opacity atelectasis infiltrates\n",
      "TARGET:  SOS patchy right lower lobe infiltrate as well as probable left basilar infiltrate versus atelectasis . the heart is normal in size . the mediastinum is unremarkable . there is patchy infiltrate within normal right lower lobe . mild xxxx opacities in the retrocardiac region . no large effusions or pneumothorax . EOS\n",
      "PREDICTION:  SOS no acute cardiopulmonary abnormality . the heart is normal . the lungs are clear . the lungs are clear . there is no focal airspace disease . EOS\n",
      "\n",
      "\n",
      "TAGS:  opacity scarring hyperexpansion\n",
      "TARGET:  SOS chest radiograph . stable emphysematous changes without acute cardiopulmonary abnormality . normal cardiomediastinal silhouettes . mild hyperexpansion of the lungs . stable appearance of scarring at lung bases . prominent bilateral interstitial opacities are chronic in xxxx . no focal consolidation pleural effusion or pneumothorax . no acute osseous abnormality . EOS\n",
      "PREDICTION:  SOS no acute cardiopulmonary abnormality . the heart is normal . the lungs are clear . the lungs are clear . there is no focal airspace disease . EOS\n",
      "\n",
      "\n",
      "TAGS:  atelectases opacity atelectasis\n",
      "TARGET:  SOS bandlike opacities in the right base . appearance suggests atelectasis . the heart size and pulmonary vascularity appear within normal units . no pleural effusion or pneumothorax is seen . bandlike opacities are present in the right base consistent with areas of atelectasis . remainder of the lungs appear clear . EOS\n",
      "PREDICTION:  SOS no acute cardiopulmonary abnormality . the heart size and pulmonary vascularity are within normal limits . the lungs are clear . no focal airspace disease . no pleural effusion or pneumothorax . EOS\n",
      "\n",
      "\n",
      "TAGS:  atelectases atelectasis pneumonia\n",
      "TARGET:  SOS right middle lobe airspace disease may reflect atelectasis or pneumonia . . the cardiomediastinal silhouette is normal size and configuration . pulmonary vasculature within normal limits . there is right middle lobe airspace disease may reflect atelectasis or pneumonia . no pleural effusion . no pneumothorax . elevated right hemidiaphragm . EOS\n",
      "PREDICTION:  SOS no acute cardiopulmonary abnormality . the heart size and pulmonary vascularity are within normal limits . the lungs are clear . no focal airspace disease . no pleural effusion or pneumothorax . EOS\n",
      "\n",
      "\n",
      "TAGS:  opacity granuloma osteophytes\n",
      "TARGET:  SOS no pneumothorax . similar appearance . minimal xxxx opacities at the posterior sulci . a few septal lines of the left lateral sulcus . otherwise the lungs are clear with granulomas and xxxx sulci . heart size upper normal thin lv contour .unfolded calcified aorta . t spine small osteophytes . EOS\n",
      "PREDICTION:  SOS no acute cardiopulmonary abnormality . the heart size and mediastinal contours are within normal limits . the lungs are clear . no focal airspace disease . no pleural effusion or pneumothorax . EOS\n",
      "\n",
      "\n",
      "TAGS:  pleural_effusion pericardial_effusion pleural_effusions\n",
      "TARGET:  SOS large pericardial effusion . there is an marked interval increase in heart size . the heart also demonstrates the xxxx xxxx configuration compatible with pericardial effusion . a small right pleural effusion the present . the lungs are otherwise clear without focal infiltrates . normal pulmonary vascularity . no pneumothorax . EOS\n",
      "PREDICTION:  SOS no acute cardiopulmonary abnormality . the heart is normal . the lungs are clear . no focal airspace disease . no pleural effusion or pleural effusion . EOS\n",
      "\n",
      "\n",
      "TAGS:  picc_line\n",
      "TARGET:  SOS  . no evidence of active disease . the heart size and pulmonary vascularity appear within normal limits . the lungs are free of focal airspace disease . no pleural effusion or pneumothorax is seen . picc line is in xxxx . the tip is in the upper right atrium . EOS\n",
      "PREDICTION:  SOS no acute cardiopulmonary abnormality . the heart size and mediastinal contours are within normal limits . the lungs are clear . no focal airspace disease . no pleural effusion or pneumothorax . EOS\n",
      "\n",
      "\n",
      "TAGS:  nodule\n",
      "TARGET:  SOS no acute cardiopulmonary disease . no evidence of pneumonia . the lungs are clear . there is no pneumonia . the heart and pulmonary xxxx are normal . pleural spaces are clear . mediastinal contours appear normal . bony overlap in the lung apices could obscure a small pulmonary nodule . EOS\n",
      "PREDICTION:  SOS no acute cardiopulmonary abnormality . the heart size and mediastinal contours are within normal limits . the lungs are clear . no focal airspace disease . no pleural effusion or pneumothorax . EOS\n",
      "\n",
      "\n",
      "TAGS:  opacity pneumonia\n",
      "TARGET:  SOS streaky left retrocardiac airspace opacities in the correct clinical setting this could represent a pneumonia . there are are streaky retrocardiac left lower lobe opacities in the correct clinical setting this could represent a pneumonia . there is no pneumothorax or pleural effusion . the cardiac silhouette is within normal limits . EOS\n",
      "PREDICTION:  SOS no acute cardiopulmonary abnormality . the heart size and mediastinal contours are within normal limits . the lungs are clear . no focal airspace disease . no pleural effusion or pneumothorax . EOS\n",
      "\n",
      "\n",
      "TAGS:  cardiomegaly diaphragm\n",
      "TARGET:  SOS cardiomegaly with elevated right hemidiaphragms and no acute findings . patient is rotated . mild cardiomegaly . low lung volumes with elevated hemidiaphragms greater on the right . this is identified on a thoracic xxxx study from xxxx as well . no pneumothorax . no large pleural effusion . no focal infiltrate . EOS\n",
      "PREDICTION:  SOS no acute cardiopulmonary abnormality . the heart is normal . the lungs are clear . no focal airspace disease . no pleural effusion or pneumothorax . EOS\n",
      "\n",
      "\n",
      "TAGS:  normal\n",
      "TARGET:  SOS no acute cardiopulmonary abnormality . cardiomediastinal silhouette is within normal limits of size and appearance . the pulmonary vascularity is unremarkable . lungs are expanded and clear of airspace disease . negative for pneumothorax or pleural effusion . limited bone evaluation reveals no acute abnormality . there is incompletely evaluated lumbar levoscoliosis . EOS\n",
      "PREDICTION:  SOS no acute cardiopulmonary abnormality . the heart size and mediastinal contours are within normal limits . no focal airspace disease . no pleural effusion or pneumothorax . EOS\n",
      "\n",
      "\n",
      "TAGS:  degenerative_change\n",
      "TARGET:  SOS no acute cardiopulmonary disease . the heart size is upper limits of normal . the pulmonary xxxx and mediastinum are within normal limits . there is no pleural effusion or pneumothorax . there is no focal air space opacity to suggest a pneumonia . there are minimal degenerative changes of the spine . EOS\n",
      "PREDICTION:  SOS no acute cardiopulmonary abnormality . the heart size and mediastinal contours are within normal limits . the lungs are clear . no focal airspace disease . no pleural effusion or pneumothorax . EOS\n",
      "\n",
      "\n",
      "TAGS:  right_lower_lobe_pneumonia pneumonia\n",
      "TARGET:  SOS the right lower lobe pneumonia there is xxxx airspace disease in the right lower lobe seen behind the right hemidiaphragm on pa view . this is also well seen on lateral view . remainder of the lungs appear clear . the heart and pulmonary xxxx appear normal . mediastinal contours are normal . EOS\n",
      "PREDICTION:  SOS no acute cardiopulmonary abnormality . the heart size and mediastinal contours are within normal limits . the lungs are clear . no focal airspace disease . EOS\n",
      "\n",
      "\n",
      "TAGS:  spinal_fusion sternotomy\n",
      "TARGET:  SOS  . stable position of the cardiac xxxx and leads . . normal cardiac size with clear lungs . status post posterior spinal fusion . status post xxxx sternotomy . stable position of the cardiac xxxx and leads . the cardiac silhouette and mediastinum size are normal . the lungs are clear . EOS\n",
      "PREDICTION:  SOS no acute cardiopulmonary abnormality . the heart is normal . the lungs are clear . no focal airspace disease . no pleural effusion or pneumothorax . EOS\n",
      "\n",
      "\n",
      "TAGS:  normal\n",
      "TARGET:  SOS no acute xxxx related findings . please note that fractures may not be demonstrated and consider additional imaging if clinically indicated . no focal consolidation pneumothorax or definite pleural effusion . heart size within normal limits no mediastinal widening characteristic in appearance of vascular injury . no acute osseous injury xxxx demonstrated . EOS\n",
      "PREDICTION:  SOS no acute cardiopulmonary abnormality . the heart size and mediastinal contours are within normal limits . no focal airspace disease . no pleural effusion or pneumothorax . EOS\n",
      "\n",
      "\n",
      "TAGS:  lung_diseases\n",
      "TARGET:  SOS  . pulmonary hypoinflation . otherwise no acute intrathoracic abnormality . the cardiomediastinal silhouette is within normal limits for appearance . pulmonary hypoinflation with bronchovascular crowding . no focal areas of pulmonary consolidation . no pneumothorax . no pleural effusion . the thoracic spine appears intact . no acute displaced rib fractures . EOS\n",
      "PREDICTION:  SOS no acute cardiopulmonary abnormality . the heart is normal . the lungs are clear . no focal airspace disease . no pleural effusion or pneumothorax . EOS\n",
      "\n",
      "\n",
      "TAGS:  hilar_calcification opacity surgical_clip scarring\n",
      "TARGET:  SOS heart size within normal limits stable mediastinal contours mediastinal surgical clips mediastinal and right hilar calcifications suggest a previous granulomatous process . improved lung volumes xxxx left base opacities most suggestive of scarring . no focal alveolar consolidation no definite pleural effusion seen . bronchovascular crowding without typical findings of pulmonary edema . EOS\n",
      "PREDICTION:  SOS no acute cardiopulmonary abnormality . the heart is normal . the lungs are clear . the lungs are clear . there is no focal airspace disease . EOS\n",
      "\n",
      "\n",
      "TAGS:  nodule\n",
      "TARGET:  SOS low lung volumes with no definite acute findings . low lung volumes with bronchovascular crowding . otherwise no focal alveolar consolidation no definite pleural effusion seen . a dense nodule in the right base suggest a previous granulomatous process . heart size within normal limits bronchovascular crowding without typical findings of pulmonary edema . EOS\n",
      "PREDICTION:  SOS no acute cardiopulmonary abnormality . the heart size and mediastinal contours are within normal limits . the lungs are clear . no focal airspace disease . no pleural effusion or pneumothorax . EOS\n",
      "\n",
      "\n",
      "TAGS:  pleural_effusion atelectases opacity degenerative_change atelectasis infiltrates pleural_effusions\n",
      "TARGET:  SOS  . patchy left basilar subsegmental atelectasis infiltrates and or small left pleural effusion . . the cardiac silhouette is at the upper limits of normal for size . patchy opacities are demonstrated in the left lung base . no focal pulmonary consolidation . no pneumothorax . minimal degenerative changes of the thoracic spine . EOS\n",
      "PREDICTION:  SOS no acute cardiopulmonary abnormality . the heart is normal . the lungs are clear . the lungs are clear . there is no focal airspace disease . EOS\n",
      "\n",
      "\n",
      "TAGS:  picc pneumonia\n",
      "TARGET:  SOS multifocal right sided pneumonia . there is diffuse right sided airspace disease with dense consolidation in the right base . a right upper extremity picc is seen with the tip in the right brachiocephalic vein representing an interval retraction of approximately cm . no pneumothorax or large effusions . heart size within normal limits . EOS\n",
      "PREDICTION:  SOS no acute cardiopulmonary abnormality . the heart size and mediastinal contours are within normal limits . the lungs are clear . no focal airspace disease . no pleural effusion or pneumothorax . EOS\n",
      "\n",
      "\n",
      "TAGS:  degenerative_change\n",
      "TARGET:  SOS no evidence of acute cardiopulmonary process . the xxxx examination consists of frontal and lateral radiographs of the chest . the cardiomediastinal contours are within normal limits . pulmonary vascularity is within normal limits . no focal consolidation pleural effusion or pneumothorax identified . there are xxxx multilevel degenerative changes of the thoracic spine . EOS\n",
      "PREDICTION:  SOS no acute cardiopulmonary abnormality . the heart size and mediastinal contours are within normal limits . the lungs are clear . no focal airspace disease . no pleural effusion or pneumothorax . EOS\n",
      "\n",
      "\n",
      "TAGS:  atelectases opacity atelectasis infiltrates cardiomegaly\n",
      "TARGET:  SOS  . cardiomegaly without pulmonary edema . . minimal bibasilar opacities which may reflect atelectasis or infiltrate . heart size is enlarged pulmonary vascularity within normal limits . cardiac defibrillator generator projects over the left mid lateral lung . no visible pneumothorax or pleural effusion . minimal streaky airspace opacities in the lower lobes . EOS\n",
      "PREDICTION:  SOS no acute cardiopulmonary abnormality . the heart is normal . the lungs are clear . the lungs are clear . there is no focal airspace disease . EOS\n",
      "\n",
      "\n",
      "TAGS:  copd hyperinflation pulmonary_disease__chronic_obstructive scarring scar arthritic_changes\n",
      "TARGET:  SOS copd and small left basilar scar . there is hyperinflation of the lungs . a small area scarring is seen in the left cardiophrenic xxxx region . there is no pleural effusion or pneumothorax . the heart is not significantly enlarged . there are atherosclerotic changes of the aorta . arthritic changes of the skeletal structures are noted . EOS\n",
      "PREDICTION:  SOS no acute cardiopulmonary abnormality . the heart size and mediastinal contours are within normal limits . the lungs are clear . no focal airspace disease . EOS\n",
      "\n",
      "\n",
      "TAGS:  atelectases atelectasis\n",
      "TARGET:  SOS  . left basilar atelectasis . . no focal airspace consolidation . the lungs focal airspace consolidation . there is atelectasis of the left lung base . the cardiomediastinal silhouette is normal in size and contour . there is no pneumothorax or large pleural effusion . cervical vertebral xxxx is partially visible at the top of the radiographs . EOS\n",
      "PREDICTION:  SOS no acute cardiopulmonary abnormality . the heart size and pulmonary vascularity are within normal limits . the lungs are clear . no focal airspace disease . no pleural effusion or pneumothorax . EOS\n",
      "\n",
      "\n",
      "TAGS:  pleural_effusion cicatrix scarring pleural_effusions\n",
      "TARGET:  SOS stable blunting of the left costophrenic xxxx which may represent persistent left pleural effusion versus pleural scarring . cardiomediastinal silhouette appears normal in size and contour . right lung is clear . stable blunting of costophrenic xxxx with improved aeration of the left base compared to prior exam . no visualized pneumothorax or focal consolidation . xxxx unremarkable . EOS\n",
      "PREDICTION:  SOS no acute cardiopulmonary abnormality . the heart is normal . the lungs are clear . the lungs are clear . there is no focal airspace disease . EOS\n",
      "\n",
      "\n",
      "TAGS:  bone_demineralization vascular_calcification scolioses shoulder_dislocation fracture_dislocation\n",
      "TARGET:  SOS clear lungs . fracture dislocation of the proximal right shoulder . heart size is normal . the lungs are clear . there are no focal air space consolidations . no pleural effusions or pneumothoraces . aortic vascular calcifications . normal pulmonary vascularity . fracture dislocation of the right shoulder . bone demineralization . scoliosis which is possibly positional . EOS\n",
      "PREDICTION:  SOS no acute cardiopulmonary abnormality . the heart size and mediastinal contours are within normal limits . the lungs are clear . no focal airspace disease . EOS\n",
      "\n",
      "\n",
      "TAGS:  eventration atelectases atelectasis diaphragm\n",
      "TARGET:  SOS no acute cardiopulmonary abnormality . . cardiomediastinal silhouette stable and unremarkable . stable eventration of the right hemidiaphragm . there is redemonstration without significant interval change of mild subsegmental atelectasis of the left base . pneumonia seen on ct examination dated xxxx xxxx not seen on prior chest x xxxx is not seen either on xxxx chest x xxxx . EOS\n",
      "PREDICTION:  SOS no acute cardiopulmonary abnormality . the heart size is normal . the lungs are clear . no focal airspace disease . EOS\n",
      "\n",
      "\n",
      "TAGS:  pleural_diseases scar sternotomy pleural_thickening\n",
      "TARGET:  SOS  . no acute pulmonary abnormality . the lungs and pleural spaces show no acute abnormality . xxxx scar in the right lateral midlung . adjacent focal pleural thickening is noted . chronic blunting of both lateral costophrenic xxxx . heart size and pulmonary vascularity within normal limits . tortuous ectatic thoracic aorta unchanged . xxxx sternotomy xxxx intact . EOS\n",
      "PREDICTION:  SOS no acute cardiopulmonary abnormality . the heart is normal . the lungs are clear . no focal airspace disease . no pleural effusion or pneumothorax . EOS\n",
      "\n",
      "\n",
      "TAGS:  degenerative_change\n",
      "TARGET:  SOS no acute pulmonary disease . lung volumes are decreased from xxxx and there is resultant bronchovascular crowding . no evidence of focal airspace disease . no definite pleural effusion or pneumothorax . cardiomediastinal silhouette is within normal limits given the low lung volumes . no free subdiaphragmatic air . grossly stable mild degenerative changes of the right lower thoracic spine . EOS\n",
      "PREDICTION:  SOS no acute cardiopulmonary abnormality . the heart size and mediastinal contours are within normal limits . the lungs are clear . no focal airspace disease . no pleural effusion or pneumothorax . EOS\n",
      "\n",
      "\n",
      "TAGS:  hematoma mediastinal_haematoma cardiomegaly\n",
      "TARGET:  SOS  . widened upper mediastinal silhouette . may represent vascular shadows exaggerated by supine and very lordotic imaging technique . however the setting of xxxx upper mediastinal hematoma not excluded . depending on clinical suspicion and mechanism further investigation may be warranted . . mild cardiomegaly appears stable . no edema . no layering pleural effusions focal consolidation or pneumothorax . EOS\n",
      "PREDICTION:  SOS no acute cardiopulmonary abnormality . the heart is normal . the lungs are clear . no focal airspace disease . no pleural effusion or pneumothorax . EOS\n",
      "\n",
      "\n",
      "TAGS:  pleural_effusion bypass_grafts sternotomy cardiomegaly pleural_thickening pleural_effusions\n",
      "TARGET:  SOS mild stable cardiomegaly without acute disease . possible xxxx right pleural effusion . the heart is enlarged . changes of xxxx sternotomy and bypass graft are identified in the lungs are grossly clear . xxxx right pleural thickening versus xxxx pleural effusion is noted . there is no acute infiltrate . no pneumothorax is seen . mild granulomatous sequela are noted . EOS\n",
      "PREDICTION:  SOS no acute cardiopulmonary abnormality . the heart is normal . the lungs are clear . no focal airspace disease . no pleural effusion or pleural effusion . EOS\n",
      "\n",
      "\n",
      "TAGS:  hilar_calcification inflammation pleural_effusion opacity infection pulmonary_edema nodule bilateral_pleural_effusion cardiomegaly\n",
      "TARGET:  SOS  . cardiomegaly and small bilateral pleural effusions . abnormal pulmonary opacities most suggestive of pulmonary edema primary differential diagnosis atypical infection and inflammation moderate cardiomegaly . mild bilateral costophrenic xxxx blunting and fissural thickening interstitial opacities greatest in the central lungs and bases with indistinct vascular margination . dense right lower lobe nodule and right hilar calcifications suggest a previous granulomatous process . EOS\n",
      "PREDICTION:  SOS  . no acute cardiopulmonary abnormality . the heart size and pulmonary vascularity is normal . the lungs are clear . no focal airspace disease . no pleural effusion or pleural effusion . EOS\n",
      "\n",
      "\n",
      "TAGS:  normal\n",
      "TARGET:  SOS  . xxxx lucency under the right hemidiaphragm may represent free intraperitoneal air . left lateral decubitus film may be helpful . . clear lungs . the cardiomediastinal silhouette is within normal limits . the lungs are clear without areas of focal consolidation . no pneumothorax or pleural effusion . xxxx lucency under the right hemidiaphragm may represent a focus of free air . EOS\n",
      "PREDICTION:  SOS no acute cardiopulmonary abnormality . the heart size and mediastinal contours are within normal limits . no focal airspace disease . no pleural effusion or pneumothorax . EOS\n",
      "\n",
      "\n",
      "TAGS:  tuberculosis__pulmonary tuberculoses tuberculosis\n",
      "TARGET:  SOS right apical cavitary lesion consistent with history of tuberculosis without active infectious process identified . irregularity within the right apex is consistent with patient s known cavitary lesion as a sequela of prior tuberculosis . no evidence of active infection . no focal consolidations pneumothorax or effusions identified . paramediastinal silhouette is stable and within normal limits and no acute bony abnormality is identified . EOS\n",
      "PREDICTION:  SOS no acute cardiopulmonary abnormality . the heart size and mediastinal contours are within normal limits . the lungs are clear . no focal airspace disease . EOS\n",
      "\n",
      "\n"
     ]
    }
   ],
   "source": [
    "# print in nat lang\n",
    "print_nl_pred_vs_tgt(pred_list, tgt_list, reports_index2word, tag_list, tags_index2word)"
   ]
  }
 ],
 "metadata": {
  "kernelspec": {
   "display_name": "bcic",
   "language": "python",
   "name": "bcic"
  },
  "language_info": {
   "codemirror_mode": {
    "name": "ipython",
    "version": 3
   },
   "file_extension": ".py",
   "mimetype": "text/x-python",
   "name": "python",
   "nbconvert_exporter": "python",
   "pygments_lexer": "ipython3",
   "version": "3.6.10"
  }
 },
 "nbformat": 4,
 "nbformat_minor": 1
}
